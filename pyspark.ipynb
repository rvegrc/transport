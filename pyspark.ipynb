{
 "cells": [
  {
   "cell_type": "code",
   "execution_count": 2,
   "metadata": {},
   "outputs": [],
   "source": [
    "import findspark\n",
    "findspark.init()\n",
    "import pyspark\n",
    "from pyspark.sql import SparkSession\n",
    "spark = SparkSession.builder.getOrCreate()"
   ]
  },
  {
   "cell_type": "code",
   "execution_count": 3,
   "metadata": {},
   "outputs": [
    {
     "data": {
      "text/plain": [
       "'2.0.1'"
      ]
     },
     "execution_count": 3,
     "metadata": {},
     "output_type": "execute_result"
    }
   ],
   "source": [
    "findspark.__version__"
   ]
  },
  {
   "cell_type": "code",
   "execution_count": 3,
   "metadata": {},
   "outputs": [
    {
     "name": "stderr",
     "output_type": "stream",
     "text": [
      "23/12/12 22:13:57 WARN Utils: Your hostname, len14 resolves to a loopback address: 127.0.1.1; using 192.168.1.113 instead (on interface wlp0s20f3)\n",
      "23/12/12 22:13:57 WARN Utils: Set SPARK_LOCAL_IP if you need to bind to another address\n",
      "Setting default log level to \"WARN\".\n",
      "To adjust logging level use sc.setLogLevel(newLevel). For SparkR, use setLogLevel(newLevel).\n",
      "23/12/12 22:13:58 WARN NativeCodeLoader: Unable to load native-hadoop library for your platform... using builtin-java classes where applicable\n"
     ]
    },
    {
     "name": "stdout",
     "output_type": "stream",
     "text": [
      "root\n",
      " |-- _c0: string (nullable = true)\n",
      " |-- _c1: string (nullable = true)\n",
      " |-- _c2: string (nullable = true)\n",
      " |-- _c3: string (nullable = true)\n",
      " |-- _c4: string (nullable = true)\n",
      " |-- _c5: string (nullable = true)\n",
      " |-- _c6: string (nullable = true)\n",
      "\n",
      "+--------+-------------+-------------+---------------+-------------------+----+------+\n",
      "|     _c0|          _c1|          _c2|            _c3|                _c4| _c5|   _c6|\n",
      "+--------+-------------+-------------+---------------+-------------------+----+------+\n",
      "|distance|own_container|complect_send|container_train|transportation_type|days| price|\n",
      "|    2808|            0|            1|              0|                  3|  12| 26497|\n",
      "|    4102|            0|            0|              0|                  3|  18| 45948|\n",
      "|    1211|            0|            1|              0|                  3|   7|152484|\n",
      "|    2836|            0|            1|              0|                  3|  10|176701|\n",
      "|    2808|            0|            1|              0|                  3|  10|176525|\n",
      "|    2316|            0|            1|              0|                  3|   9|169098|\n",
      "|    2483|            0|            1|              0|                  3|  10|171470|\n",
      "|    2329|            0|            1|              0|                  3|   9|169174|\n",
      "|    2475|            0|            1|              0|                  3|  10|171420|\n",
      "|    2367|            0|            1|              0|                  3|   9|169880|\n",
      "|   10148|            0|            1|              0|                  3|  27|257011|\n",
      "|   10281|            0|            1|              0|                  3|  27|288942|\n",
      "|    9352|            0|            1|              0|                  3|  25|275111|\n",
      "|   10301|            0|            1|              0|                  3|  27|289908|\n",
      "|    8848|            0|            1|              0|                  3|  24|267608|\n",
      "|    8948|            0|            1|              0|                  3|  24|269123|\n",
      "|    6774|            0|            1|              0|                  3|  19|236071|\n",
      "|    7532|            0|            1|              0|                  3|  21|247865|\n",
      "|    3367|            0|            1|              0|                  3|  11|183995|\n",
      "+--------+-------------+-------------+---------------+-------------------+----+------+\n",
      "only showing top 20 rows\n",
      "\n"
     ]
    }
   ],
   "source": [
    "\n",
    " \n",
    "df = spark.read.csv(\"data/transport.csv\")\n",
    " \n",
    "df.printSchema()\n",
    "df.show()"
   ]
  }
 ],
 "metadata": {
  "kernelspec": {
   "display_name": "zhd_transport_price",
   "language": "python",
   "name": "python3"
  },
  "language_info": {
   "codemirror_mode": {
    "name": "ipython",
    "version": 3
   },
   "file_extension": ".py",
   "mimetype": "text/x-python",
   "name": "python",
   "nbconvert_exporter": "python",
   "pygments_lexer": "ipython3",
   "version": "3.10.13"
  }
 },
 "nbformat": 4,
 "nbformat_minor": 2
}
