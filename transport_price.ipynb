{
 "cells": [
  {
   "cell_type": "markdown",
   "metadata": {},
   "source": [
    "## Import libraries"
   ]
  },
  {
   "cell_type": "code",
   "execution_count": 1,
   "metadata": {},
   "outputs": [],
   "source": [
    "# standard library imports\n",
    "import pandas as pd\n",
    "import numpy as np\n",
    "import sklearn\n",
    "\n",
    "#visualization\n",
    "import matplotlib.pyplot as plt\n",
    "import seaborn as sns\n",
    "\n",
    "import xgboost as xgb\n",
    "import optuna\n",
    "\n",
    "from optuna.visualization.matplotlib import plot_param_importances\n",
    "\n",
    "import mlflow\n",
    "\n",
    "# client = mlflow.MlflowClient(tracking_uri='http://127.0.0.1:8080')\n",
    "\n",
    "from sklearn.model_selection import cross_val_score\n",
    "\n",
    "\n",
    "from sklearn.model_selection import train_test_split, GridSearchCV \n",
    "from sklearn.svm import SVC\n",
    "\n",
    "from sklearn.pipeline import Pipeline as skl_pipeline\n",
    "\n",
    "from imblearn.pipeline import Pipeline as imb_pipeline\n",
    "from imblearn.over_sampling import SMOTE\n",
    "\n",
    "from sklearn.compose import ColumnTransformer\n",
    "from sklearn.preprocessing import OneHotEncoder, PowerTransformer\n",
    "\n",
    "sklearn.set_config(transform_output='pandas')\n",
    "\n",
    "# load scalers\n",
    "from sklearn.preprocessing import StandardScaler, RobustScaler, MinMaxScaler, MaxAbsScaler\n",
    "\n",
    "# load metrics\n",
    "from sklearn.metrics import mean_squared_error, mean_absolute_error\n",
    "\n",
    "from sklearn.metrics import roc_curve\n",
    "from sklearn.metrics import PredictionErrorDisplay\n",
    "\n",
    "pd.set_option('display.float_format', '{:.3f}'.format)\n",
    "\n",
    "\n",
    "\n",
    "# константы\n",
    "RAND_ST = 345\n"
   ]
  },
  {
   "cell_type": "code",
   "execution_count": 2,
   "metadata": {},
   "outputs": [
    {
     "data": {
      "text/plain": [
       "'1.3.2'"
      ]
     },
     "execution_count": 2,
     "metadata": {},
     "output_type": "execute_result"
    }
   ],
   "source": [
    "import sklearn\n",
    "sklearn.__version__"
   ]
  },
  {
   "cell_type": "markdown",
   "metadata": {},
   "source": [
    "## Import dataset"
   ]
  },
  {
   "cell_type": "code",
   "execution_count": 3,
   "metadata": {},
   "outputs": [
    {
     "name": "stdout",
     "output_type": "stream",
     "text": [
      "<class 'pandas.core.frame.DataFrame'>\n",
      "RangeIndex: 1572 entries, 0 to 1571\n",
      "Data columns (total 7 columns):\n",
      " #   Column               Non-Null Count  Dtype\n",
      "---  ------               --------------  -----\n",
      " 0   distance             1572 non-null   int64\n",
      " 1   own_container        1572 non-null   int64\n",
      " 2   complect_send        1572 non-null   int64\n",
      " 3   container_train      1572 non-null   int64\n",
      " 4   transportation_type  1572 non-null   int64\n",
      " 5   days                 1572 non-null   int64\n",
      " 6   price                1572 non-null   int64\n",
      "dtypes: int64(7)\n",
      "memory usage: 86.1 KB\n"
     ]
    },
    {
     "data": {
      "text/html": [
       "<div>\n",
       "<style scoped>\n",
       "    .dataframe tbody tr th:only-of-type {\n",
       "        vertical-align: middle;\n",
       "    }\n",
       "\n",
       "    .dataframe tbody tr th {\n",
       "        vertical-align: top;\n",
       "    }\n",
       "\n",
       "    .dataframe thead th {\n",
       "        text-align: right;\n",
       "    }\n",
       "</style>\n",
       "<table border=\"1\" class=\"dataframe\">\n",
       "  <thead>\n",
       "    <tr style=\"text-align: right;\">\n",
       "      <th></th>\n",
       "      <th>distance</th>\n",
       "      <th>own_container</th>\n",
       "      <th>complect_send</th>\n",
       "      <th>container_train</th>\n",
       "      <th>transportation_type</th>\n",
       "      <th>days</th>\n",
       "      <th>price</th>\n",
       "    </tr>\n",
       "  </thead>\n",
       "  <tbody>\n",
       "    <tr>\n",
       "      <th>0</th>\n",
       "      <td>2808</td>\n",
       "      <td>0</td>\n",
       "      <td>1</td>\n",
       "      <td>0</td>\n",
       "      <td>3</td>\n",
       "      <td>12</td>\n",
       "      <td>26497</td>\n",
       "    </tr>\n",
       "    <tr>\n",
       "      <th>1</th>\n",
       "      <td>4102</td>\n",
       "      <td>0</td>\n",
       "      <td>0</td>\n",
       "      <td>0</td>\n",
       "      <td>3</td>\n",
       "      <td>18</td>\n",
       "      <td>45948</td>\n",
       "    </tr>\n",
       "    <tr>\n",
       "      <th>2</th>\n",
       "      <td>1211</td>\n",
       "      <td>0</td>\n",
       "      <td>1</td>\n",
       "      <td>0</td>\n",
       "      <td>3</td>\n",
       "      <td>7</td>\n",
       "      <td>152484</td>\n",
       "    </tr>\n",
       "    <tr>\n",
       "      <th>3</th>\n",
       "      <td>2836</td>\n",
       "      <td>0</td>\n",
       "      <td>1</td>\n",
       "      <td>0</td>\n",
       "      <td>3</td>\n",
       "      <td>10</td>\n",
       "      <td>176701</td>\n",
       "    </tr>\n",
       "    <tr>\n",
       "      <th>4</th>\n",
       "      <td>2808</td>\n",
       "      <td>0</td>\n",
       "      <td>1</td>\n",
       "      <td>0</td>\n",
       "      <td>3</td>\n",
       "      <td>10</td>\n",
       "      <td>176525</td>\n",
       "    </tr>\n",
       "  </tbody>\n",
       "</table>\n",
       "</div>"
      ],
      "text/plain": [
       "   distance  own_container  complect_send  container_train  \\\n",
       "0      2808              0              1                0   \n",
       "1      4102              0              0                0   \n",
       "2      1211              0              1                0   \n",
       "3      2836              0              1                0   \n",
       "4      2808              0              1                0   \n",
       "\n",
       "   transportation_type  days   price  \n",
       "0                    3    12   26497  \n",
       "1                    3    18   45948  \n",
       "2                    3     7  152484  \n",
       "3                    3    10  176701  \n",
       "4                    3    10  176525  "
      ]
     },
     "execution_count": 3,
     "metadata": {},
     "output_type": "execute_result"
    }
   ],
   "source": [
    "\n",
    "df = pd.read_csv('datasets/transport.csv')\n",
    "df.info()\n",
    "df.head()\n"
   ]
  },
  {
   "cell_type": "markdown",
   "metadata": {},
   "source": [
    "## EDA"
   ]
  },
  {
   "cell_type": "code",
   "execution_count": 4,
   "metadata": {},
   "outputs": [
    {
     "data": {
      "text/plain": [
       "distance               0\n",
       "own_container          0\n",
       "complect_send          0\n",
       "container_train        0\n",
       "transportation_type    0\n",
       "days                   0\n",
       "price                  0\n",
       "dtype: int64"
      ]
     },
     "metadata": {},
     "output_type": "display_data"
    },
    {
     "data": {
      "text/plain": [
       "distance               536\n",
       "own_container            2\n",
       "complect_send            2\n",
       "container_train          2\n",
       "transportation_type      4\n",
       "days                    35\n",
       "price                  765\n",
       "dtype: int64"
      ]
     },
     "metadata": {},
     "output_type": "display_data"
    },
    {
     "data": {
      "text/html": [
       "<div>\n",
       "<style scoped>\n",
       "    .dataframe tbody tr th:only-of-type {\n",
       "        vertical-align: middle;\n",
       "    }\n",
       "\n",
       "    .dataframe tbody tr th {\n",
       "        vertical-align: top;\n",
       "    }\n",
       "\n",
       "    .dataframe thead th {\n",
       "        text-align: right;\n",
       "    }\n",
       "</style>\n",
       "<table border=\"1\" class=\"dataframe\">\n",
       "  <thead>\n",
       "    <tr style=\"text-align: right;\">\n",
       "      <th></th>\n",
       "      <th>distance</th>\n",
       "      <th>own_container</th>\n",
       "      <th>complect_send</th>\n",
       "      <th>container_train</th>\n",
       "      <th>transportation_type</th>\n",
       "      <th>days</th>\n",
       "      <th>price</th>\n",
       "    </tr>\n",
       "  </thead>\n",
       "  <tbody>\n",
       "    <tr>\n",
       "      <th>count</th>\n",
       "      <td>1572.000</td>\n",
       "      <td>1572.000</td>\n",
       "      <td>1572.000</td>\n",
       "      <td>1572.000</td>\n",
       "      <td>1572.000</td>\n",
       "      <td>1572.000</td>\n",
       "      <td>1572.000</td>\n",
       "    </tr>\n",
       "    <tr>\n",
       "      <th>mean</th>\n",
       "      <td>4732.854</td>\n",
       "      <td>0.034</td>\n",
       "      <td>0.367</td>\n",
       "      <td>0.272</td>\n",
       "      <td>2.772</td>\n",
       "      <td>16.492</td>\n",
       "      <td>176175.534</td>\n",
       "    </tr>\n",
       "    <tr>\n",
       "      <th>std</th>\n",
       "      <td>2147.144</td>\n",
       "      <td>0.181</td>\n",
       "      <td>0.482</td>\n",
       "      <td>0.445</td>\n",
       "      <td>0.636</td>\n",
       "      <td>6.440</td>\n",
       "      <td>871625.834</td>\n",
       "    </tr>\n",
       "    <tr>\n",
       "      <th>min</th>\n",
       "      <td>18.000</td>\n",
       "      <td>0.000</td>\n",
       "      <td>0.000</td>\n",
       "      <td>0.000</td>\n",
       "      <td>1.000</td>\n",
       "      <td>4.000</td>\n",
       "      <td>1000.000</td>\n",
       "    </tr>\n",
       "    <tr>\n",
       "      <th>25%</th>\n",
       "      <td>3684.000</td>\n",
       "      <td>0.000</td>\n",
       "      <td>0.000</td>\n",
       "      <td>0.000</td>\n",
       "      <td>3.000</td>\n",
       "      <td>12.000</td>\n",
       "      <td>48151.000</td>\n",
       "    </tr>\n",
       "    <tr>\n",
       "      <th>50%</th>\n",
       "      <td>4307.000</td>\n",
       "      <td>0.000</td>\n",
       "      <td>0.000</td>\n",
       "      <td>0.000</td>\n",
       "      <td>3.000</td>\n",
       "      <td>17.000</td>\n",
       "      <td>144243.000</td>\n",
       "    </tr>\n",
       "    <tr>\n",
       "      <th>75%</th>\n",
       "      <td>4951.250</td>\n",
       "      <td>0.000</td>\n",
       "      <td>1.000</td>\n",
       "      <td>1.000</td>\n",
       "      <td>3.000</td>\n",
       "      <td>19.000</td>\n",
       "      <td>179355.250</td>\n",
       "    </tr>\n",
       "    <tr>\n",
       "      <th>max</th>\n",
       "      <td>10645.000</td>\n",
       "      <td>1.000</td>\n",
       "      <td>1.000</td>\n",
       "      <td>1.000</td>\n",
       "      <td>4.000</td>\n",
       "      <td>41.000</td>\n",
       "      <td>33800995.000</td>\n",
       "    </tr>\n",
       "  </tbody>\n",
       "</table>\n",
       "</div>"
      ],
      "text/plain": [
       "       distance  own_container  complect_send  container_train  \\\n",
       "count  1572.000       1572.000       1572.000         1572.000   \n",
       "mean   4732.854          0.034          0.367            0.272   \n",
       "std    2147.144          0.181          0.482            0.445   \n",
       "min      18.000          0.000          0.000            0.000   \n",
       "25%    3684.000          0.000          0.000            0.000   \n",
       "50%    4307.000          0.000          0.000            0.000   \n",
       "75%    4951.250          0.000          1.000            1.000   \n",
       "max   10645.000          1.000          1.000            1.000   \n",
       "\n",
       "       transportation_type     days        price  \n",
       "count             1572.000 1572.000     1572.000  \n",
       "mean                 2.772   16.492   176175.534  \n",
       "std                  0.636    6.440   871625.834  \n",
       "min                  1.000    4.000     1000.000  \n",
       "25%                  3.000   12.000    48151.000  \n",
       "50%                  3.000   17.000   144243.000  \n",
       "75%                  3.000   19.000   179355.250  \n",
       "max                  4.000   41.000 33800995.000  "
      ]
     },
     "metadata": {},
     "output_type": "display_data"
    }
   ],
   "source": [
    "display(df.isna().sum(), df.nunique(), df.describe())\n"
   ]
  },
  {
   "cell_type": "code",
   "execution_count": 5,
   "metadata": {},
   "outputs": [
    {
     "name": "stdout",
     "output_type": "stream",
     "text": [
      "       distance  own_container  complect_send  container_train  \\\n",
      "count  1571.000       1571.000       1571.000         1571.000   \n",
      "mean   4733.255          0.034          0.367            0.272   \n",
      "std    2147.768          0.181          0.482            0.445   \n",
      "min      18.000          0.000          0.000            0.000   \n",
      "25%    3684.000          0.000          0.000            0.000   \n",
      "50%    4311.000          0.000          0.000            0.000   \n",
      "75%    4951.500          0.000          1.000            1.000   \n",
      "max   10645.000          1.000          1.000            1.000   \n",
      "\n",
      "       transportation_type     days       price  \n",
      "count             1571.000 1571.000    1571.000  \n",
      "mean                 2.771   16.491  154772.085  \n",
      "std                  0.636    6.442  199026.556  \n",
      "min                  1.000    4.000    1000.000  \n",
      "25%                  3.000   12.000   48151.000  \n",
      "50%                  3.000   17.000  144227.000  \n",
      "75%                  3.000   19.000  179063.500  \n",
      "max                  4.000   41.000 2510946.000  \n"
     ]
    },
    {
     "data": {
      "text/plain": [
       "<Axes: ylabel='price'>"
      ]
     },
     "execution_count": 5,
     "metadata": {},
     "output_type": "execute_result"
    },
    {
     "data": {
      "image/png": "[encoded data removed]",
      "text/plain": [
       "<Figure size 640x480 with 1 Axes>"
      ]
     },
     "metadata": {},
     "output_type": "display_data"
    }
   ],
   "source": [
    "df = df[df['price'] < 33800995.000]\n",
    "print(df.describe())\n",
    "sns.boxplot(df['price'])"
   ]
  },
  {
   "cell_type": "code",
   "execution_count": 6,
   "metadata": {},
   "outputs": [
    {
     "data": {
      "text/html": [
       "<div>\n",
       "<style scoped>\n",
       "    .dataframe tbody tr th:only-of-type {\n",
       "        vertical-align: middle;\n",
       "    }\n",
       "\n",
       "    .dataframe tbody tr th {\n",
       "        vertical-align: top;\n",
       "    }\n",
       "\n",
       "    .dataframe thead th {\n",
       "        text-align: right;\n",
       "    }\n",
       "</style>\n",
       "<table border=\"1\" class=\"dataframe\">\n",
       "  <thead>\n",
       "    <tr style=\"text-align: right;\">\n",
       "      <th></th>\n",
       "      <th>distance</th>\n",
       "      <th>own_container</th>\n",
       "      <th>complect_send</th>\n",
       "      <th>container_train</th>\n",
       "      <th>transportation_type</th>\n",
       "      <th>days</th>\n",
       "      <th>price</th>\n",
       "    </tr>\n",
       "  </thead>\n",
       "  <tbody>\n",
       "    <tr>\n",
       "      <th>594</th>\n",
       "      <td>9274</td>\n",
       "      <td>0</td>\n",
       "      <td>0</td>\n",
       "      <td>1</td>\n",
       "      <td>3</td>\n",
       "      <td>22</td>\n",
       "      <td>2510946</td>\n",
       "    </tr>\n",
       "    <tr>\n",
       "      <th>1458</th>\n",
       "      <td>10388</td>\n",
       "      <td>0</td>\n",
       "      <td>0</td>\n",
       "      <td>1</td>\n",
       "      <td>3</td>\n",
       "      <td>21</td>\n",
       "      <td>2162284</td>\n",
       "    </tr>\n",
       "    <tr>\n",
       "      <th>916</th>\n",
       "      <td>9416</td>\n",
       "      <td>0</td>\n",
       "      <td>0</td>\n",
       "      <td>1</td>\n",
       "      <td>1</td>\n",
       "      <td>23</td>\n",
       "      <td>2067167</td>\n",
       "    </tr>\n",
       "    <tr>\n",
       "      <th>701</th>\n",
       "      <td>9416</td>\n",
       "      <td>0</td>\n",
       "      <td>0</td>\n",
       "      <td>1</td>\n",
       "      <td>1</td>\n",
       "      <td>23</td>\n",
       "      <td>2067167</td>\n",
       "    </tr>\n",
       "    <tr>\n",
       "      <th>915</th>\n",
       "      <td>9278</td>\n",
       "      <td>0</td>\n",
       "      <td>0</td>\n",
       "      <td>1</td>\n",
       "      <td>1</td>\n",
       "      <td>22</td>\n",
       "      <td>2050353</td>\n",
       "    </tr>\n",
       "    <tr>\n",
       "      <th>704</th>\n",
       "      <td>9278</td>\n",
       "      <td>0</td>\n",
       "      <td>0</td>\n",
       "      <td>1</td>\n",
       "      <td>1</td>\n",
       "      <td>22</td>\n",
       "      <td>2050353</td>\n",
       "    </tr>\n",
       "    <tr>\n",
       "      <th>917</th>\n",
       "      <td>9263</td>\n",
       "      <td>0</td>\n",
       "      <td>0</td>\n",
       "      <td>1</td>\n",
       "      <td>1</td>\n",
       "      <td>22</td>\n",
       "      <td>2048400</td>\n",
       "    </tr>\n",
       "    <tr>\n",
       "      <th>703</th>\n",
       "      <td>9263</td>\n",
       "      <td>0</td>\n",
       "      <td>0</td>\n",
       "      <td>1</td>\n",
       "      <td>1</td>\n",
       "      <td>22</td>\n",
       "      <td>2048400</td>\n",
       "    </tr>\n",
       "    <tr>\n",
       "      <th>72</th>\n",
       "      <td>9416</td>\n",
       "      <td>0</td>\n",
       "      <td>0</td>\n",
       "      <td>1</td>\n",
       "      <td>1</td>\n",
       "      <td>23</td>\n",
       "      <td>1848431</td>\n",
       "    </tr>\n",
       "    <tr>\n",
       "      <th>70</th>\n",
       "      <td>9263</td>\n",
       "      <td>0</td>\n",
       "      <td>0</td>\n",
       "      <td>1</td>\n",
       "      <td>1</td>\n",
       "      <td>22</td>\n",
       "      <td>1829664</td>\n",
       "    </tr>\n",
       "    <tr>\n",
       "      <th>69</th>\n",
       "      <td>7963</td>\n",
       "      <td>0</td>\n",
       "      <td>0</td>\n",
       "      <td>1</td>\n",
       "      <td>1</td>\n",
       "      <td>20</td>\n",
       "      <td>1678000</td>\n",
       "    </tr>\n",
       "    <tr>\n",
       "      <th>918</th>\n",
       "      <td>6647</td>\n",
       "      <td>0</td>\n",
       "      <td>0</td>\n",
       "      <td>1</td>\n",
       "      <td>1</td>\n",
       "      <td>18</td>\n",
       "      <td>1520376</td>\n",
       "    </tr>\n",
       "    <tr>\n",
       "      <th>71</th>\n",
       "      <td>6647</td>\n",
       "      <td>0</td>\n",
       "      <td>0</td>\n",
       "      <td>1</td>\n",
       "      <td>1</td>\n",
       "      <td>18</td>\n",
       "      <td>1520376</td>\n",
       "    </tr>\n",
       "    <tr>\n",
       "      <th>702</th>\n",
       "      <td>6647</td>\n",
       "      <td>0</td>\n",
       "      <td>0</td>\n",
       "      <td>1</td>\n",
       "      <td>1</td>\n",
       "      <td>18</td>\n",
       "      <td>1520376</td>\n",
       "    </tr>\n",
       "    <tr>\n",
       "      <th>80</th>\n",
       "      <td>9278</td>\n",
       "      <td>0</td>\n",
       "      <td>0</td>\n",
       "      <td>0</td>\n",
       "      <td>1</td>\n",
       "      <td>38</td>\n",
       "      <td>1500000</td>\n",
       "    </tr>\n",
       "    <tr>\n",
       "      <th>638</th>\n",
       "      <td>6995</td>\n",
       "      <td>1</td>\n",
       "      <td>0</td>\n",
       "      <td>1</td>\n",
       "      <td>2</td>\n",
       "      <td>24</td>\n",
       "      <td>1208954</td>\n",
       "    </tr>\n",
       "    <tr>\n",
       "      <th>653</th>\n",
       "      <td>4102</td>\n",
       "      <td>0</td>\n",
       "      <td>0</td>\n",
       "      <td>1</td>\n",
       "      <td>3</td>\n",
       "      <td>15</td>\n",
       "      <td>1056373</td>\n",
       "    </tr>\n",
       "    <tr>\n",
       "      <th>550</th>\n",
       "      <td>7670</td>\n",
       "      <td>1</td>\n",
       "      <td>0</td>\n",
       "      <td>1</td>\n",
       "      <td>4</td>\n",
       "      <td>15</td>\n",
       "      <td>1048714</td>\n",
       "    </tr>\n",
       "    <tr>\n",
       "      <th>552</th>\n",
       "      <td>7670</td>\n",
       "      <td>1</td>\n",
       "      <td>0</td>\n",
       "      <td>1</td>\n",
       "      <td>4</td>\n",
       "      <td>15</td>\n",
       "      <td>1024013</td>\n",
       "    </tr>\n",
       "    <tr>\n",
       "      <th>551</th>\n",
       "      <td>7670</td>\n",
       "      <td>1</td>\n",
       "      <td>0</td>\n",
       "      <td>1</td>\n",
       "      <td>4</td>\n",
       "      <td>15</td>\n",
       "      <td>1024013</td>\n",
       "    </tr>\n",
       "    <tr>\n",
       "      <th>562</th>\n",
       "      <td>5312</td>\n",
       "      <td>1</td>\n",
       "      <td>0</td>\n",
       "      <td>1</td>\n",
       "      <td>1</td>\n",
       "      <td>16</td>\n",
       "      <td>880229</td>\n",
       "    </tr>\n",
       "    <tr>\n",
       "      <th>564</th>\n",
       "      <td>5159</td>\n",
       "      <td>1</td>\n",
       "      <td>0</td>\n",
       "      <td>1</td>\n",
       "      <td>1</td>\n",
       "      <td>16</td>\n",
       "      <td>869648</td>\n",
       "    </tr>\n",
       "    <tr>\n",
       "      <th>599</th>\n",
       "      <td>4665</td>\n",
       "      <td>0</td>\n",
       "      <td>0</td>\n",
       "      <td>1</td>\n",
       "      <td>3</td>\n",
       "      <td>13</td>\n",
       "      <td>832258</td>\n",
       "    </tr>\n",
       "    <tr>\n",
       "      <th>671</th>\n",
       "      <td>2808</td>\n",
       "      <td>0</td>\n",
       "      <td>0</td>\n",
       "      <td>1</td>\n",
       "      <td>3</td>\n",
       "      <td>11</td>\n",
       "      <td>699476</td>\n",
       "    </tr>\n",
       "    <tr>\n",
       "      <th>669</th>\n",
       "      <td>2808</td>\n",
       "      <td>0</td>\n",
       "      <td>0</td>\n",
       "      <td>1</td>\n",
       "      <td>3</td>\n",
       "      <td>11</td>\n",
       "      <td>699476</td>\n",
       "    </tr>\n",
       "    <tr>\n",
       "      <th>668</th>\n",
       "      <td>2808</td>\n",
       "      <td>0</td>\n",
       "      <td>0</td>\n",
       "      <td>1</td>\n",
       "      <td>3</td>\n",
       "      <td>11</td>\n",
       "      <td>699476</td>\n",
       "    </tr>\n",
       "    <tr>\n",
       "      <th>565</th>\n",
       "      <td>3859</td>\n",
       "      <td>1</td>\n",
       "      <td>0</td>\n",
       "      <td>1</td>\n",
       "      <td>1</td>\n",
       "      <td>13</td>\n",
       "      <td>674348</td>\n",
       "    </tr>\n",
       "    <tr>\n",
       "      <th>576</th>\n",
       "      <td>4102</td>\n",
       "      <td>1</td>\n",
       "      <td>0</td>\n",
       "      <td>1</td>\n",
       "      <td>3</td>\n",
       "      <td>10</td>\n",
       "      <td>665977</td>\n",
       "    </tr>\n",
       "    <tr>\n",
       "      <th>568</th>\n",
       "      <td>4102</td>\n",
       "      <td>1</td>\n",
       "      <td>0</td>\n",
       "      <td>1</td>\n",
       "      <td>3</td>\n",
       "      <td>10</td>\n",
       "      <td>665977</td>\n",
       "    </tr>\n",
       "    <tr>\n",
       "      <th>567</th>\n",
       "      <td>4102</td>\n",
       "      <td>1</td>\n",
       "      <td>0</td>\n",
       "      <td>1</td>\n",
       "      <td>3</td>\n",
       "      <td>10</td>\n",
       "      <td>665977</td>\n",
       "    </tr>\n",
       "    <tr>\n",
       "      <th>639</th>\n",
       "      <td>2543</td>\n",
       "      <td>0</td>\n",
       "      <td>0</td>\n",
       "      <td>1</td>\n",
       "      <td>1</td>\n",
       "      <td>11</td>\n",
       "      <td>638287</td>\n",
       "    </tr>\n",
       "    <tr>\n",
       "      <th>563</th>\n",
       "      <td>2543</td>\n",
       "      <td>1</td>\n",
       "      <td>0</td>\n",
       "      <td>1</td>\n",
       "      <td>1</td>\n",
       "      <td>11</td>\n",
       "      <td>574287</td>\n",
       "    </tr>\n",
       "    <tr>\n",
       "      <th>548</th>\n",
       "      <td>7670</td>\n",
       "      <td>1</td>\n",
       "      <td>0</td>\n",
       "      <td>1</td>\n",
       "      <td>4</td>\n",
       "      <td>15</td>\n",
       "      <td>381714</td>\n",
       "    </tr>\n",
       "    <tr>\n",
       "      <th>547</th>\n",
       "      <td>7670</td>\n",
       "      <td>1</td>\n",
       "      <td>0</td>\n",
       "      <td>1</td>\n",
       "      <td>4</td>\n",
       "      <td>15</td>\n",
       "      <td>381714</td>\n",
       "    </tr>\n",
       "    <tr>\n",
       "      <th>741</th>\n",
       "      <td>6999</td>\n",
       "      <td>0</td>\n",
       "      <td>0</td>\n",
       "      <td>0</td>\n",
       "      <td>2</td>\n",
       "      <td>37</td>\n",
       "      <td>358313</td>\n",
       "    </tr>\n",
       "    <tr>\n",
       "      <th>748</th>\n",
       "      <td>6999</td>\n",
       "      <td>0</td>\n",
       "      <td>0</td>\n",
       "      <td>1</td>\n",
       "      <td>2</td>\n",
       "      <td>24</td>\n",
       "      <td>335481</td>\n",
       "    </tr>\n",
       "    <tr>\n",
       "      <th>1100</th>\n",
       "      <td>10645</td>\n",
       "      <td>0</td>\n",
       "      <td>0</td>\n",
       "      <td>0</td>\n",
       "      <td>3</td>\n",
       "      <td>39</td>\n",
       "      <td>319476</td>\n",
       "    </tr>\n",
       "  </tbody>\n",
       "</table>\n",
       "</div>"
      ],
      "text/plain": [
       "      distance  own_container  complect_send  container_train  \\\n",
       "594       9274              0              0                1   \n",
       "1458     10388              0              0                1   \n",
       "916       9416              0              0                1   \n",
       "701       9416              0              0                1   \n",
       "915       9278              0              0                1   \n",
       "704       9278              0              0                1   \n",
       "917       9263              0              0                1   \n",
       "703       9263              0              0                1   \n",
       "72        9416              0              0                1   \n",
       "70        9263              0              0                1   \n",
       "69        7963              0              0                1   \n",
       "918       6647              0              0                1   \n",
       "71        6647              0              0                1   \n",
       "702       6647              0              0                1   \n",
       "80        9278              0              0                0   \n",
       "638       6995              1              0                1   \n",
       "653       4102              0              0                1   \n",
       "550       7670              1              0                1   \n",
       "552       7670              1              0                1   \n",
       "551       7670              1              0                1   \n",
       "562       5312              1              0                1   \n",
       "564       5159              1              0                1   \n",
       "599       4665              0              0                1   \n",
       "671       2808              0              0                1   \n",
       "669       2808              0              0                1   \n",
       "668       2808              0              0                1   \n",
       "565       3859              1              0                1   \n",
       "576       4102              1              0                1   \n",
       "568       4102              1              0                1   \n",
       "567       4102              1              0                1   \n",
       "639       2543              0              0                1   \n",
       "563       2543              1              0                1   \n",
       "548       7670              1              0                1   \n",
       "547       7670              1              0                1   \n",
       "741       6999              0              0                0   \n",
       "748       6999              0              0                1   \n",
       "1100     10645              0              0                0   \n",
       "\n",
       "      transportation_type  days    price  \n",
       "594                     3    22  2510946  \n",
       "1458                    3    21  2162284  \n",
       "916                     1    23  2067167  \n",
       "701                     1    23  2067167  \n",
       "915                     1    22  2050353  \n",
       "704                     1    22  2050353  \n",
       "917                     1    22  2048400  \n",
       "703                     1    22  2048400  \n",
       "72                      1    23  1848431  \n",
       "70                      1    22  1829664  \n",
       "69                      1    20  1678000  \n",
       "918                     1    18  1520376  \n",
       "71                      1    18  1520376  \n",
       "702                     1    18  1520376  \n",
       "80                      1    38  1500000  \n",
       "638                     2    24  1208954  \n",
       "653                     3    15  1056373  \n",
       "550                     4    15  1048714  \n",
       "552                     4    15  1024013  \n",
       "551                     4    15  1024013  \n",
       "562                     1    16   880229  \n",
       "564                     1    16   869648  \n",
       "599                     3    13   832258  \n",
       "671                     3    11   699476  \n",
       "669                     3    11   699476  \n",
       "668                     3    11   699476  \n",
       "565                     1    13   674348  \n",
       "576                     3    10   665977  \n",
       "568                     3    10   665977  \n",
       "567                     3    10   665977  \n",
       "639                     1    11   638287  \n",
       "563                     1    11   574287  \n",
       "548                     4    15   381714  \n",
       "547                     4    15   381714  \n",
       "741                     2    37   358313  \n",
       "748                     2    24   335481  \n",
       "1100                    3    39   319476  "
      ]
     },
     "execution_count": 6,
     "metadata": {},
     "output_type": "execute_result"
    }
   ],
   "source": [
    "df[df['price'] > 300000].sort_values('price', ascending=False)\n",
    "\n",
    "# сколько контейнеров, объем контейнера. вес контейнера, расчет с привязкой к валюте или еще чему то, ценность груза, вид контейнера - холодильник, цистерна дрр"
   ]
  },
  {
   "cell_type": "code",
   "execution_count": 7,
   "metadata": {},
   "outputs": [
    {
     "data": {
      "text/html": [
       "<div>\n",
       "<style scoped>\n",
       "    .dataframe tbody tr th:only-of-type {\n",
       "        vertical-align: middle;\n",
       "    }\n",
       "\n",
       "    .dataframe tbody tr th {\n",
       "        vertical-align: top;\n",
       "    }\n",
       "\n",
       "    .dataframe thead th {\n",
       "        text-align: right;\n",
       "    }\n",
       "</style>\n",
       "<table border=\"1\" class=\"dataframe\">\n",
       "  <thead>\n",
       "    <tr style=\"text-align: right;\">\n",
       "      <th></th>\n",
       "      <th>distance</th>\n",
       "      <th>days</th>\n",
       "      <th>price</th>\n",
       "    </tr>\n",
       "  </thead>\n",
       "  <tbody>\n",
       "    <tr>\n",
       "      <th>distance</th>\n",
       "      <td>1.000</td>\n",
       "      <td>0.719</td>\n",
       "      <td>0.641</td>\n",
       "    </tr>\n",
       "    <tr>\n",
       "      <th>days</th>\n",
       "      <td>0.719</td>\n",
       "      <td>1.000</td>\n",
       "      <td>0.277</td>\n",
       "    </tr>\n",
       "    <tr>\n",
       "      <th>price</th>\n",
       "      <td>0.641</td>\n",
       "      <td>0.277</td>\n",
       "      <td>1.000</td>\n",
       "    </tr>\n",
       "  </tbody>\n",
       "</table>\n",
       "</div>"
      ],
      "text/plain": [
       "          distance  days  price\n",
       "distance     1.000 0.719  0.641\n",
       "days         0.719 1.000  0.277\n",
       "price        0.641 0.277  1.000"
      ]
     },
     "execution_count": 7,
     "metadata": {},
     "output_type": "execute_result"
    }
   ],
   "source": [
    "df[df['price'] > 300000][['distance', 'days', 'price']].corr()"
   ]
  },
  {
   "cell_type": "code",
   "execution_count": 8,
   "metadata": {},
   "outputs": [
    {
     "data": {
      "text/html": [
       "<div>\n",
       "<style scoped>\n",
       "    .dataframe tbody tr th:only-of-type {\n",
       "        vertical-align: middle;\n",
       "    }\n",
       "\n",
       "    .dataframe tbody tr th {\n",
       "        vertical-align: top;\n",
       "    }\n",
       "\n",
       "    .dataframe thead th {\n",
       "        text-align: right;\n",
       "    }\n",
       "</style>\n",
       "<table border=\"1\" class=\"dataframe\">\n",
       "  <thead>\n",
       "    <tr style=\"text-align: right;\">\n",
       "      <th></th>\n",
       "      <th>distance</th>\n",
       "      <th>own_container</th>\n",
       "      <th>complect_send</th>\n",
       "      <th>container_train</th>\n",
       "      <th>transportation_type</th>\n",
       "      <th>days</th>\n",
       "      <th>price</th>\n",
       "    </tr>\n",
       "  </thead>\n",
       "  <tbody>\n",
       "    <tr>\n",
       "      <th>count</th>\n",
       "      <td>1534.000</td>\n",
       "      <td>1534.000</td>\n",
       "      <td>1534.000</td>\n",
       "      <td>1534.000</td>\n",
       "      <td>1534.000</td>\n",
       "      <td>1534.000</td>\n",
       "      <td>1534.000</td>\n",
       "    </tr>\n",
       "    <tr>\n",
       "      <th>mean</th>\n",
       "      <td>4684.228</td>\n",
       "      <td>0.026</td>\n",
       "      <td>0.376</td>\n",
       "      <td>0.257</td>\n",
       "      <td>2.788</td>\n",
       "      <td>16.439</td>\n",
       "      <td>129739.551</td>\n",
       "    </tr>\n",
       "    <tr>\n",
       "      <th>std</th>\n",
       "      <td>2115.117</td>\n",
       "      <td>0.159</td>\n",
       "      <td>0.485</td>\n",
       "      <td>0.437</td>\n",
       "      <td>0.609</td>\n",
       "      <td>6.410</td>\n",
       "      <td>64042.769</td>\n",
       "    </tr>\n",
       "    <tr>\n",
       "      <th>min</th>\n",
       "      <td>18.000</td>\n",
       "      <td>0.000</td>\n",
       "      <td>0.000</td>\n",
       "      <td>0.000</td>\n",
       "      <td>1.000</td>\n",
       "      <td>4.000</td>\n",
       "      <td>1000.000</td>\n",
       "    </tr>\n",
       "    <tr>\n",
       "      <th>25%</th>\n",
       "      <td>3610.500</td>\n",
       "      <td>0.000</td>\n",
       "      <td>0.000</td>\n",
       "      <td>0.000</td>\n",
       "      <td>3.000</td>\n",
       "      <td>12.000</td>\n",
       "      <td>45948.000</td>\n",
       "    </tr>\n",
       "    <tr>\n",
       "      <th>50%</th>\n",
       "      <td>4290.000</td>\n",
       "      <td>0.000</td>\n",
       "      <td>0.000</td>\n",
       "      <td>0.000</td>\n",
       "      <td>3.000</td>\n",
       "      <td>17.000</td>\n",
       "      <td>141916.000</td>\n",
       "    </tr>\n",
       "    <tr>\n",
       "      <th>75%</th>\n",
       "      <td>4905.000</td>\n",
       "      <td>0.000</td>\n",
       "      <td>1.000</td>\n",
       "      <td>1.000</td>\n",
       "      <td>3.000</td>\n",
       "      <td>18.000</td>\n",
       "      <td>176707.750</td>\n",
       "    </tr>\n",
       "    <tr>\n",
       "      <th>max</th>\n",
       "      <td>10645.000</td>\n",
       "      <td>1.000</td>\n",
       "      <td>1.000</td>\n",
       "      <td>1.000</td>\n",
       "      <td>4.000</td>\n",
       "      <td>41.000</td>\n",
       "      <td>295637.000</td>\n",
       "    </tr>\n",
       "  </tbody>\n",
       "</table>\n",
       "</div>"
      ],
      "text/plain": [
       "       distance  own_container  complect_send  container_train  \\\n",
       "count  1534.000       1534.000       1534.000         1534.000   \n",
       "mean   4684.228          0.026          0.376            0.257   \n",
       "std    2115.117          0.159          0.485            0.437   \n",
       "min      18.000          0.000          0.000            0.000   \n",
       "25%    3610.500          0.000          0.000            0.000   \n",
       "50%    4290.000          0.000          0.000            0.000   \n",
       "75%    4905.000          0.000          1.000            1.000   \n",
       "max   10645.000          1.000          1.000            1.000   \n",
       "\n",
       "       transportation_type     days      price  \n",
       "count             1534.000 1534.000   1534.000  \n",
       "mean                 2.788   16.439 129739.551  \n",
       "std                  0.609    6.410  64042.769  \n",
       "min                  1.000    4.000   1000.000  \n",
       "25%                  3.000   12.000  45948.000  \n",
       "50%                  3.000   17.000 141916.000  \n",
       "75%                  3.000   18.000 176707.750  \n",
       "max                  4.000   41.000 295637.000  "
      ]
     },
     "execution_count": 8,
     "metadata": {},
     "output_type": "execute_result"
    }
   ],
   "source": [
    "df = df[df['price'] < 300000]\n",
    "df.describe()"
   ]
  },
  {
   "cell_type": "markdown",
   "metadata": {},
   "source": [
    "## Split df to train and test"
   ]
  },
  {
   "cell_type": "code",
   "execution_count": 9,
   "metadata": {},
   "outputs": [
    {
     "name": "stdout",
     "output_type": "stream",
     "text": [
      "(1150, 6) (1150,) (384, 6) (384,)\n"
     ]
    }
   ],
   "source": [
    "X, y = df.drop('price', axis=1), df['price']\n",
    "\n",
    "# split df into train and test\n",
    "X_train, X_test, y_train, y_test = train_test_split(X, y, train_size=0.75, random_state=RAND_ST)\n",
    "print(X_train.shape, y_train.shape, X_test.shape, y_test.shape)"
   ]
  },
  {
   "cell_type": "code",
   "execution_count": 10,
   "metadata": {},
   "outputs": [],
   "source": [
    "# X_train = X_train.reset_index(drop=True)\n",
    "# y_train = y_train.reset_index(drop=True)\n",
    "# X_train\n",
    "# y_train"
   ]
  },
  {
   "cell_type": "code",
   "execution_count": 11,
   "metadata": {},
   "outputs": [
    {
     "data": {
      "text/plain": [
       "Index(['distance', 'own_container', 'complect_send', 'container_train',\n",
       "       'transportation_type', 'days'],\n",
       "      dtype='object')"
      ]
     },
     "execution_count": 11,
     "metadata": {},
     "output_type": "execute_result"
    }
   ],
   "source": [
    "X.select_dtypes(exclude='object').columns"
   ]
  },
  {
   "cell_type": "markdown",
   "metadata": {},
   "source": [
    "## Violinplot for num col"
   ]
  },
  {
   "cell_type": "code",
   "execution_count": 12,
   "metadata": {},
   "outputs": [
    {
     "data": {
      "image/png": "[encoded data removed]",
      "text/plain": [
       "<Figure size 640x480 with 1 Axes>"
      ]
     },
     "metadata": {},
     "output_type": "display_data"
    },
    {
     "data": {
      "image/png": "[encoded data removed]",
      "text/plain": [
       "<Figure size 640x480 with 1 Axes>"
      ]
     },
     "metadata": {},
     "output_type": "display_data"
    }
   ],
   "source": [
    "num_col = ['distance', 'days']\n",
    "\n",
    "for i in df[num_col]:\n",
    "    sns.violinplot(data = df[[i]])\n",
    "    plt.show()"
   ]
  },
  {
   "cell_type": "markdown",
   "metadata": {},
   "source": [
    "## Make pipeline"
   ]
  },
  {
   "cell_type": "code",
   "execution_count": 13,
   "metadata": {},
   "outputs": [],
   "source": [
    "\n",
    "    num_col = ['distance', 'days']\n",
    "\n",
    "    cat_col = ['own_container', 'complect_send', 'container_train',\n",
    "        'transportation_type']\n",
    "    # transformer for numeric col\n",
    "    num_transformer = skl_pipeline(\n",
    "        steps=[\n",
    "            #transform\n",
    "            (\n",
    "                'power',\n",
    "                PowerTransformer()\n",
    "            )\n",
    "        ]\n",
    "    )\n",
    "\n",
    "\n",
    "    # transformer for categorical col\n",
    "    cat_transformer = skl_pipeline(\n",
    "        steps=[\n",
    "            (\n",
    "                'ohe',\n",
    "                OneHotEncoder(drop='first', handle_unknown='ignore', sparse_output=False) # drop = 'if_binary' if cat will not change\n",
    "            )\n",
    "        ]\n",
    "    )\n",
    "\n",
    "\n",
    "    # make preprocessor\n",
    "    preprocessor = ColumnTransformer(\n",
    "        remainder='passthrough',\n",
    "        transformers=[\n",
    "            ('num_transformer', num_transformer, num_col),\n",
    "            ('cat_transformer', cat_transformer, cat_col)\n",
    "        ]\n",
    "    )\n",
    "\n",
    "    # make pipe model\n",
    "    pipe_xgbr = skl_pipeline(steps=[\n",
    "        \n",
    "        (\n",
    "            'preprocessor',\n",
    "            preprocessor\n",
    "        ),\n",
    "        #model\n",
    "        (\n",
    "            'model_xgbr',\n",
    "            xgb.XGBRegressor(random_state=RAND_ST)\n",
    "        )\n",
    "    ])"
   ]
  },
  {
   "cell_type": "code",
   "execution_count": 14,
   "metadata": {},
   "outputs": [
    {
     "data": {
      "text/html": [
       "<div>\n",
       "<style scoped>\n",
       "    .dataframe tbody tr th:only-of-type {\n",
       "        vertical-align: middle;\n",
       "    }\n",
       "\n",
       "    .dataframe tbody tr th {\n",
       "        vertical-align: top;\n",
       "    }\n",
       "\n",
       "    .dataframe thead th {\n",
       "        text-align: right;\n",
       "    }\n",
       "</style>\n",
       "<table border=\"1\" class=\"dataframe\">\n",
       "  <thead>\n",
       "    <tr style=\"text-align: right;\">\n",
       "      <th></th>\n",
       "      <th>num_transformer__distance</th>\n",
       "      <th>num_transformer__days</th>\n",
       "      <th>cat_transformer__own_container_1</th>\n",
       "      <th>cat_transformer__complect_send_1</th>\n",
       "      <th>cat_transformer__container_train_1</th>\n",
       "      <th>cat_transformer__transportation_type_2</th>\n",
       "      <th>cat_transformer__transportation_type_3</th>\n",
       "      <th>cat_transformer__transportation_type_4</th>\n",
       "    </tr>\n",
       "  </thead>\n",
       "  <tbody>\n",
       "    <tr>\n",
       "      <th>582</th>\n",
       "      <td>-2.754</td>\n",
       "      <td>-1.378</td>\n",
       "      <td>0.000</td>\n",
       "      <td>0.000</td>\n",
       "      <td>1.000</td>\n",
       "      <td>0.000</td>\n",
       "      <td>1.000</td>\n",
       "      <td>0.000</td>\n",
       "    </tr>\n",
       "    <tr>\n",
       "      <th>1014</th>\n",
       "      <td>-0.188</td>\n",
       "      <td>0.398</td>\n",
       "      <td>0.000</td>\n",
       "      <td>0.000</td>\n",
       "      <td>0.000</td>\n",
       "      <td>0.000</td>\n",
       "      <td>1.000</td>\n",
       "      <td>0.000</td>\n",
       "    </tr>\n",
       "    <tr>\n",
       "      <th>365</th>\n",
       "      <td>-0.626</td>\n",
       "      <td>-0.882</td>\n",
       "      <td>0.000</td>\n",
       "      <td>1.000</td>\n",
       "      <td>0.000</td>\n",
       "      <td>0.000</td>\n",
       "      <td>1.000</td>\n",
       "      <td>0.000</td>\n",
       "    </tr>\n",
       "    <tr>\n",
       "      <th>370</th>\n",
       "      <td>-0.598</td>\n",
       "      <td>-0.882</td>\n",
       "      <td>0.000</td>\n",
       "      <td>1.000</td>\n",
       "      <td>0.000</td>\n",
       "      <td>0.000</td>\n",
       "      <td>1.000</td>\n",
       "      <td>0.000</td>\n",
       "    </tr>\n",
       "    <tr>\n",
       "      <th>890</th>\n",
       "      <td>-0.188</td>\n",
       "      <td>0.398</td>\n",
       "      <td>0.000</td>\n",
       "      <td>0.000</td>\n",
       "      <td>0.000</td>\n",
       "      <td>0.000</td>\n",
       "      <td>1.000</td>\n",
       "      <td>0.000</td>\n",
       "    </tr>\n",
       "    <tr>\n",
       "      <th>...</th>\n",
       "      <td>...</td>\n",
       "      <td>...</td>\n",
       "      <td>...</td>\n",
       "      <td>...</td>\n",
       "      <td>...</td>\n",
       "      <td>...</td>\n",
       "      <td>...</td>\n",
       "      <td>...</td>\n",
       "    </tr>\n",
       "    <tr>\n",
       "      <th>571</th>\n",
       "      <td>1.089</td>\n",
       "      <td>2.417</td>\n",
       "      <td>0.000</td>\n",
       "      <td>0.000</td>\n",
       "      <td>0.000</td>\n",
       "      <td>1.000</td>\n",
       "      <td>0.000</td>\n",
       "      <td>0.000</td>\n",
       "    </tr>\n",
       "    <tr>\n",
       "      <th>419</th>\n",
       "      <td>0.004</td>\n",
       "      <td>-0.086</td>\n",
       "      <td>0.000</td>\n",
       "      <td>1.000</td>\n",
       "      <td>0.000</td>\n",
       "      <td>0.000</td>\n",
       "      <td>1.000</td>\n",
       "      <td>0.000</td>\n",
       "    </tr>\n",
       "    <tr>\n",
       "      <th>675</th>\n",
       "      <td>-0.868</td>\n",
       "      <td>-0.882</td>\n",
       "      <td>0.000</td>\n",
       "      <td>0.000</td>\n",
       "      <td>1.000</td>\n",
       "      <td>0.000</td>\n",
       "      <td>1.000</td>\n",
       "      <td>0.000</td>\n",
       "    </tr>\n",
       "    <tr>\n",
       "      <th>213</th>\n",
       "      <td>-1.060</td>\n",
       "      <td>-1.120</td>\n",
       "      <td>0.000</td>\n",
       "      <td>1.000</td>\n",
       "      <td>0.000</td>\n",
       "      <td>0.000</td>\n",
       "      <td>1.000</td>\n",
       "      <td>0.000</td>\n",
       "    </tr>\n",
       "    <tr>\n",
       "      <th>615</th>\n",
       "      <td>-0.397</td>\n",
       "      <td>-0.458</td>\n",
       "      <td>0.000</td>\n",
       "      <td>0.000</td>\n",
       "      <td>1.000</td>\n",
       "      <td>0.000</td>\n",
       "      <td>1.000</td>\n",
       "      <td>0.000</td>\n",
       "    </tr>\n",
       "  </tbody>\n",
       "</table>\n",
       "<p>1150 rows × 8 columns</p>\n",
       "</div>"
      ],
      "text/plain": [
       "      num_transformer__distance  num_transformer__days  \\\n",
       "582                      -2.754                 -1.378   \n",
       "1014                     -0.188                  0.398   \n",
       "365                      -0.626                 -0.882   \n",
       "370                      -0.598                 -0.882   \n",
       "890                      -0.188                  0.398   \n",
       "...                         ...                    ...   \n",
       "571                       1.089                  2.417   \n",
       "419                       0.004                 -0.086   \n",
       "675                      -0.868                 -0.882   \n",
       "213                      -1.060                 -1.120   \n",
       "615                      -0.397                 -0.458   \n",
       "\n",
       "      cat_transformer__own_container_1  cat_transformer__complect_send_1  \\\n",
       "582                              0.000                             0.000   \n",
       "1014                             0.000                             0.000   \n",
       "365                              0.000                             1.000   \n",
       "370                              0.000                             1.000   \n",
       "890                              0.000                             0.000   \n",
       "...                                ...                               ...   \n",
       "571                              0.000                             0.000   \n",
       "419                              0.000                             1.000   \n",
       "675                              0.000                             0.000   \n",
       "213                              0.000                             1.000   \n",
       "615                              0.000                             0.000   \n",
       "\n",
       "      cat_transformer__container_train_1  \\\n",
       "582                                1.000   \n",
       "1014                               0.000   \n",
       "365                                0.000   \n",
       "370                                0.000   \n",
       "890                                0.000   \n",
       "...                                  ...   \n",
       "571                                0.000   \n",
       "419                                0.000   \n",
       "675                                1.000   \n",
       "213                                0.000   \n",
       "615                                1.000   \n",
       "\n",
       "      cat_transformer__transportation_type_2  \\\n",
       "582                                    0.000   \n",
       "1014                                   0.000   \n",
       "365                                    0.000   \n",
       "370                                    0.000   \n",
       "890                                    0.000   \n",
       "...                                      ...   \n",
       "571                                    1.000   \n",
       "419                                    0.000   \n",
       "675                                    0.000   \n",
       "213                                    0.000   \n",
       "615                                    0.000   \n",
       "\n",
       "      cat_transformer__transportation_type_3  \\\n",
       "582                                    1.000   \n",
       "1014                                   1.000   \n",
       "365                                    1.000   \n",
       "370                                    1.000   \n",
       "890                                    1.000   \n",
       "...                                      ...   \n",
       "571                                    0.000   \n",
       "419                                    1.000   \n",
       "675                                    1.000   \n",
       "213                                    1.000   \n",
       "615                                    1.000   \n",
       "\n",
       "      cat_transformer__transportation_type_4  \n",
       "582                                    0.000  \n",
       "1014                                   0.000  \n",
       "365                                    0.000  \n",
       "370                                    0.000  \n",
       "890                                    0.000  \n",
       "...                                      ...  \n",
       "571                                    0.000  \n",
       "419                                    0.000  \n",
       "675                                    0.000  \n",
       "213                                    0.000  \n",
       "615                                    0.000  \n",
       "\n",
       "[1150 rows x 8 columns]"
      ]
     },
     "execution_count": 14,
     "metadata": {},
     "output_type": "execute_result"
    }
   ],
   "source": [
    "preprocessor.fit(X_train, y_train)\n",
    "preprocessor.transform(X_train)"
   ]
  },
  {
   "cell_type": "markdown",
   "metadata": {},
   "source": [
    "## Hyperparameter tuning"
   ]
  },
  {
   "cell_type": "code",
   "execution_count": 15,
   "metadata": {},
   "outputs": [],
   "source": [
    "# add hyper from tree \n",
    "\n",
    "\n",
    "def hyper_opt(trial):\n",
    "    parameters_xgbr = {\n",
    "        'model_xgbr__learning_rate': trial.suggest_float('model_xgbr__learning_rate', 0.01, 0.6), # alias for eta\n",
    "        'model_xgbr__min_split_loss': trial.suggest_int ('model_xgbr__min_split_loss', 0, 250000),    # alias for gamma\n",
    "        'model_xgbr__max_depth': trial.suggest_int('model_xgbr__max_depth', 1, 100),\n",
    "        'model_xgbr__min_child_weight': trial.suggest_int('model_xgbr__min_child_weight', 1, 20),\n",
    "        'model_xgbr__subsample': trial.suggest_float('model_xgbr__subsample', 0.5, 1),\n",
    "        'model_xgbr__colsample_bytree': trial.suggest_float('model_xgbr__colsample_bytree', 0.5, 1),\n",
    "        'model_xgbr__reg_lambda': trial.suggest_int('model_xgbr__reg_lambda', 0, 200),\n",
    "        'model_xgbr__reg_alpha': trial.suggest_int('model_xgbr__reg_alpha', 0, 100),    #???\n",
    "        'model_xgbr__n_estimators': trial.suggest_int('model_xgbr__n_estimators', 5, 2000),\n",
    "        'model_xgbr__max_leaves': trial.suggest_int('model_xgbr__max_leaves', 2, 100)\n",
    "    }\n",
    "    \n",
    "    num_col = ['distance', 'days']\n",
    "\n",
    "    cat_col = ['own_container', 'complect_send', 'container_train',\n",
    "        'transportation_type']\n",
    "    # transformer for numeric col\n",
    "    num_transformer = skl_pipeline(\n",
    "        steps=[\n",
    "            #transform\n",
    "            (\n",
    "                'power',\n",
    "                PowerTransformer()\n",
    "            )\n",
    "        ]\n",
    "    )\n",
    "\n",
    "\n",
    "    # transformer for categorical col\n",
    "    cat_transformer = skl_pipeline(\n",
    "        steps=[\n",
    "            (\n",
    "                'ohe',\n",
    "                OneHotEncoder(drop='if_binary', handle_unknown='ignore', sparse_output=False)\n",
    "            )\n",
    "        ]\n",
    "    )\n",
    "\n",
    "\n",
    "    # make preprocessor\n",
    "    preprocessor = ColumnTransformer(\n",
    "        remainder='passthrough',\n",
    "        transformers=[\n",
    "            ('num_transformer', num_transformer, num_col),\n",
    "            ('cat_transformer', cat_transformer, cat_col)\n",
    "        ]\n",
    "    )\n",
    "\n",
    "    # make pipe model\n",
    "    pipe_xgbr = skl_pipeline(steps=[\n",
    "        \n",
    "        (\n",
    "            'preprocessor',\n",
    "            preprocessor\n",
    "        ),\n",
    "        #model\n",
    "        (\n",
    "            'model_xgbr',\n",
    "            xgb.XGBRegressor(random_state=RAND_ST)\n",
    "        )\n",
    "    ])\n",
    "\n",
    "    pipe_xgbr.set_params(**parameters_xgbr) #разименование\n",
    "    \n",
    "    return cross_val_score(pipe_xgbr, X_train, y_train, scoring='neg_mean_squared_error').mean() #neg mse???\n",
    "    # pipe_xgbr.fit(X_train, y_train)\n",
    "    # print(mean_squared_error(pipe_xgbr.predict(X_train), y_train))\n",
    "    # return mean_squared_error(pipe_xgbr.predict(X_train), y_train)\n",
    "    "
   ]
  },
  {
   "cell_type": "code",
   "execution_count": 16,
   "metadata": {},
   "outputs": [
    {
     "name": "stderr",
     "output_type": "stream",
     "text": [
      "[I 2023-11-30 18:24:56,402] A new study created in memory with name: no-name-4b76356c-03d0-4618-b24b-caa5a4f39466\n",
      "[I 2023-11-30 18:24:58,276] Trial 0 finished with value: -875132657.676595 and parameters: {'model_xgbr__learning_rate': 0.5526053835040189, 'model_xgbr__min_split_loss': 240235, 'model_xgbr__max_depth': 60, 'model_xgbr__min_child_weight': 20, 'model_xgbr__subsample': 0.5004785047674172, 'model_xgbr__colsample_bytree': 0.601710121122664, 'model_xgbr__reg_lambda': 37, 'model_xgbr__reg_alpha': 66, 'model_xgbr__n_estimators': 509, 'model_xgbr__max_leaves': 7}. Best is trial 0 with value: -875132657.676595.\n",
      "[I 2023-11-30 18:25:02,595] Trial 1 finished with value: -769282401.8806698 and parameters: {'model_xgbr__learning_rate': 0.45976867443420477, 'model_xgbr__min_split_loss': 71343, 'model_xgbr__max_depth': 72, 'model_xgbr__min_child_weight': 17, 'model_xgbr__subsample': 0.8276677818625111, 'model_xgbr__colsample_bytree': 0.7070172326222588, 'model_xgbr__reg_lambda': 44, 'model_xgbr__reg_alpha': 49, 'model_xgbr__n_estimators': 1850, 'model_xgbr__max_leaves': 33}. Best is trial 1 with value: -769282401.8806698.\n",
      "[I 2023-11-30 18:25:03,496] Trial 2 finished with value: -1954482643.1318822 and parameters: {'model_xgbr__learning_rate': 0.01136444086856687, 'model_xgbr__min_split_loss': 172496, 'model_xgbr__max_depth': 17, 'model_xgbr__min_child_weight': 17, 'model_xgbr__subsample': 0.5010751915058598, 'model_xgbr__colsample_bytree': 0.593909508301308, 'model_xgbr__reg_lambda': 144, 'model_xgbr__reg_alpha': 83, 'model_xgbr__n_estimators': 179, 'model_xgbr__max_leaves': 98}. Best is trial 1 with value: -769282401.8806698.\n",
      "[I 2023-11-30 18:25:03,911] Trial 3 finished with value: -805610905.4117097 and parameters: {'model_xgbr__learning_rate': 0.3827086616118621, 'model_xgbr__min_split_loss': 28289, 'model_xgbr__max_depth': 90, 'model_xgbr__min_child_weight': 12, 'model_xgbr__subsample': 0.5549782224456222, 'model_xgbr__colsample_bytree': 0.9047074672000797, 'model_xgbr__reg_lambda': 47, 'model_xgbr__reg_alpha': 92, 'model_xgbr__n_estimators': 33, 'model_xgbr__max_leaves': 95}. Best is trial 1 with value: -769282401.8806698.\n",
      "[I 2023-11-30 18:25:07,289] Trial 4 finished with value: -755235215.5547982 and parameters: {'model_xgbr__learning_rate': 0.05662489881176916, 'model_xgbr__min_split_loss': 32718, 'model_xgbr__max_depth': 36, 'model_xgbr__min_child_weight': 20, 'model_xgbr__subsample': 0.8314679865307422, 'model_xgbr__colsample_bytree': 0.8353616315093001, 'model_xgbr__reg_lambda': 57, 'model_xgbr__reg_alpha': 84, 'model_xgbr__n_estimators': 1093, 'model_xgbr__max_leaves': 59}. Best is trial 4 with value: -755235215.5547982.\n",
      "[I 2023-11-30 18:25:12,080] Trial 5 finished with value: -664463152.0908741 and parameters: {'model_xgbr__learning_rate': 0.11165317158895025, 'model_xgbr__min_split_loss': 91756, 'model_xgbr__max_depth': 75, 'model_xgbr__min_child_weight': 6, 'model_xgbr__subsample': 0.5982591811607936, 'model_xgbr__colsample_bytree': 0.6547867686592708, 'model_xgbr__reg_lambda': 183, 'model_xgbr__reg_alpha': 97, 'model_xgbr__n_estimators': 1841, 'model_xgbr__max_leaves': 17}. Best is trial 5 with value: -664463152.0908741.\n",
      "[I 2023-11-30 18:25:18,279] Trial 6 finished with value: -725341920.9409192 and parameters: {'model_xgbr__learning_rate': 0.41285570751947037, 'model_xgbr__min_split_loss': 235047, 'model_xgbr__max_depth': 31, 'model_xgbr__min_child_weight': 6, 'model_xgbr__subsample': 0.6400857700940996, 'model_xgbr__colsample_bytree': 0.7732435838304366, 'model_xgbr__reg_lambda': 9, 'model_xgbr__reg_alpha': 53, 'model_xgbr__n_estimators': 989, 'model_xgbr__max_leaves': 98}. Best is trial 5 with value: -664463152.0908741.\n",
      "[I 2023-11-30 18:25:32,255] Trial 7 finished with value: -692771865.9116809 and parameters: {'model_xgbr__learning_rate': 0.5027815905827998, 'model_xgbr__min_split_loss': 103585, 'model_xgbr__max_depth': 57, 'model_xgbr__min_child_weight': 17, 'model_xgbr__subsample': 0.8366067901550618, 'model_xgbr__colsample_bytree': 0.592015209111532, 'model_xgbr__reg_lambda': 80, 'model_xgbr__reg_alpha': 75, 'model_xgbr__n_estimators': 605, 'model_xgbr__max_leaves': 45}. Best is trial 5 with value: -664463152.0908741.\n",
      "[I 2023-11-30 18:25:37,997] Trial 8 finished with value: -730380457.8339393 and parameters: {'model_xgbr__learning_rate': 0.5228049279388459, 'model_xgbr__min_split_loss': 239497, 'model_xgbr__max_depth': 59, 'model_xgbr__min_child_weight': 15, 'model_xgbr__subsample': 0.8914594909800773, 'model_xgbr__colsample_bytree': 0.8412160206057604, 'model_xgbr__reg_lambda': 76, 'model_xgbr__reg_alpha': 5, 'model_xgbr__n_estimators': 1404, 'model_xgbr__max_leaves': 39}. Best is trial 5 with value: -664463152.0908741.\n",
      "[I 2023-11-30 18:25:40,721] Trial 9 finished with value: -833758117.8529935 and parameters: {'model_xgbr__learning_rate': 0.3023690465074596, 'model_xgbr__min_split_loss': 184958, 'model_xgbr__max_depth': 28, 'model_xgbr__min_child_weight': 20, 'model_xgbr__subsample': 0.5825062043960796, 'model_xgbr__colsample_bytree': 0.7060014690735045, 'model_xgbr__reg_lambda': 52, 'model_xgbr__reg_alpha': 65, 'model_xgbr__n_estimators': 854, 'model_xgbr__max_leaves': 6}. Best is trial 5 with value: -664463152.0908741.\n",
      "[I 2023-11-30 18:26:02,591] Trial 10 finished with value: -625825298.1484776 and parameters: {'model_xgbr__learning_rate': 0.16749211298644934, 'model_xgbr__min_split_loss': 136018, 'model_xgbr__max_depth': 98, 'model_xgbr__min_child_weight': 2, 'model_xgbr__subsample': 0.7033694229140763, 'model_xgbr__colsample_bytree': 0.9902192858502957, 'model_xgbr__reg_lambda': 196, 'model_xgbr__reg_alpha': 25, 'model_xgbr__n_estimators': 1921, 'model_xgbr__max_leaves': 23}. Best is trial 10 with value: -625825298.1484776.\n",
      "[I 2023-11-30 18:26:10,215] Trial 11 finished with value: -628976441.442885 and parameters: {'model_xgbr__learning_rate': 0.16195637303585067, 'model_xgbr__min_split_loss': 126746, 'model_xgbr__max_depth': 100, 'model_xgbr__min_child_weight': 1, 'model_xgbr__subsample': 0.7058626186638022, 'model_xgbr__colsample_bytree': 0.9950705888235302, 'model_xgbr__reg_lambda': 200, 'model_xgbr__reg_alpha': 18, 'model_xgbr__n_estimators': 1986, 'model_xgbr__max_leaves': 22}. Best is trial 10 with value: -625825298.1484776.\n",
      "[I 2023-11-30 18:26:25,186] Trial 12 finished with value: -628201372.7369962 and parameters: {'model_xgbr__learning_rate': 0.1974028549966083, 'model_xgbr__min_split_loss': 143833, 'model_xgbr__max_depth': 94, 'model_xgbr__min_child_weight': 2, 'model_xgbr__subsample': 0.6997532700231641, 'model_xgbr__colsample_bytree': 0.9971635587266758, 'model_xgbr__reg_lambda': 191, 'model_xgbr__reg_alpha': 14, 'model_xgbr__n_estimators': 1561, 'model_xgbr__max_leaves': 26}. Best is trial 10 with value: -625825298.1484776.\n",
      "[I 2023-11-30 18:26:40,208] Trial 13 finished with value: -644484424.0258764 and parameters: {'model_xgbr__learning_rate': 0.20776337827887637, 'model_xgbr__min_split_loss': 151142, 'model_xgbr__max_depth': 84, 'model_xgbr__min_child_weight': 1, 'model_xgbr__subsample': 0.7092077188088667, 'model_xgbr__colsample_bytree': 0.9940094004960438, 'model_xgbr__reg_lambda': 140, 'model_xgbr__reg_alpha': 27, 'model_xgbr__n_estimators': 1476, 'model_xgbr__max_leaves': 59}. Best is trial 10 with value: -625825298.1484776.\n",
      "[I 2023-11-30 18:26:57,303] Trial 14 finished with value: -645050772.0388129 and parameters: {'model_xgbr__learning_rate': 0.23447823579306956, 'model_xgbr__min_split_loss': 189354, 'model_xgbr__max_depth': 99, 'model_xgbr__min_child_weight': 5, 'model_xgbr__subsample': 0.7491870134019861, 'model_xgbr__colsample_bytree': 0.9162342720263146, 'model_xgbr__reg_lambda': 156, 'model_xgbr__reg_alpha': 30, 'model_xgbr__n_estimators': 1561, 'model_xgbr__max_leaves': 26}. Best is trial 10 with value: -625825298.1484776.\n",
      "[I 2023-11-30 18:27:00,812] Trial 15 finished with value: -697081749.4466206 and parameters: {'model_xgbr__learning_rate': 0.2959895452336041, 'model_xgbr__min_split_loss': 135932, 'model_xgbr__max_depth': 3, 'model_xgbr__min_child_weight': 9, 'model_xgbr__subsample': 0.6679836557463961, 'model_xgbr__colsample_bytree': 0.5043566219402253, 'model_xgbr__reg_lambda': 126, 'model_xgbr__reg_alpha': 4, 'model_xgbr__n_estimators': 1630, 'model_xgbr__max_leaves': 74}. Best is trial 10 with value: -625825298.1484776.\n",
      "[I 2023-11-30 18:27:04,671] Trial 16 finished with value: -630143871.2544281 and parameters: {'model_xgbr__learning_rate': 0.1501899030775046, 'model_xgbr__min_split_loss': 68881, 'model_xgbr__max_depth': 83, 'model_xgbr__min_child_weight': 3, 'model_xgbr__subsample': 0.9581276429111754, 'model_xgbr__colsample_bytree': 0.9342005944839225, 'model_xgbr__reg_lambda': 173, 'model_xgbr__reg_alpha': 38, 'model_xgbr__n_estimators': 1255, 'model_xgbr__max_leaves': 15}. Best is trial 10 with value: -625825298.1484776.\n",
      "[I 2023-11-30 18:27:11,136] Trial 17 finished with value: -671758178.8164651 and parameters: {'model_xgbr__learning_rate': 0.2335515918448168, 'model_xgbr__min_split_loss': 160755, 'model_xgbr__max_depth': 69, 'model_xgbr__min_child_weight': 9, 'model_xgbr__subsample': 0.7640984419461004, 'model_xgbr__colsample_bytree': 0.9983849227332053, 'model_xgbr__reg_lambda': 108, 'model_xgbr__reg_alpha': 16, 'model_xgbr__n_estimators': 1732, 'model_xgbr__max_leaves': 31}. Best is trial 10 with value: -625825298.1484776.\n",
      "[I 2023-11-30 18:27:15,597] Trial 18 finished with value: -648359489.721744 and parameters: {'model_xgbr__learning_rate': 0.09112847777998107, 'model_xgbr__min_split_loss': 214381, 'model_xgbr__max_depth': 48, 'model_xgbr__min_child_weight': 4, 'model_xgbr__subsample': 0.635823645688378, 'model_xgbr__colsample_bytree': 0.85989652944195, 'model_xgbr__reg_lambda': 199, 'model_xgbr__reg_alpha': 18, 'model_xgbr__n_estimators': 1279, 'model_xgbr__max_leaves': 54}. Best is trial 10 with value: -625825298.1484776.\n",
      "[I 2023-11-30 18:27:26,269] Trial 19 finished with value: -897506700.1126766 and parameters: {'model_xgbr__learning_rate': 0.1775741503758779, 'model_xgbr__min_split_loss': 108361, 'model_xgbr__max_depth': 89, 'model_xgbr__min_child_weight': 3, 'model_xgbr__subsample': 0.7663730323380902, 'model_xgbr__colsample_bytree': 0.9420514118903387, 'model_xgbr__reg_lambda': 171, 'model_xgbr__reg_alpha': 42, 'model_xgbr__n_estimators': 1988, 'model_xgbr__max_leaves': 2}. Best is trial 10 with value: -625825298.1484776.\n",
      "[I 2023-11-30 18:27:31,756] Trial 20 finished with value: -674715771.5774152 and parameters: {'model_xgbr__learning_rate': 0.2663038035609074, 'model_xgbr__min_split_loss': 208109, 'model_xgbr__max_depth': 100, 'model_xgbr__min_child_weight': 8, 'model_xgbr__subsample': 0.6923124919821747, 'model_xgbr__colsample_bytree': 0.8776277998566115, 'model_xgbr__reg_lambda': 115, 'model_xgbr__reg_alpha': 28, 'model_xgbr__n_estimators': 1697, 'model_xgbr__max_leaves': 43}. Best is trial 10 with value: -625825298.1484776.\n",
      "[I 2023-11-30 18:27:38,891] Trial 21 finished with value: -629898888.6896157 and parameters: {'model_xgbr__learning_rate': 0.15651639131031445, 'model_xgbr__min_split_loss': 129455, 'model_xgbr__max_depth': 100, 'model_xgbr__min_child_weight': 1, 'model_xgbr__subsample': 0.7125332009474975, 'model_xgbr__colsample_bytree': 0.9701677358173934, 'model_xgbr__reg_lambda': 192, 'model_xgbr__reg_alpha': 18, 'model_xgbr__n_estimators': 1863, 'model_xgbr__max_leaves': 18}. Best is trial 10 with value: -625825298.1484776.\n",
      "[I 2023-11-30 18:27:49,746] Trial 22 finished with value: -639528411.1606041 and parameters: {'model_xgbr__learning_rate': 0.18895664006527813, 'model_xgbr__min_split_loss': 144725, 'model_xgbr__max_depth': 91, 'model_xgbr__min_child_weight': 1, 'model_xgbr__subsample': 0.6756372896412302, 'model_xgbr__colsample_bytree': 0.9746139133473891, 'model_xgbr__reg_lambda': 162, 'model_xgbr__reg_alpha': 11, 'model_xgbr__n_estimators': 1914, 'model_xgbr__max_leaves': 25}. Best is trial 10 with value: -625825298.1484776.\n",
      "[I 2023-11-30 18:27:55,037] Trial 23 finished with value: -623240826.3192959 and parameters: {'model_xgbr__learning_rate': 0.12768238181322125, 'model_xgbr__min_split_loss': 118069, 'model_xgbr__max_depth': 75, 'model_xgbr__min_child_weight': 3, 'model_xgbr__subsample': 0.7321968307280827, 'model_xgbr__colsample_bytree': 0.9565300054356712, 'model_xgbr__reg_lambda': 199, 'model_xgbr__reg_alpha': 1, 'model_xgbr__n_estimators': 1997, 'model_xgbr__max_leaves': 23}. Best is trial 23 with value: -623240826.3192959.\n",
      "[I 2023-11-30 18:27:59,125] Trial 24 finished with value: -632030666.9192599 and parameters: {'model_xgbr__learning_rate': 0.11391871033847799, 'model_xgbr__min_split_loss': 76355, 'model_xgbr__max_depth': 82, 'model_xgbr__min_child_weight': 3, 'model_xgbr__subsample': 0.7478303195169704, 'model_xgbr__colsample_bytree': 0.945678653998794, 'model_xgbr__reg_lambda': 180, 'model_xgbr__reg_alpha': 1, 'model_xgbr__n_estimators': 1680, 'model_xgbr__max_leaves': 13}. Best is trial 23 with value: -623240826.3192959.\n",
      "[I 2023-11-30 18:28:03,713] Trial 25 finished with value: -654281106.912858 and parameters: {'model_xgbr__learning_rate': 0.25277404367660306, 'model_xgbr__min_split_loss': 115333, 'model_xgbr__max_depth': 74, 'model_xgbr__min_child_weight': 6, 'model_xgbr__subsample': 0.7934754613638825, 'model_xgbr__colsample_bytree': 0.9115067302208805, 'model_xgbr__reg_lambda': 152, 'model_xgbr__reg_alpha': 11, 'model_xgbr__n_estimators': 1449, 'model_xgbr__max_leaves': 34}. Best is trial 23 with value: -623240826.3192959.\n",
      "[I 2023-11-30 18:28:08,745] Trial 26 finished with value: -678216109.354129 and parameters: {'model_xgbr__learning_rate': 0.3434016548226639, 'model_xgbr__min_split_loss': 56241, 'model_xgbr__max_depth': 67, 'model_xgbr__min_child_weight': 12, 'model_xgbr__subsample': 0.7298391378258698, 'model_xgbr__colsample_bytree': 0.958286049751728, 'model_xgbr__reg_lambda': 186, 'model_xgbr__reg_alpha': 34, 'model_xgbr__n_estimators': 1743, 'model_xgbr__max_leaves': 73}. Best is trial 23 with value: -623240826.3192959.\n",
      "[I 2023-11-30 18:28:12,944] Trial 27 finished with value: -637168739.0655552 and parameters: {'model_xgbr__learning_rate': 0.21318572683575515, 'model_xgbr__min_split_loss': 4168, 'model_xgbr__max_depth': 91, 'model_xgbr__min_child_weight': 4, 'model_xgbr__subsample': 0.6380634815602525, 'model_xgbr__colsample_bytree': 0.9031622341533756, 'model_xgbr__reg_lambda': 163, 'model_xgbr__reg_alpha': 25, 'model_xgbr__n_estimators': 1308, 'model_xgbr__max_leaves': 48}. Best is trial 23 with value: -623240826.3192959.\n",
      "[I 2023-11-30 18:28:18,444] Trial 28 finished with value: -628611835.1693109 and parameters: {'model_xgbr__learning_rate': 0.13567803116153102, 'model_xgbr__min_split_loss': 165542, 'model_xgbr__max_depth': 79, 'model_xgbr__min_child_weight': 2, 'model_xgbr__subsample': 0.7884560508507947, 'model_xgbr__colsample_bytree': 0.9556491939292882, 'model_xgbr__reg_lambda': 136, 'model_xgbr__reg_alpha': 10, 'model_xgbr__n_estimators': 1602, 'model_xgbr__max_leaves': 29}. Best is trial 23 with value: -623240826.3192959.\n",
      "[I 2023-11-30 18:28:22,463] Trial 29 finished with value: -667056486.4371327 and parameters: {'model_xgbr__learning_rate': 0.08413990372252925, 'model_xgbr__min_split_loss': 92566, 'model_xgbr__max_depth': 46, 'model_xgbr__min_child_weight': 7, 'model_xgbr__subsample': 0.673064230672449, 'model_xgbr__colsample_bytree': 0.8073587936482666, 'model_xgbr__reg_lambda': 173, 'model_xgbr__reg_alpha': 57, 'model_xgbr__n_estimators': 1997, 'model_xgbr__max_leaves': 10}. Best is trial 23 with value: -623240826.3192959.\n",
      "[I 2023-11-30 18:28:25,424] Trial 30 finished with value: -630032579.0057026 and parameters: {'model_xgbr__learning_rate': 0.2003539938254964, 'model_xgbr__min_split_loss': 146290, 'model_xgbr__max_depth': 65, 'model_xgbr__min_child_weight': 4, 'model_xgbr__subsample': 0.7278618616325316, 'model_xgbr__colsample_bytree': 0.8851553450279545, 'model_xgbr__reg_lambda': 91, 'model_xgbr__reg_alpha': 1, 'model_xgbr__n_estimators': 680, 'model_xgbr__max_leaves': 40}. Best is trial 23 with value: -623240826.3192959.\n",
      "[I 2023-11-30 18:28:30,610] Trial 31 finished with value: -627514898.1088455 and parameters: {'model_xgbr__learning_rate': 0.15026910787938932, 'model_xgbr__min_split_loss': 177504, 'model_xgbr__max_depth': 79, 'model_xgbr__min_child_weight': 2, 'model_xgbr__subsample': 0.795504951716564, 'model_xgbr__colsample_bytree': 0.9579315676343707, 'model_xgbr__reg_lambda': 189, 'model_xgbr__reg_alpha': 10, 'model_xgbr__n_estimators': 1573, 'model_xgbr__max_leaves': 30}. Best is trial 23 with value: -623240826.3192959.\n",
      "[I 2023-11-30 18:28:37,963] Trial 32 finished with value: -625700163.078659 and parameters: {'model_xgbr__learning_rate': 0.13329297542530114, 'model_xgbr__min_split_loss': 182289, 'model_xgbr__max_depth': 94, 'model_xgbr__min_child_weight': 2, 'model_xgbr__subsample': 0.7952324049544556, 'model_xgbr__colsample_bytree': 0.9995168100456477, 'model_xgbr__reg_lambda': 191, 'model_xgbr__reg_alpha': 22, 'model_xgbr__n_estimators': 1802, 'model_xgbr__max_leaves': 36}. Best is trial 23 with value: -623240826.3192959.\n",
      "[I 2023-11-30 18:28:46,446] Trial 33 finished with value: -643378401.7880702 and parameters: {'model_xgbr__learning_rate': 0.06004312019203961, 'model_xgbr__min_split_loss': 191406, 'model_xgbr__max_depth': 86, 'model_xgbr__min_child_weight': 5, 'model_xgbr__subsample': 0.7953067698722669, 'model_xgbr__colsample_bytree': 0.9251158729804111, 'model_xgbr__reg_lambda': 199, 'model_xgbr__reg_alpha': 23, 'model_xgbr__n_estimators': 1843, 'model_xgbr__max_leaves': 34}. Best is trial 23 with value: -623240826.3192959.\n",
      "[I 2023-11-30 18:28:48,769] Trial 34 finished with value: -663219715.9555035 and parameters: {'model_xgbr__learning_rate': 0.12986602773311923, 'model_xgbr__min_split_loss': 178553, 'model_xgbr__max_depth': 78, 'model_xgbr__min_child_weight': 2, 'model_xgbr__subsample': 0.8529886206586705, 'model_xgbr__colsample_bytree': 0.9564657420469943, 'model_xgbr__reg_lambda': 181, 'model_xgbr__reg_alpha': 7, 'model_xgbr__n_estimators': 337, 'model_xgbr__max_leaves': 38}. Best is trial 23 with value: -623240826.3192959.\n",
      "[I 2023-11-30 18:28:56,115] Trial 35 finished with value: -705709270.832741 and parameters: {'model_xgbr__learning_rate': 0.017294534365061162, 'model_xgbr__min_split_loss': 202724, 'model_xgbr__max_depth': 94, 'model_xgbr__min_child_weight': 3, 'model_xgbr__subsample': 0.8020209794385142, 'model_xgbr__colsample_bytree': 0.8855904409374742, 'model_xgbr__reg_lambda': 166, 'model_xgbr__reg_alpha': 44, 'model_xgbr__n_estimators': 1804, 'model_xgbr__max_leaves': 20}. Best is trial 23 with value: -623240826.3192959.\n",
      "[I 2023-11-30 18:29:03,411] Trial 36 finished with value: -626978165.5524108 and parameters: {'model_xgbr__learning_rate': 0.15631705269116775, 'model_xgbr__min_split_loss': 222599, 'model_xgbr__max_depth': 63, 'model_xgbr__min_child_weight': 4, 'model_xgbr__subsample': 0.7684628574248551, 'model_xgbr__colsample_bytree': 0.9297152983529386, 'model_xgbr__reg_lambda': 151, 'model_xgbr__reg_alpha': 33, 'model_xgbr__n_estimators': 1115, 'model_xgbr__max_leaves': 54}. Best is trial 23 with value: -623240826.3192959.\n",
      "[I 2023-11-30 18:29:08,045] Trial 37 finished with value: -665630642.1715118 and parameters: {'model_xgbr__learning_rate': 0.10277344055122113, 'model_xgbr__min_split_loss': 225795, 'model_xgbr__max_depth': 54, 'model_xgbr__min_child_weight': 11, 'model_xgbr__subsample': 0.7418475822904564, 'model_xgbr__colsample_bytree': 0.9270580013265313, 'model_xgbr__reg_lambda': 152, 'model_xgbr__reg_alpha': 33, 'model_xgbr__n_estimators': 1097, 'model_xgbr__max_leaves': 64}. Best is trial 23 with value: -623240826.3192959.\n",
      "[I 2023-11-30 18:29:09,850] Trial 38 finished with value: -725115000.4296554 and parameters: {'model_xgbr__learning_rate': 0.0605197989906168, 'model_xgbr__min_split_loss': 215828, 'model_xgbr__max_depth': 64, 'model_xgbr__min_child_weight': 5, 'model_xgbr__subsample': 0.7661966931850391, 'model_xgbr__colsample_bytree': 0.9780233601847129, 'model_xgbr__reg_lambda': 132, 'model_xgbr__reg_alpha': 46, 'model_xgbr__n_estimators': 376, 'model_xgbr__max_leaves': 51}. Best is trial 23 with value: -623240826.3192959.\n",
      "[I 2023-11-30 18:29:13,586] Trial 39 finished with value: -641451316.4361979 and parameters: {'model_xgbr__learning_rate': 0.11818312186220573, 'model_xgbr__min_split_loss': 161923, 'model_xgbr__max_depth': 72, 'model_xgbr__min_child_weight': 7, 'model_xgbr__subsample': 0.8587074110546131, 'model_xgbr__colsample_bytree': 0.8964522888340374, 'model_xgbr__reg_lambda': 148, 'model_xgbr__reg_alpha': 40, 'model_xgbr__n_estimators': 852, 'model_xgbr__max_leaves': 71}. Best is trial 23 with value: -623240826.3192959.\n",
      "[I 2023-11-30 18:29:22,074] Trial 40 finished with value: -665765812.5604416 and parameters: {'model_xgbr__learning_rate': 0.17207400672193943, 'model_xgbr__min_split_loss': 249933, 'model_xgbr__max_depth': 61, 'model_xgbr__min_child_weight': 4, 'model_xgbr__subsample': 0.7319632141276532, 'model_xgbr__colsample_bytree': 0.855412701971054, 'model_xgbr__reg_lambda': 17, 'model_xgbr__reg_alpha': 50, 'model_xgbr__n_estimators': 1782, 'model_xgbr__max_leaves': 56}. Best is trial 23 with value: -623240826.3192959.\n",
      "[I 2023-11-30 18:29:29,127] Trial 41 finished with value: -627215788.3069359 and parameters: {'model_xgbr__learning_rate': 0.13863837917567262, 'model_xgbr__min_split_loss': 197257, 'model_xgbr__max_depth': 78, 'model_xgbr__min_child_weight': 2, 'model_xgbr__subsample': 0.8095266110520434, 'model_xgbr__colsample_bytree': 0.9559677286369344, 'model_xgbr__reg_lambda': 186, 'model_xgbr__reg_alpha': 21, 'model_xgbr__n_estimators': 1914, 'model_xgbr__max_leaves': 36}. Best is trial 23 with value: -623240826.3192959.\n",
      "[I 2023-11-30 18:29:38,343] Trial 42 finished with value: -628874100.9963409 and parameters: {'model_xgbr__learning_rate': 0.13619626097798496, 'model_xgbr__min_split_loss': 223263, 'model_xgbr__max_depth': 73, 'model_xgbr__min_child_weight': 2, 'model_xgbr__subsample': 0.8209912183369981, 'model_xgbr__colsample_bytree': 0.9761261008747771, 'model_xgbr__reg_lambda': 179, 'model_xgbr__reg_alpha': 21, 'model_xgbr__n_estimators': 1885, 'model_xgbr__max_leaves': 89}. Best is trial 23 with value: -623240826.3192959.\n",
      "[I 2023-11-30 18:29:48,088] Trial 43 finished with value: -620885822.9425627 and parameters: {'model_xgbr__learning_rate': 0.08811517630171643, 'model_xgbr__min_split_loss': 199841, 'model_xgbr__max_depth': 54, 'model_xgbr__min_child_weight': 3, 'model_xgbr__subsample': 0.7668495277908031, 'model_xgbr__colsample_bytree': 0.927574830509076, 'model_xgbr__reg_lambda': 191, 'model_xgbr__reg_alpha': 35, 'model_xgbr__n_estimators': 1938, 'model_xgbr__max_leaves': 45}. Best is trial 43 with value: -620885822.9425627.\n",
      "[I 2023-11-30 18:29:54,513] Trial 44 finished with value: -638026783.7190492 and parameters: {'model_xgbr__learning_rate': 0.08248114908360835, 'model_xgbr__min_split_loss': 116513, 'model_xgbr__max_depth': 39, 'model_xgbr__min_child_weight': 6, 'model_xgbr__subsample': 0.7729673395379026, 'model_xgbr__colsample_bytree': 0.9262615633606577, 'model_xgbr__reg_lambda': 200, 'model_xgbr__reg_alpha': 36, 'model_xgbr__n_estimators': 1996, 'model_xgbr__max_leaves': 45}. Best is trial 43 with value: -620885822.9425627.\n",
      "[I 2023-11-30 18:29:57,962] Trial 45 finished with value: -731762645.1799599 and parameters: {'model_xgbr__learning_rate': 0.044424124541043, 'model_xgbr__min_split_loss': 225577, 'model_xgbr__max_depth': 55, 'model_xgbr__min_child_weight': 14, 'model_xgbr__subsample': 0.7755320349775461, 'model_xgbr__colsample_bytree': 0.9814015656466798, 'model_xgbr__reg_lambda': 175, 'model_xgbr__reg_alpha': 57, 'model_xgbr__n_estimators': 1058, 'model_xgbr__max_leaves': 63}. Best is trial 43 with value: -620885822.9425627.\n",
      "[I 2023-11-30 18:30:05,055] Trial 46 finished with value: -623302684.2435089 and parameters: {'model_xgbr__learning_rate': 0.10733298866764601, 'model_xgbr__min_split_loss': 95977, 'model_xgbr__max_depth': 41, 'model_xgbr__min_child_weight': 3, 'model_xgbr__subsample': 0.7512913726294268, 'model_xgbr__colsample_bytree': 0.998774914455779, 'model_xgbr__reg_lambda': 164, 'model_xgbr__reg_alpha': 31, 'model_xgbr__n_estimators': 1781, 'model_xgbr__max_leaves': 42}. Best is trial 43 with value: -620885822.9425627.\n",
      "[I 2023-11-30 18:30:10,306] Trial 47 finished with value: -617974405.4456784 and parameters: {'model_xgbr__learning_rate': 0.09243325994373155, 'model_xgbr__min_split_loss': 96979, 'model_xgbr__max_depth': 42, 'model_xgbr__min_child_weight': 1, 'model_xgbr__subsample': 0.729618257582194, 'model_xgbr__colsample_bytree': 0.9977248657932921, 'model_xgbr__reg_lambda': 190, 'model_xgbr__reg_alpha': 29, 'model_xgbr__n_estimators': 1813, 'model_xgbr__max_leaves': 23}. Best is trial 47 with value: -617974405.4456784.\n",
      "[I 2023-11-30 18:30:19,265] Trial 48 finished with value: -638661324.0644405 and parameters: {'model_xgbr__learning_rate': 0.09236964354423335, 'model_xgbr__min_split_loss': 93974, 'model_xgbr__max_depth': 24, 'model_xgbr__min_child_weight': 1, 'model_xgbr__subsample': 0.824101180216172, 'model_xgbr__colsample_bytree': 0.9924037421248376, 'model_xgbr__reg_lambda': 67, 'model_xgbr__reg_alpha': 29, 'model_xgbr__n_estimators': 1503, 'model_xgbr__max_leaves': 42}. Best is trial 47 with value: -617974405.4456784.\n",
      "[I 2023-11-30 18:30:20,368] Trial 49 finished with value: -2567627635.503781 and parameters: {'model_xgbr__learning_rate': 0.020755679457367893, 'model_xgbr__min_split_loss': 79579, 'model_xgbr__max_depth': 42, 'model_xgbr__min_child_weight': 5, 'model_xgbr__subsample': 0.7484439801177004, 'model_xgbr__colsample_bytree': 0.9710196942041956, 'model_xgbr__reg_lambda': 161, 'model_xgbr__reg_alpha': 65, 'model_xgbr__n_estimators': 37, 'model_xgbr__max_leaves': 46}. Best is trial 47 with value: -617974405.4456784.\n",
      "[I 2023-11-30 18:30:28,469] Trial 50 finished with value: -633402826.1590023 and parameters: {'model_xgbr__learning_rate': 0.05069844952614559, 'model_xgbr__min_split_loss': 96760, 'model_xgbr__max_depth': 33, 'model_xgbr__min_child_weight': 3, 'model_xgbr__subsample': 0.7269367602365583, 'model_xgbr__colsample_bytree': 0.939671122258193, 'model_xgbr__reg_lambda': 32, 'model_xgbr__reg_alpha': 47, 'model_xgbr__n_estimators': 1646, 'model_xgbr__max_leaves': 49}. Best is trial 47 with value: -617974405.4456784.\n",
      "[I 2023-11-30 18:30:35,042] Trial 51 finished with value: -622158154.5462692 and parameters: {'model_xgbr__learning_rate': 0.10926242694994377, 'model_xgbr__min_split_loss': 62929, 'model_xgbr__max_depth': 24, 'model_xgbr__min_child_weight': 1, 'model_xgbr__subsample': 0.7110360232451227, 'model_xgbr__colsample_bytree': 0.9980048992992371, 'model_xgbr__reg_lambda': 196, 'model_xgbr__reg_alpha': 24, 'model_xgbr__n_estimators': 1785, 'model_xgbr__max_leaves': 23}. Best is trial 47 with value: -617974405.4456784.\n",
      "[I 2023-11-30 18:30:46,557] Trial 52 finished with value: -621919585.0002002 and parameters: {'model_xgbr__learning_rate': 0.10917248339259156, 'model_xgbr__min_split_loss': 51758, 'model_xgbr__max_depth': 18, 'model_xgbr__min_child_weight': 1, 'model_xgbr__subsample': 0.691918351580883, 'model_xgbr__colsample_bytree': 0.9922957360538402, 'model_xgbr__reg_lambda': 189, 'model_xgbr__reg_alpha': 30, 'model_xgbr__n_estimators': 1794, 'model_xgbr__max_leaves': 27}. Best is trial 47 with value: -617974405.4456784.\n",
      "[I 2023-11-30 18:30:52,344] Trial 53 finished with value: -622340979.1275692 and parameters: {'model_xgbr__learning_rate': 0.10810244342326195, 'model_xgbr__min_split_loss': 48134, 'model_xgbr__max_depth': 17, 'model_xgbr__min_child_weight': 1, 'model_xgbr__subsample': 0.6907498447872056, 'model_xgbr__colsample_bytree': 0.9768380888585425, 'model_xgbr__reg_lambda': 185, 'model_xgbr__reg_alpha': 39, 'model_xgbr__n_estimators': 1717, 'model_xgbr__max_leaves': 21}. Best is trial 47 with value: -617974405.4456784.\n",
      "[I 2023-11-30 18:30:56,408] Trial 54 finished with value: -636573512.3143128 and parameters: {'model_xgbr__learning_rate': 0.07563900691087588, 'model_xgbr__min_split_loss': 52930, 'model_xgbr__max_depth': 12, 'model_xgbr__min_child_weight': 1, 'model_xgbr__subsample': 0.6892051984386307, 'model_xgbr__colsample_bytree': 0.9080605069106635, 'model_xgbr__reg_lambda': 192, 'model_xgbr__reg_alpha': 37, 'model_xgbr__n_estimators': 1910, 'model_xgbr__max_leaves': 12}. Best is trial 47 with value: -617974405.4456784.\n",
      "[I 2023-11-30 18:31:00,732] Trial 55 finished with value: -625142645.6771644 and parameters: {'model_xgbr__learning_rate': 0.11232855155752154, 'model_xgbr__min_split_loss': 32221, 'model_xgbr__max_depth': 19, 'model_xgbr__min_child_weight': 1, 'model_xgbr__subsample': 0.6561041779309787, 'model_xgbr__colsample_bytree': 0.972854667431959, 'model_xgbr__reg_lambda': 181, 'model_xgbr__reg_alpha': 53, 'model_xgbr__n_estimators': 1351, 'model_xgbr__max_leaves': 22}. Best is trial 47 with value: -617974405.4456784.\n",
      "[I 2023-11-30 18:31:07,209] Trial 56 finished with value: -719619773.7712238 and parameters: {'model_xgbr__learning_rate': 0.04076800533488863, 'model_xgbr__min_split_loss': 61665, 'model_xgbr__max_depth': 10, 'model_xgbr__min_child_weight': 1, 'model_xgbr__subsample': 0.7152955042052112, 'model_xgbr__colsample_bytree': 0.9434241390422867, 'model_xgbr__reg_lambda': 170, 'model_xgbr__reg_alpha': 80, 'model_xgbr__n_estimators': 1680, 'model_xgbr__max_leaves': 6}. Best is trial 47 with value: -617974405.4456784.\n",
      "[I 2023-11-30 18:31:13,267] Trial 57 finished with value: -774173162.6637832 and parameters: {'model_xgbr__learning_rate': 0.09165141535920217, 'model_xgbr__min_split_loss': 14241, 'model_xgbr__max_depth': 25, 'model_xgbr__min_child_weight': 19, 'model_xgbr__subsample': 0.6889274243967142, 'model_xgbr__colsample_bytree': 0.9673148501177707, 'model_xgbr__reg_lambda': 193, 'model_xgbr__reg_alpha': 42, 'model_xgbr__n_estimators': 1720, 'model_xgbr__max_leaves': 16}. Best is trial 47 with value: -617974405.4456784.\n",
      "[I 2023-11-30 18:31:25,309] Trial 58 finished with value: -632759838.3621728 and parameters: {'model_xgbr__learning_rate': 0.06382283894552031, 'model_xgbr__min_split_loss': 82229, 'model_xgbr__max_depth': 17, 'model_xgbr__min_child_weight': 3, 'model_xgbr__subsample': 0.6582736841973214, 'model_xgbr__colsample_bytree': 0.9387223018291022, 'model_xgbr__reg_lambda': 178, 'model_xgbr__reg_alpha': 15, 'model_xgbr__n_estimators': 1862, 'model_xgbr__max_leaves': 28}. Best is trial 47 with value: -617974405.4456784.\n",
      "[I 2023-11-30 18:31:35,903] Trial 59 finished with value: -699203177.0746884 and parameters: {'model_xgbr__learning_rate': 0.17482608075216155, 'model_xgbr__min_split_loss': 47297, 'model_xgbr__max_depth': 2, 'model_xgbr__min_child_weight': 2, 'model_xgbr__subsample': 0.7117839648715735, 'model_xgbr__colsample_bytree': 0.9869233059416669, 'model_xgbr__reg_lambda': 187, 'model_xgbr__reg_alpha': 39, 'model_xgbr__n_estimators': 1952, 'model_xgbr__max_leaves': 19}. Best is trial 47 with value: -617974405.4456784.\n",
      "[I 2023-11-30 18:31:48,246] Trial 60 finished with value: -679604707.078166 and parameters: {'model_xgbr__learning_rate': 0.03550842829224392, 'model_xgbr__min_split_loss': 46250, 'model_xgbr__max_depth': 9, 'model_xgbr__min_child_weight': 1, 'model_xgbr__subsample': 0.6170571156220834, 'model_xgbr__colsample_bytree': 0.9093742060460117, 'model_xgbr__reg_lambda': 200, 'model_xgbr__reg_alpha': 28, 'model_xgbr__n_estimators': 1416, 'model_xgbr__max_leaves': 25}. Best is trial 47 with value: -617974405.4456784.\n",
      "[I 2023-11-30 18:32:00,626] Trial 61 finished with value: -624335073.9885517 and parameters: {'model_xgbr__learning_rate': 0.1032490663499629, 'model_xgbr__min_split_loss': 39844, 'model_xgbr__max_depth': 30, 'model_xgbr__min_child_weight': 3, 'model_xgbr__subsample': 0.6946713346037715, 'model_xgbr__colsample_bytree': 0.9961745377748149, 'model_xgbr__reg_lambda': 168, 'model_xgbr__reg_alpha': 34, 'model_xgbr__n_estimators': 1768, 'model_xgbr__max_leaves': 32}. Best is trial 47 with value: -617974405.4456784.\n",
      "[I 2023-11-30 18:32:10,345] Trial 62 finished with value: -627244336.9441378 and parameters: {'model_xgbr__learning_rate': 0.07376246587697739, 'model_xgbr__min_split_loss': 67649, 'model_xgbr__max_depth': 35, 'model_xgbr__min_child_weight': 3, 'model_xgbr__subsample': 0.7509443691254366, 'model_xgbr__colsample_bytree': 0.9826353014351571, 'model_xgbr__reg_lambda': 187, 'model_xgbr__reg_alpha': 30, 'model_xgbr__n_estimators': 1826, 'model_xgbr__max_leaves': 23}. Best is trial 47 with value: -617974405.4456784.\n",
      "[I 2023-11-30 18:32:19,717] Trial 63 finished with value: -628157597.7915752 and parameters: {'model_xgbr__learning_rate': 0.11540151940330401, 'model_xgbr__min_split_loss': 104518, 'model_xgbr__max_depth': 21, 'model_xgbr__min_child_weight': 4, 'model_xgbr__subsample': 0.7178423525888431, 'model_xgbr__colsample_bytree': 0.9995315437700679, 'model_xgbr__reg_lambda': 160, 'model_xgbr__reg_alpha': 25, 'model_xgbr__n_estimators': 1535, 'model_xgbr__max_leaves': 27}. Best is trial 47 with value: -617974405.4456784.\n",
      "[I 2023-11-30 18:32:25,782] Trial 64 finished with value: -659010491.905098 and parameters: {'model_xgbr__learning_rate': 0.0742380455029738, 'model_xgbr__min_split_loss': 86203, 'model_xgbr__max_depth': 44, 'model_xgbr__min_child_weight': 1, 'model_xgbr__subsample': 0.6994464630337605, 'model_xgbr__colsample_bytree': 0.9603384413164517, 'model_xgbr__reg_lambda': 194, 'model_xgbr__reg_alpha': 31, 'model_xgbr__n_estimators': 1650, 'model_xgbr__max_leaves': 9}. Best is trial 47 with value: -617974405.4456784.\n",
      "[I 2023-11-30 18:32:42,816] Trial 65 finished with value: -625394221.0043771 and parameters: {'model_xgbr__learning_rate': 0.09434732652651295, 'model_xgbr__min_split_loss': 117313, 'model_xgbr__max_depth': 39, 'model_xgbr__min_child_weight': 2, 'model_xgbr__subsample': 0.7404753601576468, 'model_xgbr__colsample_bytree': 0.9486566917201071, 'model_xgbr__reg_lambda': 175, 'model_xgbr__reg_alpha': 41, 'model_xgbr__n_estimators': 1720, 'model_xgbr__max_leaves': 15}. Best is trial 47 with value: -617974405.4456784.\n",
      "[I 2023-11-30 18:32:56,839] Trial 66 finished with value: -640817086.0798702 and parameters: {'model_xgbr__learning_rate': 0.18520882878959416, 'model_xgbr__min_split_loss': 22707, 'model_xgbr__max_depth': 50, 'model_xgbr__min_child_weight': 5, 'model_xgbr__subsample': 0.6785646799876177, 'model_xgbr__colsample_bytree': 0.9676252081482571, 'model_xgbr__reg_lambda': 184, 'model_xgbr__reg_alpha': 36, 'model_xgbr__n_estimators': 1931, 'model_xgbr__max_leaves': 20}. Best is trial 47 with value: -617974405.4456784.\n",
      "[I 2023-11-30 18:33:00,266] Trial 67 finished with value: -952084565.8085811 and parameters: {'model_xgbr__learning_rate': 0.12272913365176527, 'model_xgbr__min_split_loss': 68615, 'model_xgbr__max_depth': 14, 'model_xgbr__min_child_weight': 15, 'model_xgbr__subsample': 0.7178419322427012, 'model_xgbr__colsample_bytree': 0.9996870604092356, 'model_xgbr__reg_lambda': 121, 'model_xgbr__reg_alpha': 98, 'model_xgbr__n_estimators': 1601, 'model_xgbr__max_leaves': 2}. Best is trial 47 with value: -617974405.4456784.\n",
      "[I 2023-11-30 18:33:07,716] Trial 68 finished with value: -624700208.376477 and parameters: {'model_xgbr__learning_rate': 0.14803669762820088, 'model_xgbr__min_split_loss': 133650, 'model_xgbr__max_depth': 6, 'model_xgbr__min_child_weight': 3, 'model_xgbr__subsample': 0.7574101562298112, 'model_xgbr__colsample_bytree': 0.9816309309935167, 'model_xgbr__reg_lambda': 194, 'model_xgbr__reg_alpha': 25, 'model_xgbr__n_estimators': 1767, 'model_xgbr__max_leaves': 32}. Best is trial 47 with value: -617974405.4456784.\n",
      "[I 2023-11-30 18:33:18,923] Trial 69 finished with value: -627902249.9812799 and parameters: {'model_xgbr__learning_rate': 0.10782150312736151, 'model_xgbr__min_split_loss': 122546, 'model_xgbr__max_depth': 28, 'model_xgbr__min_child_weight': 1, 'model_xgbr__subsample': 0.7321867832702807, 'model_xgbr__colsample_bytree': 0.9197303342448442, 'model_xgbr__reg_lambda': 143, 'model_xgbr__reg_alpha': 91, 'model_xgbr__n_estimators': 1824, 'model_xgbr__max_leaves': 38}. Best is trial 47 with value: -617974405.4456784.\n",
      "[I 2023-11-30 18:33:27,613] Trial 70 finished with value: -644938660.543562 and parameters: {'model_xgbr__learning_rate': 0.16280739126901755, 'model_xgbr__min_split_loss': 62117, 'model_xgbr__max_depth': 24, 'model_xgbr__min_child_weight': 2, 'model_xgbr__subsample': 0.6787675062212611, 'model_xgbr__colsample_bytree': 0.9501854963238511, 'model_xgbr__reg_lambda': 92, 'model_xgbr__reg_alpha': 19, 'model_xgbr__n_estimators': 1867, 'model_xgbr__max_leaves': 24}. Best is trial 47 with value: -617974405.4456784.\n",
      "[I 2023-11-30 18:33:37,849] Trial 71 finished with value: -631587944.6253083 and parameters: {'model_xgbr__learning_rate': 0.10206428938801539, 'model_xgbr__min_split_loss': 37602, 'model_xgbr__max_depth': 29, 'model_xgbr__min_child_weight': 4, 'model_xgbr__subsample': 0.7002657898709599, 'model_xgbr__colsample_bytree': 0.9861207183287238, 'model_xgbr__reg_lambda': 167, 'model_xgbr__reg_alpha': 33, 'model_xgbr__n_estimators': 1753, 'model_xgbr__max_leaves': 31}. Best is trial 47 with value: -617974405.4456784.\n",
      "[I 2023-11-30 18:33:48,770] Trial 72 finished with value: -626204088.4475555 and parameters: {'model_xgbr__learning_rate': 0.12903453462777406, 'model_xgbr__min_split_loss': 38599, 'model_xgbr__max_depth': 32, 'model_xgbr__min_child_weight': 3, 'model_xgbr__subsample': 0.6995326561384559, 'model_xgbr__colsample_bytree': 0.9640313673660643, 'model_xgbr__reg_lambda': 170, 'model_xgbr__reg_alpha': 27, 'model_xgbr__n_estimators': 1945, 'model_xgbr__max_leaves': 41}. Best is trial 47 with value: -617974405.4456784.\n",
      "[I 2023-11-30 18:34:00,234] Trial 73 finished with value: -635674929.4809616 and parameters: {'model_xgbr__learning_rate': 0.06398836814619234, 'model_xgbr__min_split_loss': 24237, 'model_xgbr__max_depth': 17, 'model_xgbr__min_child_weight': 3, 'model_xgbr__subsample': 0.6508206756643079, 'model_xgbr__colsample_bytree': 0.9861097792360357, 'model_xgbr__reg_lambda': 182, 'model_xgbr__reg_alpha': 35, 'model_xgbr__n_estimators': 1789, 'model_xgbr__max_leaves': 35}. Best is trial 47 with value: -617974405.4456784.\n",
      "[I 2023-11-30 18:34:29,144] Trial 74 finished with value: -618328645.0971323 and parameters: {'model_xgbr__learning_rate': 0.10260304450490287, 'model_xgbr__min_split_loss': 101454, 'model_xgbr__max_depth': 38, 'model_xgbr__min_child_weight': 2, 'model_xgbr__subsample': 0.740825350472765, 'model_xgbr__colsample_bytree': 0.9421693235204812, 'model_xgbr__reg_lambda': 157, 'model_xgbr__reg_alpha': 32, 'model_xgbr__n_estimators': 1685, 'model_xgbr__max_leaves': 27}. Best is trial 47 with value: -617974405.4456784.\n",
      "[I 2023-11-30 18:34:36,244] Trial 75 finished with value: -624145812.4873836 and parameters: {'model_xgbr__learning_rate': 0.08256944364747124, 'model_xgbr__min_split_loss': 109178, 'model_xgbr__max_depth': 41, 'model_xgbr__min_child_weight': 2, 'model_xgbr__subsample': 0.7540721665489258, 'model_xgbr__colsample_bytree': 0.9366570440780523, 'model_xgbr__reg_lambda': 156, 'model_xgbr__reg_alpha': 31, 'model_xgbr__n_estimators': 1638, 'model_xgbr__max_leaves': 17}. Best is trial 47 with value: -617974405.4456784.\n",
      "[I 2023-11-30 18:34:52,492] Trial 76 finished with value: -621853021.7955987 and parameters: {'model_xgbr__learning_rate': 0.14286515631639693, 'model_xgbr__min_split_loss': 75607, 'model_xgbr__max_depth': 48, 'model_xgbr__min_child_weight': 1, 'model_xgbr__subsample': 0.7422477895360913, 'model_xgbr__colsample_bytree': 0.9651803969456466, 'model_xgbr__reg_lambda': 196, 'model_xgbr__reg_alpha': 38, 'model_xgbr__n_estimators': 1703, 'model_xgbr__max_leaves': 27}. Best is trial 47 with value: -617974405.4456784.\n",
      "[I 2023-11-30 18:34:59,781] Trial 77 finished with value: -624312398.718996 and parameters: {'model_xgbr__learning_rate': 0.15861782299423097, 'model_xgbr__min_split_loss': 87355, 'model_xgbr__max_depth': 48, 'model_xgbr__min_child_weight': 1, 'model_xgbr__subsample': 0.7365040408248289, 'model_xgbr__colsample_bytree': 0.9461573203830674, 'model_xgbr__reg_lambda': 196, 'model_xgbr__reg_alpha': 43, 'model_xgbr__n_estimators': 1526, 'model_xgbr__max_leaves': 21}. Best is trial 47 with value: -617974405.4456784.\n",
      "[I 2023-11-30 18:35:08,137] Trial 78 finished with value: -628405646.2614824 and parameters: {'model_xgbr__learning_rate': 0.14191004878384536, 'model_xgbr__min_split_loss': 74310, 'model_xgbr__max_depth': 52, 'model_xgbr__min_child_weight': 1, 'model_xgbr__subsample': 0.7829287203510285, 'model_xgbr__colsample_bytree': 0.9200531760623111, 'model_xgbr__reg_lambda': 189, 'model_xgbr__reg_alpha': 51, 'model_xgbr__n_estimators': 1888, 'model_xgbr__max_leaves': 28}. Best is trial 47 with value: -617974405.4456784.\n",
      "[I 2023-11-30 18:35:13,258] Trial 79 finished with value: -625780287.407954 and parameters: {'model_xgbr__learning_rate': 0.1271691233548199, 'model_xgbr__min_split_loss': 57245, 'model_xgbr__max_depth': 57, 'model_xgbr__min_child_weight': 2, 'model_xgbr__subsample': 0.7226131545629864, 'model_xgbr__colsample_bytree': 0.9651174059490794, 'model_xgbr__reg_lambda': 175, 'model_xgbr__reg_alpha': 48, 'model_xgbr__n_estimators': 1469, 'model_xgbr__max_leaves': 14}. Best is trial 47 with value: -617974405.4456784.\n",
      "[I 2023-11-30 18:35:24,662] Trial 80 finished with value: -649875030.9757366 and parameters: {'model_xgbr__learning_rate': 0.190404170592266, 'model_xgbr__min_split_loss': 102216, 'model_xgbr__max_depth': 45, 'model_xgbr__min_child_weight': 9, 'model_xgbr__subsample': 0.764173632323576, 'model_xgbr__colsample_bytree': 0.9553578629568258, 'model_xgbr__reg_lambda': 197, 'model_xgbr__reg_alpha': 39, 'model_xgbr__n_estimators': 1692, 'model_xgbr__max_leaves': 24}. Best is trial 47 with value: -617974405.4456784.\n",
      "[I 2023-11-30 18:35:39,791] Trial 81 finished with value: -620144860.9230554 and parameters: {'model_xgbr__learning_rate': 0.10929169891794695, 'model_xgbr__min_split_loss': 98951, 'model_xgbr__max_depth': 38, 'model_xgbr__min_child_weight': 2, 'model_xgbr__subsample': 0.7422635686847104, 'model_xgbr__colsample_bytree': 0.9759645506741988, 'model_xgbr__reg_lambda': 185, 'model_xgbr__reg_alpha': 24, 'model_xgbr__n_estimators': 1839, 'model_xgbr__max_leaves': 29}. Best is trial 47 with value: -617974405.4456784.\n",
      "[I 2023-11-30 18:35:50,103] Trial 82 finished with value: -620391500.7287985 and parameters: {'model_xgbr__learning_rate': 0.09128087429096968, 'model_xgbr__min_split_loss': 87868, 'model_xgbr__max_depth': 37, 'model_xgbr__min_child_weight': 1, 'model_xgbr__subsample': 0.7060456151799166, 'model_xgbr__colsample_bytree': 0.9783553009879621, 'model_xgbr__reg_lambda': 186, 'model_xgbr__reg_alpha': 25, 'model_xgbr__n_estimators': 1871, 'model_xgbr__max_leaves': 29}. Best is trial 47 with value: -617974405.4456784.\n",
      "[I 2023-11-30 18:36:01,316] Trial 83 finished with value: -621764740.4830968 and parameters: {'model_xgbr__learning_rate': 0.09030077404157516, 'model_xgbr__min_split_loss': 87085, 'model_xgbr__max_depth': 37, 'model_xgbr__min_child_weight': 1, 'model_xgbr__subsample': 0.704520455782667, 'model_xgbr__colsample_bytree': 0.9770455939854956, 'model_xgbr__reg_lambda': 184, 'model_xgbr__reg_alpha': 25, 'model_xgbr__n_estimators': 1206, 'model_xgbr__max_leaves': 30}. Best is trial 47 with value: -617974405.4456784.\n",
      "[I 2023-11-30 18:36:07,381] Trial 84 finished with value: -637018218.4076262 and parameters: {'model_xgbr__learning_rate': 0.08630084478499364, 'model_xgbr__min_split_loss': 83928, 'model_xgbr__max_depth': 35, 'model_xgbr__min_child_weight': 2, 'model_xgbr__subsample': 0.7414628439834804, 'model_xgbr__colsample_bytree': 0.9737602069557736, 'model_xgbr__reg_lambda': 178, 'model_xgbr__reg_alpha': 24, 'model_xgbr__n_estimators': 928, 'model_xgbr__max_leaves': 28}. Best is trial 47 with value: -617974405.4456784.\n",
      "[I 2023-11-30 18:36:15,913] Trial 85 finished with value: -627991309.6768103 and parameters: {'model_xgbr__learning_rate': 0.05509147428876443, 'model_xgbr__min_split_loss': 76024, 'model_xgbr__max_depth': 38, 'model_xgbr__min_child_weight': 1, 'model_xgbr__subsample': 0.780574992805261, 'model_xgbr__colsample_bytree': 0.932517387276018, 'model_xgbr__reg_lambda': 188, 'model_xgbr__reg_alpha': 19, 'model_xgbr__n_estimators': 1593, 'model_xgbr__max_leaves': 37}. Best is trial 47 with value: -617974405.4456784.\n",
      "[I 2023-11-30 18:36:23,234] Trial 86 finished with value: -636434761.7182726 and parameters: {'model_xgbr__learning_rate': 0.06659157979900045, 'model_xgbr__min_split_loss': 110421, 'model_xgbr__max_depth': 48, 'model_xgbr__min_child_weight': 2, 'model_xgbr__subsample': 0.7164390900036846, 'model_xgbr__colsample_bytree': 0.9850166216373454, 'model_xgbr__reg_lambda': 183, 'model_xgbr__reg_alpha': 13, 'model_xgbr__n_estimators': 1183, 'model_xgbr__max_leaves': 30}. Best is trial 47 with value: -617974405.4456784.\n",
      "[I 2023-11-30 18:36:32,484] Trial 87 finished with value: -618602144.5434439 and parameters: {'model_xgbr__learning_rate': 0.08980076759457964, 'model_xgbr__min_split_loss': 102415, 'model_xgbr__max_depth': 43, 'model_xgbr__min_child_weight': 1, 'model_xgbr__subsample': 0.7058907414650064, 'model_xgbr__colsample_bytree': 0.9478570678808004, 'model_xgbr__reg_lambda': 191, 'model_xgbr__reg_alpha': 27, 'model_xgbr__n_estimators': 1836, 'model_xgbr__max_leaves': 27}. Best is trial 47 with value: -617974405.4456784.\n",
      "[I 2023-11-30 18:36:45,290] Trial 88 finished with value: -661078145.8115064 and parameters: {'model_xgbr__learning_rate': 0.03326678553478892, 'model_xgbr__min_split_loss': 98429, 'model_xgbr__max_depth': 43, 'model_xgbr__min_child_weight': 2, 'model_xgbr__subsample': 0.6694222238958639, 'model_xgbr__colsample_bytree': 0.8924681687867257, 'model_xgbr__reg_lambda': 190, 'model_xgbr__reg_alpha': 28, 'model_xgbr__n_estimators': 1846, 'model_xgbr__max_leaves': 33}. Best is trial 47 with value: -617974405.4456784.\n",
      "[I 2023-11-30 18:36:57,756] Trial 89 finished with value: -622456553.7974614 and parameters: {'model_xgbr__learning_rate': 0.09569580358487784, 'model_xgbr__min_split_loss': 89701, 'model_xgbr__max_depth': 37, 'model_xgbr__min_child_weight': 1, 'model_xgbr__subsample': 0.7271505423012793, 'model_xgbr__colsample_bytree': 0.9128984002227194, 'model_xgbr__reg_lambda': 174, 'model_xgbr__reg_alpha': 21, 'model_xgbr__n_estimators': 1961, 'model_xgbr__max_leaves': 27}. Best is trial 47 with value: -617974405.4456784.\n",
      "[I 2023-11-30 18:37:05,360] Trial 90 finished with value: -620690823.5983449 and parameters: {'model_xgbr__learning_rate': 0.07554237218695749, 'model_xgbr__min_split_loss': 103866, 'model_xgbr__max_depth': 51, 'model_xgbr__min_child_weight': 2, 'model_xgbr__subsample': 0.7585159963478938, 'model_xgbr__colsample_bytree': 0.9475853777360088, 'model_xgbr__reg_lambda': 108, 'model_xgbr__reg_alpha': 17, 'model_xgbr__n_estimators': 1205, 'model_xgbr__max_leaves': 34}. Best is trial 47 with value: -617974405.4456784.\n",
      "[I 2023-11-30 18:37:12,158] Trial 91 finished with value: -635779253.0137548 and parameters: {'model_xgbr__learning_rate': 0.04919315117859512, 'model_xgbr__min_split_loss': 101696, 'model_xgbr__max_depth': 52, 'model_xgbr__min_child_weight': 2, 'model_xgbr__subsample': 0.7601098697908198, 'model_xgbr__colsample_bytree': 0.9348408691605748, 'model_xgbr__reg_lambda': 104, 'model_xgbr__reg_alpha': 17, 'model_xgbr__n_estimators': 998, 'model_xgbr__max_leaves': 34}. Best is trial 47 with value: -617974405.4456784.\n",
      "[I 2023-11-30 18:37:17,694] Trial 92 finished with value: -619782432.795674 and parameters: {'model_xgbr__learning_rate': 0.07710915788271316, 'model_xgbr__min_split_loss': 125775, 'model_xgbr__max_depth': 46, 'model_xgbr__min_child_weight': 1, 'model_xgbr__subsample': 0.7391744098797132, 'model_xgbr__colsample_bytree': 0.9516674353035008, 'model_xgbr__reg_lambda': 133, 'model_xgbr__reg_alpha': 28, 'model_xgbr__n_estimators': 1154, 'model_xgbr__max_leaves': 30}. Best is trial 47 with value: -617974405.4456784.\n",
      "[I 2023-11-30 18:37:24,188] Trial 93 finished with value: -733250272.1879691 and parameters: {'model_xgbr__learning_rate': 0.012501765471977427, 'model_xgbr__min_split_loss': 109814, 'model_xgbr__max_depth': 47, 'model_xgbr__min_child_weight': 1, 'model_xgbr__subsample': 0.7404952641779707, 'model_xgbr__colsample_bytree': 0.947855865194339, 'model_xgbr__reg_lambda': 127, 'model_xgbr__reg_alpha': 13, 'model_xgbr__n_estimators': 1232, 'model_xgbr__max_leaves': 30}. Best is trial 47 with value: -617974405.4456784.\n",
      "[I 2023-11-30 18:37:32,289] Trial 94 finished with value: -627768589.8416886 and parameters: {'model_xgbr__learning_rate': 0.0727848760473399, 'model_xgbr__min_split_loss': 125187, 'model_xgbr__max_depth': 40, 'model_xgbr__min_child_weight': 4, 'model_xgbr__subsample': 0.7716163615740739, 'model_xgbr__colsample_bytree': 0.9208724739660067, 'model_xgbr__reg_lambda': 93, 'model_xgbr__reg_alpha': 27, 'model_xgbr__n_estimators': 1205, 'model_xgbr__max_leaves': 40}. Best is trial 47 with value: -617974405.4456784.\n",
      "[I 2023-11-30 18:37:39,804] Trial 95 finished with value: -658349729.0990353 and parameters: {'model_xgbr__learning_rate': 0.0868894470083142, 'model_xgbr__min_split_loss': 93578, 'model_xgbr__max_depth': 58, 'model_xgbr__min_child_weight': 10, 'model_xgbr__subsample': 0.70509409055827, 'model_xgbr__colsample_bytree': 0.9615657573099697, 'model_xgbr__reg_lambda': 109, 'model_xgbr__reg_alpha': 22, 'model_xgbr__n_estimators': 1141, 'model_xgbr__max_leaves': 25}. Best is trial 47 with value: -617974405.4456784.\n",
      "[I 2023-11-30 18:37:48,546] Trial 96 finished with value: -635916878.569405 and parameters: {'model_xgbr__learning_rate': 0.03242403448207555, 'model_xgbr__min_split_loss': 79721, 'model_xgbr__max_depth': 55, 'model_xgbr__min_child_weight': 2, 'model_xgbr__subsample': 0.7600354706283862, 'model_xgbr__colsample_bytree': 0.9000451058230516, 'model_xgbr__reg_lambda': 84, 'model_xgbr__reg_alpha': 20, 'model_xgbr__n_estimators': 1337, 'model_xgbr__max_leaves': 44}. Best is trial 47 with value: -617974405.4456784.\n",
      "[I 2023-11-30 18:37:56,115] Trial 97 finished with value: -641451431.8878814 and parameters: {'model_xgbr__learning_rate': 0.05282814090054698, 'model_xgbr__min_split_loss': 105883, 'model_xgbr__max_depth': 50, 'model_xgbr__min_child_weight': 2, 'model_xgbr__subsample': 0.7248213461289666, 'model_xgbr__colsample_bytree': 0.935069954574246, 'model_xgbr__reg_lambda': 136, 'model_xgbr__reg_alpha': 69, 'model_xgbr__n_estimators': 1066, 'model_xgbr__max_leaves': 36}. Best is trial 47 with value: -617974405.4456784.\n",
      "[I 2023-11-30 18:38:02,241] Trial 98 finished with value: -623807067.5631694 and parameters: {'model_xgbr__learning_rate': 0.11926559873451498, 'model_xgbr__min_split_loss': 131567, 'model_xgbr__max_depth': 44, 'model_xgbr__min_child_weight': 3, 'model_xgbr__subsample': 0.7832208349606122, 'model_xgbr__colsample_bytree': 0.9708716960400574, 'model_xgbr__reg_lambda': 111, 'model_xgbr__reg_alpha': 32, 'model_xgbr__n_estimators': 949, 'model_xgbr__max_leaves': 33}. Best is trial 47 with value: -617974405.4456784.\n",
      "[I 2023-11-30 18:38:09,774] Trial 99 finished with value: -650034210.1850026 and parameters: {'model_xgbr__learning_rate': 0.07447765219467686, 'model_xgbr__min_split_loss': 142145, 'model_xgbr__max_depth': 61, 'model_xgbr__min_child_weight': 1, 'model_xgbr__subsample': 0.7439818175313404, 'model_xgbr__colsample_bytree': 0.9503701956898104, 'model_xgbr__reg_lambda': 155, 'model_xgbr__reg_alpha': 16, 'model_xgbr__n_estimators': 765, 'model_xgbr__max_leaves': 18}. Best is trial 47 with value: -617974405.4456784.\n"
     ]
    }
   ],
   "source": [
    "study = optuna.create_study(direction='maximize') #maximize\n",
    "study.optimize(hyper_opt, n_trials=100)"
   ]
  },
  {
   "cell_type": "code",
   "execution_count": 17,
   "metadata": {},
   "outputs": [
    {
     "name": "stdout",
     "output_type": "stream",
     "text": [
      "{'model_xgbr__learning_rate': 0.09243325994373155, 'model_xgbr__min_split_loss': 96979, 'model_xgbr__max_depth': 42, 'model_xgbr__min_child_weight': 1, 'model_xgbr__subsample': 0.729618257582194, 'model_xgbr__colsample_bytree': 0.9977248657932921, 'model_xgbr__reg_lambda': 190, 'model_xgbr__reg_alpha': 29, 'model_xgbr__n_estimators': 1813, 'model_xgbr__max_leaves': 23}\n"
     ]
    },
    {
     "name": "stderr",
     "output_type": "stream",
     "text": [
      "/tmp/ipykernel_41012/1373939319.py:3: ExperimentalWarning: plot_param_importances is experimental (supported from v2.2.0). The interface can change in the future.\n",
      "  plot_param_importances(study);\n"
     ]
    },
    {
     "data": {
      "text/plain": [
       "-617974405.4456784"
      ]
     },
     "execution_count": 17,
     "metadata": {},
     "output_type": "execute_result"
    },
    {
     "data": {
      "image/png": "[encoded data removed]",
      "text/plain": [
       "<Figure size 640x480 with 1 Axes>"
      ]
     },
     "metadata": {},
     "output_type": "display_data"
    }
   ],
   "source": [
    "print(study.best_params)\n",
    "\n",
    "plot_param_importances(study);\n",
    "study.best_value"
   ]
  },
  {
   "cell_type": "code",
   "execution_count": 18,
   "metadata": {},
   "outputs": [
    {
     "data": {
      "text/plain": [
       "array([7.20956603])"
      ]
     },
     "execution_count": 18,
     "metadata": {},
     "output_type": "execute_result"
    }
   ],
   "source": [
    "pipe_xgbr.set_params(**study.best_params)\n",
    "pipe_xgbr.fit(X_train, y_train)\n",
    "pd.DataFrame(pipe_xgbr.predict(X_train)).describe()\n",
    "mean_squared_error(y_train, pipe_xgbr.predict(X_train))/y_train.shape\n",
    "mean_absolute_error(y_train, pipe_xgbr.predict(X_train))/y_train.shape"
   ]
  },
  {
   "cell_type": "markdown",
   "metadata": {},
   "source": [
    "## Mlflow model save"
   ]
  },
  {
   "cell_type": "code",
   "execution_count": null,
   "metadata": {},
   "outputs": [],
   "source": [
    "# start server \n",
    "mlflow.set_tracking_uri='http://127.0.0.1:5000'"
   ]
  },
  {
   "cell_type": "code",
   "execution_count": 19,
   "metadata": {},
   "outputs": [
    {
     "name": "stderr",
     "output_type": "stream",
     "text": [
      "2023/11/30 18:46:39 INFO mlflow.tracking.fluent: Experiment with name 'XGBR 4' does not exist. Creating a new experiment.\n"
     ]
    },
    {
     "data": {
      "text/plain": [
       "<Experiment: artifact_location='file:///home/pmu/zet/obs-h/Skills/Data%20Science/Data%20Scientist%20Full-Stack/exercises/practice/mlruns/555592421686817878', creation_time=1701359199067, experiment_id='555592421686817878', last_update_time=1701359199067, lifecycle_stage='active', name='XGBR 4', tags={}>"
      ]
     },
     "execution_count": 19,
     "metadata": {},
     "output_type": "execute_result"
    }
   ],
   "source": [
    "# Set our tracking server uri for logging\n",
    "# mlflow.set_tracking_uri(uri=\"http://127.0.0.1:5000\")\n",
    "\n",
    "# Create a new MLflow Experiment\n",
    "mlflow.set_experiment(\"XGBR 4\")"
   ]
  },
  {
   "cell_type": "code",
   "execution_count": 20,
   "metadata": {
    "scrolled": true
   },
   "outputs": [
    {
     "data": {
      "image/png": "[encoded data removed]",
      "text/plain": [
       "<Figure size 640x480 with 1 Axes>"
      ]
     },
     "metadata": {},
     "output_type": "display_data"
    }
   ],
   "source": [
    "hyperparams = optuna.importance.get_param_importances(study)\n",
    "sns.barplot(y=hyperparams.keys(), x=hyperparams.values())\n",
    "plt.savefig('hyperparams.png')"
   ]
  },
  {
   "cell_type": "code",
   "execution_count": 32,
   "metadata": {},
   "outputs": [
    {
     "data": {
      "text/plain": [
       "920.0"
      ]
     },
     "execution_count": 32,
     "metadata": {},
     "output_type": "execute_result"
    }
   ],
   "source": [
    "len(y_train) * 0.8"
   ]
  },
  {
   "cell_type": "code",
   "execution_count": 21,
   "metadata": {},
   "outputs": [],
   "source": [
    "# Start an MLflow run\n",
    "with mlflow.start_run(run_name='xgbr_price_2000_estimate_max_lives'):\n",
    "    # Log the hyperparameters\n",
    "    mlflow.log_params(study.best_params)\n",
    "    pipe_xgbr.set_params(**study.best_params)\n",
    "    pipe_xgbr.fit(X_train, y_train)\n",
    "    predict_test  = pipe_xgbr.predict(X_test)\n",
    "    metrics = {\n",
    "        'mse_cv':study.best_value / len(y_train) * 0.8, # if cv = 5\n",
    "        'mae': mean_absolute_error(y_test, predict_test) / len(y_test),\n",
    "        'median_abs_error': abs(y_test - predict_test).median(),\n",
    "        'mean_abs_error': abs(y_test - predict_test).mean(),\n",
    "        'median_error': (abs(y_test - predict_test)/ y_test).median(),\n",
    "        'mean_error': (abs(y_test - predict_test) / y_test).mean()\n",
    "    } \n",
    "    mlflow.log_artifact('hyperparams.png') \n",
    "    mlflow.log_metrics(metrics)\n",
    "    mlflow.sklearn.log_model(pipe_xgbr, 'xgbr_price_2000_estimate_max_lives')"
   ]
  },
  {
   "cell_type": "code",
   "execution_count": 51,
   "metadata": {},
   "outputs": [],
   "source": [
    "# # mlflow.create_experiment('predict_price')\n",
    "# with mlflow.start_run():\n",
    "#     mlflow.log_params(study.best_params)\n",
    "#     mlflow.log_metric('mse', study.best_value)\n",
    "\n",
    "#     pipe_xgbr.set_params(**study.best_params)\n",
    "#     pipe_xgbr.fit(X_train, y_train)\n",
    "#     mlflow.sklearn.log_model(pipe_xgbr, 'xgbr_price')"
   ]
  },
  {
   "cell_type": "code",
   "execution_count": 22,
   "metadata": {},
   "outputs": [
    {
     "data": {
      "text/plain": [
       "array([7.14498313])"
      ]
     },
     "execution_count": 22,
     "metadata": {},
     "output_type": "execute_result"
    }
   ],
   "source": [
    "\n",
    "mean_absolute_error(y_train, pipe_xgbr.predict(X_train)) / y_train.shape"
   ]
  },
  {
   "cell_type": "markdown",
   "metadata": {},
   "source": [
    "# Model analysis"
   ]
  },
  {
   "cell_type": "code",
   "execution_count": 48,
   "metadata": {},
   "outputs": [
    {
     "name": "stdout",
     "output_type": "stream",
     "text": [
      "RMSE = [74.76041428]\n",
      "MAE = [36.13490354]\n"
     ]
    }
   ],
   "source": [
    "print(f'RMSE = {mean_squared_error(y_test, pipe_xgbr.predict(X_test), squared=False) / y_test.shape}')\n",
    "print(f'MAE = {mean_absolute_error(y_test, pipe_xgbr.predict(X_test)) / y_test.shape}')"
   ]
  },
  {
   "cell_type": "code",
   "execution_count": 49,
   "metadata": {},
   "outputs": [
    {
     "name": "stdout",
     "output_type": "stream",
     "text": [
      "0.1370808551662202 0.019634131038148105\n"
     ]
    },
    {
     "data": {
      "text/plain": [
       "<Axes: >"
      ]
     },
     "execution_count": 49,
     "metadata": {},
     "output_type": "execute_result"
    },
    {
     "data": {
      "image/png": "[encoded data removed]",
      "text/plain": [
       "<Figure size 640x480 with 1 Axes>"
      ]
     },
     "metadata": {},
     "output_type": "display_data"
    }
   ],
   "source": [
    "error_abs = (abs(pipe_xgbr.predict(X_test) - y_test)) / y_test\n",
    "print(error_abs.mean(), error_abs.median())\n",
    "error_abs.hist(bins=100)"
   ]
  },
  {
   "cell_type": "code",
   "execution_count": 50,
   "metadata": {},
   "outputs": [
    {
     "data": {
      "text/html": [
       "<div>\n",
       "<style scoped>\n",
       "    .dataframe tbody tr th:only-of-type {\n",
       "        vertical-align: middle;\n",
       "    }\n",
       "\n",
       "    .dataframe tbody tr th {\n",
       "        vertical-align: top;\n",
       "    }\n",
       "\n",
       "    .dataframe thead th {\n",
       "        text-align: right;\n",
       "    }\n",
       "</style>\n",
       "<table border=\"1\" class=\"dataframe\">\n",
       "  <thead>\n",
       "    <tr style=\"text-align: right;\">\n",
       "      <th></th>\n",
       "      <th>0</th>\n",
       "    </tr>\n",
       "  </thead>\n",
       "  <tbody>\n",
       "    <tr>\n",
       "      <th>count</th>\n",
       "      <td>384.000</td>\n",
       "    </tr>\n",
       "    <tr>\n",
       "      <th>mean</th>\n",
       "      <td>133853.203</td>\n",
       "    </tr>\n",
       "    <tr>\n",
       "      <th>std</th>\n",
       "      <td>59761.625</td>\n",
       "    </tr>\n",
       "    <tr>\n",
       "      <th>min</th>\n",
       "      <td>16598.471</td>\n",
       "    </tr>\n",
       "    <tr>\n",
       "      <th>25%</th>\n",
       "      <td>77931.312</td>\n",
       "    </tr>\n",
       "    <tr>\n",
       "      <th>50%</th>\n",
       "      <td>146911.938</td>\n",
       "    </tr>\n",
       "    <tr>\n",
       "      <th>75%</th>\n",
       "      <td>173687.812</td>\n",
       "    </tr>\n",
       "    <tr>\n",
       "      <th>max</th>\n",
       "      <td>285859.094</td>\n",
       "    </tr>\n",
       "  </tbody>\n",
       "</table>\n",
       "</div>"
      ],
      "text/plain": [
       "               0\n",
       "count    384.000\n",
       "mean  133853.203\n",
       "std    59761.625\n",
       "min    16598.471\n",
       "25%    77931.312\n",
       "50%   146911.938\n",
       "75%   173687.812\n",
       "max   285859.094"
      ]
     },
     "execution_count": 50,
     "metadata": {},
     "output_type": "execute_result"
    }
   ],
   "source": [
    "(pd.DataFrame(pipe_xgbr.predict(X_test))).describe()"
   ]
  },
  {
   "cell_type": "code",
   "execution_count": 43,
   "metadata": {},
   "outputs": [
    {
     "data": {
      "text/plain": [
       "array([[<Axes: title={'center': '0'}>]], dtype=object)"
      ]
     },
     "execution_count": 43,
     "metadata": {},
     "output_type": "execute_result"
    },
    {
     "data": {
      "image/png": "[encoded data removed]",
      "text/plain": [
       "<Figure size 640x480 with 1 Axes>"
      ]
     },
     "metadata": {},
     "output_type": "display_data"
    }
   ],
   "source": [
    "(pd.DataFrame(pipe_xgbr.predict(X_test))).hist(bins=200)"
   ]
  },
  {
   "cell_type": "code",
   "execution_count": 38,
   "metadata": {},
   "outputs": [
    {
     "data": {
      "image/png": "[encoded data removed]",
      "text/plain": [
       "<Figure size 2000x1000 with 1 Axes>"
      ]
     },
     "metadata": {},
     "output_type": "display_data"
    }
   ],
   "source": [
    "abs_error = abs(y_test - pipe_xgbr.predict(X_test)) / y_test\n",
    "\n",
    "\n",
    "# sns mean + median  mlflow fig \n",
    "\n",
    "plt.figure(figsize=(20, 10))\n",
    "sns.histplot(abs_error, alpha=0.4,  element=\"step\")\n",
    "plt.xticks(np.arange(0, 5, 0.1))\n",
    "plt.axvline(x=abs_error.mean(), color='b', ls='--', lw=1, label='Mean value of abs error')\n",
    "plt.axvline(x=abs_error.median(), color='r', ls=':', lw=1, label='Median value of abs error')\n",
    "plt.xlabel('error')\n",
    "plt.show()"
   ]
  },
  {
   "cell_type": "code",
   "execution_count": 39,
   "metadata": {},
   "outputs": [
    {
     "data": {
      "text/plain": [
       "<Axes: ylabel='price'>"
      ]
     },
     "execution_count": 39,
     "metadata": {},
     "output_type": "execute_result"
    },
    {
     "data": {
      "image/png": "[encoded data removed]",
      "text/plain": [
       "<Figure size 640x480 with 1 Axes>"
      ]
     },
     "metadata": {},
     "output_type": "display_data"
    }
   ],
   "source": [
    "sns.boxplot(pd.Series(abs(y_test - pipe_xgbr.predict(X_test))))"
   ]
  },
  {
   "cell_type": "code",
   "execution_count": 40,
   "metadata": {},
   "outputs": [
    {
     "data": {
      "text/plain": [
       "array([178243.62 , 169331.5  ,  36421.527, 148916.28 , 129255.13 ,\n",
       "       188997.73 , 137058.22 , 114826.24 , 223873.95 ,  89679.37 ,\n",
       "       139568.39 , 223873.95 ,  45955.902, 182308.39 , 117647.04 ,\n",
       "       192694.77 , 176160.19 , 178307.66 , 148111.19 , 180285.69 ,\n",
       "        45955.902, 183149.66 ,  45955.902,  45955.902, 147692.72 ,\n",
       "       262233.5  , 192993.7  , 278347.8  ,  45955.902, 150913.84 ,\n",
       "       161862.94 ,  77508.8  ,  45955.902, 152234.8  ,  45955.902,\n",
       "       183137.53 ,  45955.902, 151052.84 ,  45955.902, 223873.95 ,\n",
       "       119791.84 , 192993.7  ,  45955.902, 150682.1  , 119830.01 ,\n",
       "       114590.65 , 197237.97 , 119830.01 ,  45955.902,  45955.902,\n",
       "       240510.88 , 150850.45 ,  45955.902, 248785.55 ,  45955.902,\n",
       "       174281.08 , 123327.77 , 117647.04 , 240510.88 , 115835.875,\n",
       "        45955.902, 211200.92 ,  45955.902, 255336.86 ,  45955.902,\n",
       "        16598.47 , 192034.78 , 230645.39 , 177093.95 , 139815.   ,\n",
       "        45955.902, 255930.77 , 187901.98 , 218960.75 , 132482.56 ,\n",
       "       194915.38 , 119830.01 , 146832.12 , 159032.53 ,  45955.902,\n",
       "       149759.06 , 158717.8  , 110098.016, 161524.75 ,  89679.37 ,\n",
       "        96436.29 , 148761.02 , 166713.88 ,  41346.68 ,  45955.902,\n",
       "       103598.91 ,  45955.902, 180106.8  , 148111.19 , 158717.8  ,\n",
       "       103598.91 , 253733.92 , 145450.25 , 141770.6  , 247521.75 ,\n",
       "       193564.1  , 173219.72 , 190124.19 , 163529.56 ,  45955.902,\n",
       "       137376.06 , 193581.52 , 218960.75 ,  45955.902, 173755.97 ,\n",
       "       182775.9  ,  76539.914, 103598.91 , 165361.66 , 165425.34 ,\n",
       "        45955.902, 141984.38 , 162323.38 ,  45955.902, 178307.66 ,\n",
       "        91508.63 , 143989.73 , 158717.8  , 118878.87 , 110098.016,\n",
       "       114579.79 , 152234.8  ,  55466.668, 218960.75 , 197655.11 ,\n",
       "       119830.01 , 139558.73 , 138794.88 ,  45955.902, 168970.08 ,\n",
       "        81325.94 , 201148.9  ,  45955.902, 218960.75 , 162359.23 ,\n",
       "       166713.88 , 161524.75 , 162996.42 , 139595.3  , 193864.11 ,\n",
       "       158717.8  ,  91508.63 , 113181.305, 114645.61 ,  45955.902,\n",
       "       152096.69 ,  54477.637, 158717.8  , 141770.6  , 171080.86 ,\n",
       "       278347.8  ,  77931.31 , 285859.1  , 143048.95 , 157389.31 ,\n",
       "       160995.27 ,  45955.902,  45955.902, 199521.4  , 262122.45 ,\n",
       "       192951.33 , 171080.86 ,  45955.902, 199865.16 , 172599.61 ,\n",
       "       158717.8  ,  45955.902, 128850.41 , 115167.84 , 184128.9  ,\n",
       "        91508.63 , 114645.61 , 146983.83 , 171080.86 ,  45955.902,\n",
       "        45955.902,  45955.902, 206622.97 , 148814.28 , 124700.734,\n",
       "       186219.22 , 139070.62 ,  72601.74 , 162283.33 ,  55466.668,\n",
       "       246665.92 ,  45955.902, 114645.61 , 179767.4  , 113062.484,\n",
       "       145889.28 , 178307.66 ,  91508.63 ,  45955.902, 147602.25 ,\n",
       "        45955.902, 138047.7  , 103598.91 ,  45955.902, 133644.   ,\n",
       "       124700.734, 171080.86 , 103598.91 ,  77508.8  ,  88633.2  ,\n",
       "       156599.38 , 179657.03 ,  45955.902, 184908.   ,  45955.902,\n",
       "       126620.086, 189310.7  , 211286.16 , 246665.92 , 172984.23 ,\n",
       "       148843.8  ,  45955.902,  45955.902, 172152.89 ,  45955.902,\n",
       "       146967.05 , 159917.52 ,  45955.902,  45955.902, 141522.88 ,\n",
       "       200992.44 ,  45955.902,  76539.914, 177677.88 ,  45955.902,\n",
       "        45955.902,  45955.902, 103598.91 , 186816.92 , 179767.4  ,\n",
       "       161862.94 , 180106.8  , 172984.23 , 144631.5  , 169331.5  ,\n",
       "       152096.69 , 139453.14 , 164927.89 , 173665.1  , 158871.23 ,\n",
       "       179657.03 , 178112.88 , 157389.31 ,  45955.902,  45955.902,\n",
       "       113062.484, 119791.84 ,  45955.902, 150850.45 ,  71698.34 ,\n",
       "        45955.902, 171080.86 , 114645.61 , 139284.19 , 189275.22 ,\n",
       "       143346.47 ,  45955.902,  45955.902, 141962.75 ,  16598.47 ,\n",
       "       175870.06 ,  45955.902, 146747.69 , 172152.89 ,  45955.902,\n",
       "        89679.37 , 126620.086, 158717.8  ,  45955.902, 165361.66 ,\n",
       "       182737.81 , 164927.89 ,  77508.8  , 111156.65 , 137483.86 ,\n",
       "        45955.902, 158297.86 , 223873.95 , 114645.61 , 114645.61 ,\n",
       "       179588.   ,  45955.902, 149759.06 , 180285.69 ,  41346.68 ,\n",
       "       162359.23 , 150159.25 , 161524.75 , 157131.72 , 119791.84 ,\n",
       "        45955.902,  89679.37 , 181981.61 , 184128.9  , 124700.734,\n",
       "        55466.668,  56598.26 , 177677.88 , 128850.41 , 192812.94 ,\n",
       "       177903.7  , 157389.31 ,  55466.668,  92554.19 , 113062.484,\n",
       "       156599.38 , 278347.8  , 167233.45 , 162283.27 , 180285.69 ,\n",
       "        45955.902, 172984.23 ,  45955.902, 143048.95 , 148761.02 ,\n",
       "       139511.12 ,  41346.68 ,  77931.31 , 149759.06 , 192770.58 ,\n",
       "        45955.902, 181775.06 , 166416.69 , 271448.22 , 169020.58 ,\n",
       "       172599.61 , 200992.44 , 153131.   ,  55466.668,  45955.902,\n",
       "       148761.02 , 178409.22 , 146767.14 , 197237.97 ,  45955.902,\n",
       "       146943.   , 138794.88 , 211286.16 , 238995.81 , 116265.9  ,\n",
       "       200992.44 , 137072.56 , 156599.38 , 183225.16 , 159032.53 ,\n",
       "        77508.8  , 177677.88 , 139558.73 , 171080.86 ,  36421.527,\n",
       "       173219.72 ,  45955.902,  76539.914, 152234.8  , 158135.47 ,\n",
       "       200960.02 ,  77931.31 , 162283.27 , 141962.75 , 148745.4  ,\n",
       "        45955.902, 161524.75 , 146373.12 , 162494.89 , 119830.01 ,\n",
       "       170561.42 , 184128.9  , 167455.11 , 146880.88 , 143346.47 ,\n",
       "       141962.75 ,  45955.902, 224960.42 ,  45955.902], dtype=float32)"
      ]
     },
     "execution_count": 40,
     "metadata": {},
     "output_type": "execute_result"
    }
   ],
   "source": [
    "pipe_xgbr.predict(X_test)"
   ]
  },
  {
   "cell_type": "markdown",
   "metadata": {},
   "source": [
    "## Importances"
   ]
  },
  {
   "cell_type": "code",
   "execution_count": 41,
   "metadata": {},
   "outputs": [
    {
     "data": {
      "text/plain": [
       "array([0.12555566, 0.11960369, 0.07498579, 0.33604082, 0.12177146,\n",
       "       0.05377368, 0.14676566, 0.02150329], dtype=float32)"
      ]
     },
     "execution_count": 41,
     "metadata": {},
     "output_type": "execute_result"
    }
   ],
   "source": [
    "pipe_xgbr['model_xgbr'].feature_importances_"
   ]
  },
  {
   "cell_type": "code",
   "execution_count": 42,
   "metadata": {},
   "outputs": [
    {
     "data": {
      "text/plain": [
       "array(['num_transformer__distance', 'num_transformer__days',\n",
       "       'cat_transformer__own_container_1',\n",
       "       'cat_transformer__complect_send_1',\n",
       "       'cat_transformer__container_train_1',\n",
       "       'cat_transformer__transportation_type_2',\n",
       "       'cat_transformer__transportation_type_3',\n",
       "       'cat_transformer__transportation_type_4'], dtype=object)"
      ]
     },
     "execution_count": 42,
     "metadata": {},
     "output_type": "execute_result"
    }
   ],
   "source": [
    "pipe_xgbr['preprocessor'].get_feature_names_out()"
   ]
  },
  {
   "cell_type": "code",
   "execution_count": 43,
   "metadata": {},
   "outputs": [],
   "source": [
    "importance = pd.DataFrame({\n",
    "    'name': pipe_xgbr['preprocessor'].get_feature_names_out(), \n",
    "    'importance': pipe_xgbr['model_xgbr'].feature_importances_\n",
    "})"
   ]
  },
  {
   "cell_type": "code",
   "execution_count": 44,
   "metadata": {},
   "outputs": [],
   "source": [
    "importance.sort_values('importance', ascending=False, inplace=True)"
   ]
  },
  {
   "cell_type": "code",
   "execution_count": 45,
   "metadata": {},
   "outputs": [
    {
     "data": {
      "text/plain": [
       "<Axes: xlabel='importance', ylabel='name'>"
      ]
     },
     "execution_count": 45,
     "metadata": {},
     "output_type": "execute_result"
    },
    {
     "data": {
      "image/png": "[encoded data removed]",
      "text/plain": [
       "<Figure size 640x480 with 1 Axes>"
      ]
     },
     "metadata": {},
     "output_type": "display_data"
    }
   ],
   "source": [
    "sns.barplot(data=importance, y='name', x='importance')"
   ]
  }
 ],
 "metadata": {
  "kernelspec": {
   "display_name": "Python 3 (ipykernel)",
   "language": "python",
   "name": "python3"
  },
  "language_info": {
   "codemirror_mode": {
    "name": "ipython",
    "version": 3
   },
   "file_extension": ".py",
   "mimetype": "text/x-python",
   "name": "python",
   "nbconvert_exporter": "python",
   "pygments_lexer": "ipython3",
   "version": "3.10.13"
  }
 },
 "nbformat": 4,
 "nbformat_minor": 2
}
