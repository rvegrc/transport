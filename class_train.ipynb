{
 "cells": [
  {
   "cell_type": "code",
   "execution_count": 1,
   "metadata": {},
   "outputs": [],
   "source": [
    "class Money:\n",
    "    source = None\n",
    "    category = None\n",
    "    sumTotal = None"
   ]
  },
  {
   "cell_type": "code",
   "execution_count": 4,
   "metadata": {},
   "outputs": [
    {
     "name": "stdout",
     "output_type": "stream",
     "text": [
      "job\n",
      "gift\n"
     ]
    }
   ],
   "source": [
    "test = Money()\n",
    "test.source = 'job'\n",
    "test.category = 'zp'\n",
    "test.sumTotal = 1000\n",
    "print(test.source)\n",
    "\n",
    "test2 = Money()\n",
    "test2.source = 'gift'\n",
    "print(test2.source)"
   ]
  },
  {
   "cell_type": "code",
   "execution_count": 7,
   "metadata": {},
   "outputs": [
    {
     "data": {
      "text/plain": [
       "'yes'"
      ]
     },
     "execution_count": 7,
     "metadata": {},
     "output_type": "execute_result"
    }
   ],
   "source": [
    "getattr(Money, 'happy', None)\n",
    "test2.happy = 'yes'\n",
    "Money.__dict__\n",
    "test2.happy"
   ]
  },
  {
   "cell_type": "code",
   "execution_count": 8,
   "metadata": {},
   "outputs": [],
   "source": [
    "del test2.happy"
   ]
  },
  {
   "cell_type": "code",
   "execution_count": 11,
   "metadata": {},
   "outputs": [
    {
     "data": {
      "text/plain": [
       "mappingproxy({'__module__': '__main__',\n",
       "              'source': None,\n",
       "              'category': None,\n",
       "              'sumTotal': None,\n",
       "              '__dict__': <attribute '__dict__' of 'Money' objects>,\n",
       "              '__weakref__': <attribute '__weakref__' of 'Money' objects>,\n",
       "              '__doc__': None,\n",
       "              'happy': None})"
      ]
     },
     "execution_count": 11,
     "metadata": {},
     "output_type": "execute_result"
    }
   ],
   "source": [
    "\n",
    "setattr(Money, 'happy', None)\n",
    "Money.__dict__"
   ]
  },
  {
   "cell_type": "code",
   "execution_count": 36,
   "metadata": {},
   "outputs": [],
   "source": [
    "class Job():\n",
    "    source = 'corp1'\n",
    "    revenue = 1000\n",
    "    \n",
    "    def set_target(self, x, y):\n",
    "        self.x = x\n",
    "        self.y = y\n",
    "\n",
    "    def get_target(self):\n",
    "        return (self.x, self.y)        \n"
   ]
  },
  {
   "cell_type": "code",
   "execution_count": 14,
   "metadata": {},
   "outputs": [
    {
     "name": "stdout",
     "output_type": "stream",
     "text": [
      "import revenue\n"
     ]
    }
   ],
   "source": [
    "Job.set_target()\n"
   ]
  },
  {
   "cell_type": "code",
   "execution_count": 35,
   "metadata": {},
   "outputs": [
    {
     "data": {
      "text/plain": [
       "{'x': 2, 'y': 3}"
      ]
     },
     "execution_count": 35,
     "metadata": {},
     "output_type": "execute_result"
    }
   ],
   "source": [
    "pt = Job()\n",
    "pt.set_target(2, 3)\n",
    "pt.__dict__\n"
   ]
  },
  {
   "cell_type": "code",
   "execution_count": 37,
   "metadata": {},
   "outputs": [
    {
     "data": {
      "text/plain": [
       "{'x': 2, 'y': 3}"
      ]
     },
     "execution_count": 37,
     "metadata": {},
     "output_type": "execute_result"
    }
   ],
   "source": [
    "pt.get_target()\n",
    "pt.__dict__"
   ]
  }
 ],
 "metadata": {
  "kernelspec": {
   "display_name": "zhd_transport_price",
   "language": "python",
   "name": "python3"
  },
  "language_info": {
   "codemirror_mode": {
    "name": "ipython",
    "version": 3
   },
   "file_extension": ".py",
   "mimetype": "text/x-python",
   "name": "python",
   "nbconvert_exporter": "python",
   "pygments_lexer": "ipython3",
   "version": "3.10.13"
  }
 },
 "nbformat": 4,
 "nbformat_minor": 2
}
