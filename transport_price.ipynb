{
 "cells": [
  {
   "cell_type": "markdown",
   "metadata": {},
   "source": [
    "## Import libraries"
   ]
  },
  {
   "cell_type": "code",
   "execution_count": 1,
   "metadata": {},
   "outputs": [
    {
     "name": "stderr",
     "output_type": "stream",
     "text": [
      "/home/pmu/miniconda3/envs/zhd_transport_price/lib/python3.10/site-packages/pydantic/_internal/_fields.py:149: UserWarning: Field \"model_server_url\" has conflict with protected namespace \"model_\".\n",
      "\n",
      "You may be able to resolve this warning by setting `model_config['protected_namespaces'] = ()`.\n",
      "  warnings.warn(\n",
      "/home/pmu/miniconda3/envs/zhd_transport_price/lib/python3.10/site-packages/pydantic/_internal/_config.py:321: UserWarning: Valid config keys have changed in V2:\n",
      "* 'schema_extra' has been renamed to 'json_schema_extra'\n",
      "  warnings.warn(message, UserWarning)\n"
     ]
    }
   ],
   "source": [
    "# standard library imports\n",
    "import pandas as pd\n",
    "import numpy as np\n",
    "import sklearn\n",
    "\n",
    "import json\n",
    "import io\n",
    "\n",
    "\n",
    "#visualization\n",
    "import matplotlib.pyplot as plt\n",
    "import seaborn as sns\n",
    "import joblib\n",
    "\n",
    "import requests\n",
    "\n",
    "import xgboost as xgb\n",
    "import optuna\n",
    "\n",
    "from optuna.visualization.matplotlib import plot_param_importances\n",
    "\n",
    "import mlflow\n",
    "\n",
    "client = mlflow.MlflowClient(tracking_uri='http://127.0.0.1:8080')\n",
    "mlflow.set_tracking_uri='http://127.0.0.1:8080'\n",
    "\n",
    "from sklearn.model_selection import cross_val_score\n",
    "\n",
    "\n",
    "from sklearn.model_selection import train_test_split, GridSearchCV \n",
    "from sklearn.svm import SVC\n",
    "\n",
    "from sklearn.pipeline import Pipeline as skl_pipeline\n",
    "\n",
    "# from imblearn.pipeline import Pipeline as imb_pipeline\n",
    "# from imblearn.over_sampling import SMOTE\n",
    "\n",
    "from sklearn.compose import ColumnTransformer\n",
    "from sklearn.preprocessing import OneHotEncoder, PowerTransformer\n",
    "\n",
    "sklearn.set_config(transform_output='pandas')\n",
    "\n",
    "# load metrics\n",
    "from sklearn.metrics import mean_squared_error, mean_absolute_error\n",
    "\n",
    "from sklearn.metrics import PredictionErrorDisplay\n",
    "\n",
    "pd.set_option('display.float_format', '{:.3f}'.format)\n",
    "\n",
    "\n",
    "\n",
    "# константы\n",
    "RAND_ST = 345\n"
   ]
  },
  {
   "cell_type": "code",
   "execution_count": 2,
   "metadata": {},
   "outputs": [],
   "source": [
    "import uvicorn"
   ]
  },
  {
   "cell_type": "code",
   "execution_count": 3,
   "metadata": {},
   "outputs": [
    {
     "name": "stdout",
     "output_type": "stream",
     "text": [
      "Selected Jupyter core packages...\n",
      "IPython          : 8.15.0\n",
      "ipykernel        : 6.25.0\n",
      "ipywidgets       : 8.0.4\n",
      "jupyter_client   : 7.4.9\n",
      "jupyter_core     : 5.5.0\n",
      "jupyter_server   : 1.23.4\n",
      "jupyterlab       : 3.6.3\n",
      "nbclient         : 0.8.0\n",
      "nbconvert        : 7.10.0\n",
      "nbformat         : 5.9.2\n",
      "notebook         : 6.5.4\n",
      "qtconsole        : 5.5.0\n",
      "traitlets        : 5.7.1\n"
     ]
    }
   ],
   "source": [
    "!jupyter --version"
   ]
  },
  {
   "cell_type": "code",
   "execution_count": 4,
   "metadata": {},
   "outputs": [
    {
     "data": {
      "text/plain": [
       "'0.12.2'"
      ]
     },
     "execution_count": 4,
     "metadata": {},
     "output_type": "execute_result"
    }
   ],
   "source": [
    "\n",
    "sns.__version__"
   ]
  },
  {
   "cell_type": "markdown",
   "metadata": {},
   "source": [
    "## Import dataset"
   ]
  },
  {
   "cell_type": "code",
   "execution_count": 5,
   "metadata": {},
   "outputs": [
    {
     "name": "stdout",
     "output_type": "stream",
     "text": [
      "<class 'pandas.core.frame.DataFrame'>\n",
      "RangeIndex: 1572 entries, 0 to 1571\n",
      "Data columns (total 7 columns):\n",
      " #   Column               Non-Null Count  Dtype\n",
      "---  ------               --------------  -----\n",
      " 0   distance             1572 non-null   int64\n",
      " 1   own_container        1572 non-null   int64\n",
      " 2   complect_send        1572 non-null   int64\n",
      " 3   container_train      1572 non-null   int64\n",
      " 4   transportation_type  1572 non-null   int64\n",
      " 5   days                 1572 non-null   int64\n",
      " 6   price                1572 non-null   int64\n",
      "dtypes: int64(7)\n",
      "memory usage: 86.1 KB\n"
     ]
    },
    {
     "data": {
      "text/html": [
       "<div>\n",
       "<style scoped>\n",
       "    .dataframe tbody tr th:only-of-type {\n",
       "        vertical-align: middle;\n",
       "    }\n",
       "\n",
       "    .dataframe tbody tr th {\n",
       "        vertical-align: top;\n",
       "    }\n",
       "\n",
       "    .dataframe thead th {\n",
       "        text-align: right;\n",
       "    }\n",
       "</style>\n",
       "<table border=\"1\" class=\"dataframe\">\n",
       "  <thead>\n",
       "    <tr style=\"text-align: right;\">\n",
       "      <th></th>\n",
       "      <th>distance</th>\n",
       "      <th>own_container</th>\n",
       "      <th>complect_send</th>\n",
       "      <th>container_train</th>\n",
       "      <th>transportation_type</th>\n",
       "      <th>days</th>\n",
       "      <th>price</th>\n",
       "    </tr>\n",
       "  </thead>\n",
       "  <tbody>\n",
       "    <tr>\n",
       "      <th>0</th>\n",
       "      <td>2808</td>\n",
       "      <td>0</td>\n",
       "      <td>1</td>\n",
       "      <td>0</td>\n",
       "      <td>3</td>\n",
       "      <td>12</td>\n",
       "      <td>26497</td>\n",
       "    </tr>\n",
       "    <tr>\n",
       "      <th>1</th>\n",
       "      <td>4102</td>\n",
       "      <td>0</td>\n",
       "      <td>0</td>\n",
       "      <td>0</td>\n",
       "      <td>3</td>\n",
       "      <td>18</td>\n",
       "      <td>45948</td>\n",
       "    </tr>\n",
       "    <tr>\n",
       "      <th>2</th>\n",
       "      <td>1211</td>\n",
       "      <td>0</td>\n",
       "      <td>1</td>\n",
       "      <td>0</td>\n",
       "      <td>3</td>\n",
       "      <td>7</td>\n",
       "      <td>152484</td>\n",
       "    </tr>\n",
       "    <tr>\n",
       "      <th>3</th>\n",
       "      <td>2836</td>\n",
       "      <td>0</td>\n",
       "      <td>1</td>\n",
       "      <td>0</td>\n",
       "      <td>3</td>\n",
       "      <td>10</td>\n",
       "      <td>176701</td>\n",
       "    </tr>\n",
       "    <tr>\n",
       "      <th>4</th>\n",
       "      <td>2808</td>\n",
       "      <td>0</td>\n",
       "      <td>1</td>\n",
       "      <td>0</td>\n",
       "      <td>3</td>\n",
       "      <td>10</td>\n",
       "      <td>176525</td>\n",
       "    </tr>\n",
       "  </tbody>\n",
       "</table>\n",
       "</div>"
      ],
      "text/plain": [
       "   distance  own_container  complect_send  container_train  \\\n",
       "0      2808              0              1                0   \n",
       "1      4102              0              0                0   \n",
       "2      1211              0              1                0   \n",
       "3      2836              0              1                0   \n",
       "4      2808              0              1                0   \n",
       "\n",
       "   transportation_type  days   price  \n",
       "0                    3    12   26497  \n",
       "1                    3    18   45948  \n",
       "2                    3     7  152484  \n",
       "3                    3    10  176701  \n",
       "4                    3    10  176525  "
      ]
     },
     "execution_count": 5,
     "metadata": {},
     "output_type": "execute_result"
    }
   ],
   "source": [
    "\n",
    "df = pd.read_csv('data/transport.csv')\n",
    "df.info()\n",
    "df.head()\n"
   ]
  },
  {
   "cell_type": "markdown",
   "metadata": {},
   "source": [
    "## EDA"
   ]
  },
  {
   "cell_type": "code",
   "execution_count": 6,
   "metadata": {},
   "outputs": [
    {
     "data": {
      "text/plain": [
       "distance               0\n",
       "own_container          0\n",
       "complect_send          0\n",
       "container_train        0\n",
       "transportation_type    0\n",
       "days                   0\n",
       "price                  0\n",
       "dtype: int64"
      ]
     },
     "metadata": {},
     "output_type": "display_data"
    },
    {
     "data": {
      "text/plain": [
       "distance               536\n",
       "own_container            2\n",
       "complect_send            2\n",
       "container_train          2\n",
       "transportation_type      4\n",
       "days                    35\n",
       "price                  765\n",
       "dtype: int64"
      ]
     },
     "metadata": {},
     "output_type": "display_data"
    },
    {
     "data": {
      "text/html": [
       "<div>\n",
       "<style scoped>\n",
       "    .dataframe tbody tr th:only-of-type {\n",
       "        vertical-align: middle;\n",
       "    }\n",
       "\n",
       "    .dataframe tbody tr th {\n",
       "        vertical-align: top;\n",
       "    }\n",
       "\n",
       "    .dataframe thead th {\n",
       "        text-align: right;\n",
       "    }\n",
       "</style>\n",
       "<table border=\"1\" class=\"dataframe\">\n",
       "  <thead>\n",
       "    <tr style=\"text-align: right;\">\n",
       "      <th></th>\n",
       "      <th>distance</th>\n",
       "      <th>own_container</th>\n",
       "      <th>complect_send</th>\n",
       "      <th>container_train</th>\n",
       "      <th>transportation_type</th>\n",
       "      <th>days</th>\n",
       "      <th>price</th>\n",
       "    </tr>\n",
       "  </thead>\n",
       "  <tbody>\n",
       "    <tr>\n",
       "      <th>count</th>\n",
       "      <td>1572.000</td>\n",
       "      <td>1572.000</td>\n",
       "      <td>1572.000</td>\n",
       "      <td>1572.000</td>\n",
       "      <td>1572.000</td>\n",
       "      <td>1572.000</td>\n",
       "      <td>1572.000</td>\n",
       "    </tr>\n",
       "    <tr>\n",
       "      <th>mean</th>\n",
       "      <td>4732.854</td>\n",
       "      <td>0.034</td>\n",
       "      <td>0.367</td>\n",
       "      <td>0.272</td>\n",
       "      <td>2.772</td>\n",
       "      <td>16.492</td>\n",
       "      <td>176175.534</td>\n",
       "    </tr>\n",
       "    <tr>\n",
       "      <th>std</th>\n",
       "      <td>2147.144</td>\n",
       "      <td>0.181</td>\n",
       "      <td>0.482</td>\n",
       "      <td>0.445</td>\n",
       "      <td>0.636</td>\n",
       "      <td>6.440</td>\n",
       "      <td>871625.834</td>\n",
       "    </tr>\n",
       "    <tr>\n",
       "      <th>min</th>\n",
       "      <td>18.000</td>\n",
       "      <td>0.000</td>\n",
       "      <td>0.000</td>\n",
       "      <td>0.000</td>\n",
       "      <td>1.000</td>\n",
       "      <td>4.000</td>\n",
       "      <td>1000.000</td>\n",
       "    </tr>\n",
       "    <tr>\n",
       "      <th>25%</th>\n",
       "      <td>3684.000</td>\n",
       "      <td>0.000</td>\n",
       "      <td>0.000</td>\n",
       "      <td>0.000</td>\n",
       "      <td>3.000</td>\n",
       "      <td>12.000</td>\n",
       "      <td>48151.000</td>\n",
       "    </tr>\n",
       "    <tr>\n",
       "      <th>50%</th>\n",
       "      <td>4307.000</td>\n",
       "      <td>0.000</td>\n",
       "      <td>0.000</td>\n",
       "      <td>0.000</td>\n",
       "      <td>3.000</td>\n",
       "      <td>17.000</td>\n",
       "      <td>144243.000</td>\n",
       "    </tr>\n",
       "    <tr>\n",
       "      <th>75%</th>\n",
       "      <td>4951.250</td>\n",
       "      <td>0.000</td>\n",
       "      <td>1.000</td>\n",
       "      <td>1.000</td>\n",
       "      <td>3.000</td>\n",
       "      <td>19.000</td>\n",
       "      <td>179355.250</td>\n",
       "    </tr>\n",
       "    <tr>\n",
       "      <th>max</th>\n",
       "      <td>10645.000</td>\n",
       "      <td>1.000</td>\n",
       "      <td>1.000</td>\n",
       "      <td>1.000</td>\n",
       "      <td>4.000</td>\n",
       "      <td>41.000</td>\n",
       "      <td>33800995.000</td>\n",
       "    </tr>\n",
       "  </tbody>\n",
       "</table>\n",
       "</div>"
      ],
      "text/plain": [
       "       distance  own_container  complect_send  container_train  \\\n",
       "count  1572.000       1572.000       1572.000         1572.000   \n",
       "mean   4732.854          0.034          0.367            0.272   \n",
       "std    2147.144          0.181          0.482            0.445   \n",
       "min      18.000          0.000          0.000            0.000   \n",
       "25%    3684.000          0.000          0.000            0.000   \n",
       "50%    4307.000          0.000          0.000            0.000   \n",
       "75%    4951.250          0.000          1.000            1.000   \n",
       "max   10645.000          1.000          1.000            1.000   \n",
       "\n",
       "       transportation_type     days        price  \n",
       "count             1572.000 1572.000     1572.000  \n",
       "mean                 2.772   16.492   176175.534  \n",
       "std                  0.636    6.440   871625.834  \n",
       "min                  1.000    4.000     1000.000  \n",
       "25%                  3.000   12.000    48151.000  \n",
       "50%                  3.000   17.000   144243.000  \n",
       "75%                  3.000   19.000   179355.250  \n",
       "max                  4.000   41.000 33800995.000  "
      ]
     },
     "metadata": {},
     "output_type": "display_data"
    }
   ],
   "source": [
    "display(df.isna().sum(), df.nunique(), df.describe())\n"
   ]
  },
  {
   "cell_type": "code",
   "execution_count": 7,
   "metadata": {},
   "outputs": [
    {
     "name": "stdout",
     "output_type": "stream",
     "text": [
      "       distance  own_container  complect_send  container_train  \\\n",
      "count  1571.000       1571.000       1571.000         1571.000   \n",
      "mean   4733.255          0.034          0.367            0.272   \n",
      "std    2147.768          0.181          0.482            0.445   \n",
      "min      18.000          0.000          0.000            0.000   \n",
      "25%    3684.000          0.000          0.000            0.000   \n",
      "50%    4311.000          0.000          0.000            0.000   \n",
      "75%    4951.500          0.000          1.000            1.000   \n",
      "max   10645.000          1.000          1.000            1.000   \n",
      "\n",
      "       transportation_type     days       price  \n",
      "count             1571.000 1571.000    1571.000  \n",
      "mean                 2.771   16.491  154772.085  \n",
      "std                  0.636    6.442  199026.556  \n",
      "min                  1.000    4.000    1000.000  \n",
      "25%                  3.000   12.000   48151.000  \n",
      "50%                  3.000   17.000  144227.000  \n",
      "75%                  3.000   19.000  179063.500  \n",
      "max                  4.000   41.000 2510946.000  \n"
     ]
    },
    {
     "data": {
      "text/plain": [
       "<Axes: >"
      ]
     },
     "execution_count": 7,
     "metadata": {},
     "output_type": "execute_result"
    },
    {
     "data": {
      "image/png": "[encoded data removed]",
      "text/plain": [
       "<Figure size 640x480 with 1 Axes>"
      ]
     },
     "metadata": {},
     "output_type": "display_data"
    }
   ],
   "source": [
    "df = df[df['price'] < 33800995.000]\n",
    "print(df.describe())\n",
    "sns.boxplot(df['price'])"
   ]
  },
  {
   "cell_type": "code",
   "execution_count": 8,
   "metadata": {},
   "outputs": [
    {
     "data": {
      "text/html": [
       "<div>\n",
       "<style scoped>\n",
       "    .dataframe tbody tr th:only-of-type {\n",
       "        vertical-align: middle;\n",
       "    }\n",
       "\n",
       "    .dataframe tbody tr th {\n",
       "        vertical-align: top;\n",
       "    }\n",
       "\n",
       "    .dataframe thead th {\n",
       "        text-align: right;\n",
       "    }\n",
       "</style>\n",
       "<table border=\"1\" class=\"dataframe\">\n",
       "  <thead>\n",
       "    <tr style=\"text-align: right;\">\n",
       "      <th></th>\n",
       "      <th>distance</th>\n",
       "      <th>own_container</th>\n",
       "      <th>complect_send</th>\n",
       "      <th>container_train</th>\n",
       "      <th>transportation_type</th>\n",
       "      <th>days</th>\n",
       "      <th>price</th>\n",
       "    </tr>\n",
       "  </thead>\n",
       "  <tbody>\n",
       "    <tr>\n",
       "      <th>594</th>\n",
       "      <td>9274</td>\n",
       "      <td>0</td>\n",
       "      <td>0</td>\n",
       "      <td>1</td>\n",
       "      <td>3</td>\n",
       "      <td>22</td>\n",
       "      <td>2510946</td>\n",
       "    </tr>\n",
       "    <tr>\n",
       "      <th>1458</th>\n",
       "      <td>10388</td>\n",
       "      <td>0</td>\n",
       "      <td>0</td>\n",
       "      <td>1</td>\n",
       "      <td>3</td>\n",
       "      <td>21</td>\n",
       "      <td>2162284</td>\n",
       "    </tr>\n",
       "    <tr>\n",
       "      <th>916</th>\n",
       "      <td>9416</td>\n",
       "      <td>0</td>\n",
       "      <td>0</td>\n",
       "      <td>1</td>\n",
       "      <td>1</td>\n",
       "      <td>23</td>\n",
       "      <td>2067167</td>\n",
       "    </tr>\n",
       "    <tr>\n",
       "      <th>701</th>\n",
       "      <td>9416</td>\n",
       "      <td>0</td>\n",
       "      <td>0</td>\n",
       "      <td>1</td>\n",
       "      <td>1</td>\n",
       "      <td>23</td>\n",
       "      <td>2067167</td>\n",
       "    </tr>\n",
       "    <tr>\n",
       "      <th>915</th>\n",
       "      <td>9278</td>\n",
       "      <td>0</td>\n",
       "      <td>0</td>\n",
       "      <td>1</td>\n",
       "      <td>1</td>\n",
       "      <td>22</td>\n",
       "      <td>2050353</td>\n",
       "    </tr>\n",
       "    <tr>\n",
       "      <th>704</th>\n",
       "      <td>9278</td>\n",
       "      <td>0</td>\n",
       "      <td>0</td>\n",
       "      <td>1</td>\n",
       "      <td>1</td>\n",
       "      <td>22</td>\n",
       "      <td>2050353</td>\n",
       "    </tr>\n",
       "    <tr>\n",
       "      <th>917</th>\n",
       "      <td>9263</td>\n",
       "      <td>0</td>\n",
       "      <td>0</td>\n",
       "      <td>1</td>\n",
       "      <td>1</td>\n",
       "      <td>22</td>\n",
       "      <td>2048400</td>\n",
       "    </tr>\n",
       "    <tr>\n",
       "      <th>703</th>\n",
       "      <td>9263</td>\n",
       "      <td>0</td>\n",
       "      <td>0</td>\n",
       "      <td>1</td>\n",
       "      <td>1</td>\n",
       "      <td>22</td>\n",
       "      <td>2048400</td>\n",
       "    </tr>\n",
       "    <tr>\n",
       "      <th>72</th>\n",
       "      <td>9416</td>\n",
       "      <td>0</td>\n",
       "      <td>0</td>\n",
       "      <td>1</td>\n",
       "      <td>1</td>\n",
       "      <td>23</td>\n",
       "      <td>1848431</td>\n",
       "    </tr>\n",
       "    <tr>\n",
       "      <th>70</th>\n",
       "      <td>9263</td>\n",
       "      <td>0</td>\n",
       "      <td>0</td>\n",
       "      <td>1</td>\n",
       "      <td>1</td>\n",
       "      <td>22</td>\n",
       "      <td>1829664</td>\n",
       "    </tr>\n",
       "    <tr>\n",
       "      <th>69</th>\n",
       "      <td>7963</td>\n",
       "      <td>0</td>\n",
       "      <td>0</td>\n",
       "      <td>1</td>\n",
       "      <td>1</td>\n",
       "      <td>20</td>\n",
       "      <td>1678000</td>\n",
       "    </tr>\n",
       "    <tr>\n",
       "      <th>918</th>\n",
       "      <td>6647</td>\n",
       "      <td>0</td>\n",
       "      <td>0</td>\n",
       "      <td>1</td>\n",
       "      <td>1</td>\n",
       "      <td>18</td>\n",
       "      <td>1520376</td>\n",
       "    </tr>\n",
       "    <tr>\n",
       "      <th>71</th>\n",
       "      <td>6647</td>\n",
       "      <td>0</td>\n",
       "      <td>0</td>\n",
       "      <td>1</td>\n",
       "      <td>1</td>\n",
       "      <td>18</td>\n",
       "      <td>1520376</td>\n",
       "    </tr>\n",
       "    <tr>\n",
       "      <th>702</th>\n",
       "      <td>6647</td>\n",
       "      <td>0</td>\n",
       "      <td>0</td>\n",
       "      <td>1</td>\n",
       "      <td>1</td>\n",
       "      <td>18</td>\n",
       "      <td>1520376</td>\n",
       "    </tr>\n",
       "    <tr>\n",
       "      <th>80</th>\n",
       "      <td>9278</td>\n",
       "      <td>0</td>\n",
       "      <td>0</td>\n",
       "      <td>0</td>\n",
       "      <td>1</td>\n",
       "      <td>38</td>\n",
       "      <td>1500000</td>\n",
       "    </tr>\n",
       "    <tr>\n",
       "      <th>638</th>\n",
       "      <td>6995</td>\n",
       "      <td>1</td>\n",
       "      <td>0</td>\n",
       "      <td>1</td>\n",
       "      <td>2</td>\n",
       "      <td>24</td>\n",
       "      <td>1208954</td>\n",
       "    </tr>\n",
       "    <tr>\n",
       "      <th>653</th>\n",
       "      <td>4102</td>\n",
       "      <td>0</td>\n",
       "      <td>0</td>\n",
       "      <td>1</td>\n",
       "      <td>3</td>\n",
       "      <td>15</td>\n",
       "      <td>1056373</td>\n",
       "    </tr>\n",
       "    <tr>\n",
       "      <th>550</th>\n",
       "      <td>7670</td>\n",
       "      <td>1</td>\n",
       "      <td>0</td>\n",
       "      <td>1</td>\n",
       "      <td>4</td>\n",
       "      <td>15</td>\n",
       "      <td>1048714</td>\n",
       "    </tr>\n",
       "    <tr>\n",
       "      <th>552</th>\n",
       "      <td>7670</td>\n",
       "      <td>1</td>\n",
       "      <td>0</td>\n",
       "      <td>1</td>\n",
       "      <td>4</td>\n",
       "      <td>15</td>\n",
       "      <td>1024013</td>\n",
       "    </tr>\n",
       "    <tr>\n",
       "      <th>551</th>\n",
       "      <td>7670</td>\n",
       "      <td>1</td>\n",
       "      <td>0</td>\n",
       "      <td>1</td>\n",
       "      <td>4</td>\n",
       "      <td>15</td>\n",
       "      <td>1024013</td>\n",
       "    </tr>\n",
       "    <tr>\n",
       "      <th>562</th>\n",
       "      <td>5312</td>\n",
       "      <td>1</td>\n",
       "      <td>0</td>\n",
       "      <td>1</td>\n",
       "      <td>1</td>\n",
       "      <td>16</td>\n",
       "      <td>880229</td>\n",
       "    </tr>\n",
       "    <tr>\n",
       "      <th>564</th>\n",
       "      <td>5159</td>\n",
       "      <td>1</td>\n",
       "      <td>0</td>\n",
       "      <td>1</td>\n",
       "      <td>1</td>\n",
       "      <td>16</td>\n",
       "      <td>869648</td>\n",
       "    </tr>\n",
       "    <tr>\n",
       "      <th>599</th>\n",
       "      <td>4665</td>\n",
       "      <td>0</td>\n",
       "      <td>0</td>\n",
       "      <td>1</td>\n",
       "      <td>3</td>\n",
       "      <td>13</td>\n",
       "      <td>832258</td>\n",
       "    </tr>\n",
       "    <tr>\n",
       "      <th>671</th>\n",
       "      <td>2808</td>\n",
       "      <td>0</td>\n",
       "      <td>0</td>\n",
       "      <td>1</td>\n",
       "      <td>3</td>\n",
       "      <td>11</td>\n",
       "      <td>699476</td>\n",
       "    </tr>\n",
       "    <tr>\n",
       "      <th>669</th>\n",
       "      <td>2808</td>\n",
       "      <td>0</td>\n",
       "      <td>0</td>\n",
       "      <td>1</td>\n",
       "      <td>3</td>\n",
       "      <td>11</td>\n",
       "      <td>699476</td>\n",
       "    </tr>\n",
       "    <tr>\n",
       "      <th>668</th>\n",
       "      <td>2808</td>\n",
       "      <td>0</td>\n",
       "      <td>0</td>\n",
       "      <td>1</td>\n",
       "      <td>3</td>\n",
       "      <td>11</td>\n",
       "      <td>699476</td>\n",
       "    </tr>\n",
       "    <tr>\n",
       "      <th>565</th>\n",
       "      <td>3859</td>\n",
       "      <td>1</td>\n",
       "      <td>0</td>\n",
       "      <td>1</td>\n",
       "      <td>1</td>\n",
       "      <td>13</td>\n",
       "      <td>674348</td>\n",
       "    </tr>\n",
       "    <tr>\n",
       "      <th>576</th>\n",
       "      <td>4102</td>\n",
       "      <td>1</td>\n",
       "      <td>0</td>\n",
       "      <td>1</td>\n",
       "      <td>3</td>\n",
       "      <td>10</td>\n",
       "      <td>665977</td>\n",
       "    </tr>\n",
       "    <tr>\n",
       "      <th>568</th>\n",
       "      <td>4102</td>\n",
       "      <td>1</td>\n",
       "      <td>0</td>\n",
       "      <td>1</td>\n",
       "      <td>3</td>\n",
       "      <td>10</td>\n",
       "      <td>665977</td>\n",
       "    </tr>\n",
       "    <tr>\n",
       "      <th>567</th>\n",
       "      <td>4102</td>\n",
       "      <td>1</td>\n",
       "      <td>0</td>\n",
       "      <td>1</td>\n",
       "      <td>3</td>\n",
       "      <td>10</td>\n",
       "      <td>665977</td>\n",
       "    </tr>\n",
       "    <tr>\n",
       "      <th>639</th>\n",
       "      <td>2543</td>\n",
       "      <td>0</td>\n",
       "      <td>0</td>\n",
       "      <td>1</td>\n",
       "      <td>1</td>\n",
       "      <td>11</td>\n",
       "      <td>638287</td>\n",
       "    </tr>\n",
       "    <tr>\n",
       "      <th>563</th>\n",
       "      <td>2543</td>\n",
       "      <td>1</td>\n",
       "      <td>0</td>\n",
       "      <td>1</td>\n",
       "      <td>1</td>\n",
       "      <td>11</td>\n",
       "      <td>574287</td>\n",
       "    </tr>\n",
       "    <tr>\n",
       "      <th>548</th>\n",
       "      <td>7670</td>\n",
       "      <td>1</td>\n",
       "      <td>0</td>\n",
       "      <td>1</td>\n",
       "      <td>4</td>\n",
       "      <td>15</td>\n",
       "      <td>381714</td>\n",
       "    </tr>\n",
       "    <tr>\n",
       "      <th>547</th>\n",
       "      <td>7670</td>\n",
       "      <td>1</td>\n",
       "      <td>0</td>\n",
       "      <td>1</td>\n",
       "      <td>4</td>\n",
       "      <td>15</td>\n",
       "      <td>381714</td>\n",
       "    </tr>\n",
       "    <tr>\n",
       "      <th>741</th>\n",
       "      <td>6999</td>\n",
       "      <td>0</td>\n",
       "      <td>0</td>\n",
       "      <td>0</td>\n",
       "      <td>2</td>\n",
       "      <td>37</td>\n",
       "      <td>358313</td>\n",
       "    </tr>\n",
       "    <tr>\n",
       "      <th>748</th>\n",
       "      <td>6999</td>\n",
       "      <td>0</td>\n",
       "      <td>0</td>\n",
       "      <td>1</td>\n",
       "      <td>2</td>\n",
       "      <td>24</td>\n",
       "      <td>335481</td>\n",
       "    </tr>\n",
       "    <tr>\n",
       "      <th>1100</th>\n",
       "      <td>10645</td>\n",
       "      <td>0</td>\n",
       "      <td>0</td>\n",
       "      <td>0</td>\n",
       "      <td>3</td>\n",
       "      <td>39</td>\n",
       "      <td>319476</td>\n",
       "    </tr>\n",
       "  </tbody>\n",
       "</table>\n",
       "</div>"
      ],
      "text/plain": [
       "      distance  own_container  complect_send  container_train  \\\n",
       "594       9274              0              0                1   \n",
       "1458     10388              0              0                1   \n",
       "916       9416              0              0                1   \n",
       "701       9416              0              0                1   \n",
       "915       9278              0              0                1   \n",
       "704       9278              0              0                1   \n",
       "917       9263              0              0                1   \n",
       "703       9263              0              0                1   \n",
       "72        9416              0              0                1   \n",
       "70        9263              0              0                1   \n",
       "69        7963              0              0                1   \n",
       "918       6647              0              0                1   \n",
       "71        6647              0              0                1   \n",
       "702       6647              0              0                1   \n",
       "80        9278              0              0                0   \n",
       "638       6995              1              0                1   \n",
       "653       4102              0              0                1   \n",
       "550       7670              1              0                1   \n",
       "552       7670              1              0                1   \n",
       "551       7670              1              0                1   \n",
       "562       5312              1              0                1   \n",
       "564       5159              1              0                1   \n",
       "599       4665              0              0                1   \n",
       "671       2808              0              0                1   \n",
       "669       2808              0              0                1   \n",
       "668       2808              0              0                1   \n",
       "565       3859              1              0                1   \n",
       "576       4102              1              0                1   \n",
       "568       4102              1              0                1   \n",
       "567       4102              1              0                1   \n",
       "639       2543              0              0                1   \n",
       "563       2543              1              0                1   \n",
       "548       7670              1              0                1   \n",
       "547       7670              1              0                1   \n",
       "741       6999              0              0                0   \n",
       "748       6999              0              0                1   \n",
       "1100     10645              0              0                0   \n",
       "\n",
       "      transportation_type  days    price  \n",
       "594                     3    22  2510946  \n",
       "1458                    3    21  2162284  \n",
       "916                     1    23  2067167  \n",
       "701                     1    23  2067167  \n",
       "915                     1    22  2050353  \n",
       "704                     1    22  2050353  \n",
       "917                     1    22  2048400  \n",
       "703                     1    22  2048400  \n",
       "72                      1    23  1848431  \n",
       "70                      1    22  1829664  \n",
       "69                      1    20  1678000  \n",
       "918                     1    18  1520376  \n",
       "71                      1    18  1520376  \n",
       "702                     1    18  1520376  \n",
       "80                      1    38  1500000  \n",
       "638                     2    24  1208954  \n",
       "653                     3    15  1056373  \n",
       "550                     4    15  1048714  \n",
       "552                     4    15  1024013  \n",
       "551                     4    15  1024013  \n",
       "562                     1    16   880229  \n",
       "564                     1    16   869648  \n",
       "599                     3    13   832258  \n",
       "671                     3    11   699476  \n",
       "669                     3    11   699476  \n",
       "668                     3    11   699476  \n",
       "565                     1    13   674348  \n",
       "576                     3    10   665977  \n",
       "568                     3    10   665977  \n",
       "567                     3    10   665977  \n",
       "639                     1    11   638287  \n",
       "563                     1    11   574287  \n",
       "548                     4    15   381714  \n",
       "547                     4    15   381714  \n",
       "741                     2    37   358313  \n",
       "748                     2    24   335481  \n",
       "1100                    3    39   319476  "
      ]
     },
     "execution_count": 8,
     "metadata": {},
     "output_type": "execute_result"
    }
   ],
   "source": [
    "df[df['price'] > 300000].sort_values('price', ascending=False)\n",
    "\n",
    "# сколько контейнеров, объем контейнера. вес контейнера, расчет с привязкой к валюте или еще чему то, ценность груза, вид контейнера - холодильник, цистерна дрр"
   ]
  },
  {
   "cell_type": "code",
   "execution_count": 9,
   "metadata": {},
   "outputs": [
    {
     "data": {
      "text/html": [
       "<div>\n",
       "<style scoped>\n",
       "    .dataframe tbody tr th:only-of-type {\n",
       "        vertical-align: middle;\n",
       "    }\n",
       "\n",
       "    .dataframe tbody tr th {\n",
       "        vertical-align: top;\n",
       "    }\n",
       "\n",
       "    .dataframe thead th {\n",
       "        text-align: right;\n",
       "    }\n",
       "</style>\n",
       "<table border=\"1\" class=\"dataframe\">\n",
       "  <thead>\n",
       "    <tr style=\"text-align: right;\">\n",
       "      <th></th>\n",
       "      <th>distance</th>\n",
       "      <th>days</th>\n",
       "      <th>price</th>\n",
       "    </tr>\n",
       "  </thead>\n",
       "  <tbody>\n",
       "    <tr>\n",
       "      <th>distance</th>\n",
       "      <td>1.000</td>\n",
       "      <td>0.719</td>\n",
       "      <td>0.641</td>\n",
       "    </tr>\n",
       "    <tr>\n",
       "      <th>days</th>\n",
       "      <td>0.719</td>\n",
       "      <td>1.000</td>\n",
       "      <td>0.277</td>\n",
       "    </tr>\n",
       "    <tr>\n",
       "      <th>price</th>\n",
       "      <td>0.641</td>\n",
       "      <td>0.277</td>\n",
       "      <td>1.000</td>\n",
       "    </tr>\n",
       "  </tbody>\n",
       "</table>\n",
       "</div>"
      ],
      "text/plain": [
       "          distance  days  price\n",
       "distance     1.000 0.719  0.641\n",
       "days         0.719 1.000  0.277\n",
       "price        0.641 0.277  1.000"
      ]
     },
     "execution_count": 9,
     "metadata": {},
     "output_type": "execute_result"
    }
   ],
   "source": [
    "df[df['price'] > 300000][['distance', 'days', 'price']].corr()"
   ]
  },
  {
   "cell_type": "code",
   "execution_count": 10,
   "metadata": {},
   "outputs": [
    {
     "data": {
      "text/html": [
       "<div>\n",
       "<style scoped>\n",
       "    .dataframe tbody tr th:only-of-type {\n",
       "        vertical-align: middle;\n",
       "    }\n",
       "\n",
       "    .dataframe tbody tr th {\n",
       "        vertical-align: top;\n",
       "    }\n",
       "\n",
       "    .dataframe thead th {\n",
       "        text-align: right;\n",
       "    }\n",
       "</style>\n",
       "<table border=\"1\" class=\"dataframe\">\n",
       "  <thead>\n",
       "    <tr style=\"text-align: right;\">\n",
       "      <th></th>\n",
       "      <th>distance</th>\n",
       "      <th>own_container</th>\n",
       "      <th>complect_send</th>\n",
       "      <th>container_train</th>\n",
       "      <th>transportation_type</th>\n",
       "      <th>days</th>\n",
       "      <th>price</th>\n",
       "    </tr>\n",
       "  </thead>\n",
       "  <tbody>\n",
       "    <tr>\n",
       "      <th>count</th>\n",
       "      <td>1534.000</td>\n",
       "      <td>1534.000</td>\n",
       "      <td>1534.000</td>\n",
       "      <td>1534.000</td>\n",
       "      <td>1534.000</td>\n",
       "      <td>1534.000</td>\n",
       "      <td>1534.000</td>\n",
       "    </tr>\n",
       "    <tr>\n",
       "      <th>mean</th>\n",
       "      <td>4684.228</td>\n",
       "      <td>0.026</td>\n",
       "      <td>0.376</td>\n",
       "      <td>0.257</td>\n",
       "      <td>2.788</td>\n",
       "      <td>16.439</td>\n",
       "      <td>129739.551</td>\n",
       "    </tr>\n",
       "    <tr>\n",
       "      <th>std</th>\n",
       "      <td>2115.117</td>\n",
       "      <td>0.159</td>\n",
       "      <td>0.485</td>\n",
       "      <td>0.437</td>\n",
       "      <td>0.609</td>\n",
       "      <td>6.410</td>\n",
       "      <td>64042.769</td>\n",
       "    </tr>\n",
       "    <tr>\n",
       "      <th>min</th>\n",
       "      <td>18.000</td>\n",
       "      <td>0.000</td>\n",
       "      <td>0.000</td>\n",
       "      <td>0.000</td>\n",
       "      <td>1.000</td>\n",
       "      <td>4.000</td>\n",
       "      <td>1000.000</td>\n",
       "    </tr>\n",
       "    <tr>\n",
       "      <th>25%</th>\n",
       "      <td>3610.500</td>\n",
       "      <td>0.000</td>\n",
       "      <td>0.000</td>\n",
       "      <td>0.000</td>\n",
       "      <td>3.000</td>\n",
       "      <td>12.000</td>\n",
       "      <td>45948.000</td>\n",
       "    </tr>\n",
       "    <tr>\n",
       "      <th>50%</th>\n",
       "      <td>4290.000</td>\n",
       "      <td>0.000</td>\n",
       "      <td>0.000</td>\n",
       "      <td>0.000</td>\n",
       "      <td>3.000</td>\n",
       "      <td>17.000</td>\n",
       "      <td>141916.000</td>\n",
       "    </tr>\n",
       "    <tr>\n",
       "      <th>75%</th>\n",
       "      <td>4905.000</td>\n",
       "      <td>0.000</td>\n",
       "      <td>1.000</td>\n",
       "      <td>1.000</td>\n",
       "      <td>3.000</td>\n",
       "      <td>18.000</td>\n",
       "      <td>176707.750</td>\n",
       "    </tr>\n",
       "    <tr>\n",
       "      <th>max</th>\n",
       "      <td>10645.000</td>\n",
       "      <td>1.000</td>\n",
       "      <td>1.000</td>\n",
       "      <td>1.000</td>\n",
       "      <td>4.000</td>\n",
       "      <td>41.000</td>\n",
       "      <td>295637.000</td>\n",
       "    </tr>\n",
       "  </tbody>\n",
       "</table>\n",
       "</div>"
      ],
      "text/plain": [
       "       distance  own_container  complect_send  container_train  \\\n",
       "count  1534.000       1534.000       1534.000         1534.000   \n",
       "mean   4684.228          0.026          0.376            0.257   \n",
       "std    2115.117          0.159          0.485            0.437   \n",
       "min      18.000          0.000          0.000            0.000   \n",
       "25%    3610.500          0.000          0.000            0.000   \n",
       "50%    4290.000          0.000          0.000            0.000   \n",
       "75%    4905.000          0.000          1.000            1.000   \n",
       "max   10645.000          1.000          1.000            1.000   \n",
       "\n",
       "       transportation_type     days      price  \n",
       "count             1534.000 1534.000   1534.000  \n",
       "mean                 2.788   16.439 129739.551  \n",
       "std                  0.609    6.410  64042.769  \n",
       "min                  1.000    4.000   1000.000  \n",
       "25%                  3.000   12.000  45948.000  \n",
       "50%                  3.000   17.000 141916.000  \n",
       "75%                  3.000   18.000 176707.750  \n",
       "max                  4.000   41.000 295637.000  "
      ]
     },
     "execution_count": 10,
     "metadata": {},
     "output_type": "execute_result"
    }
   ],
   "source": [
    "df = df[df['price'] < 300000]\n",
    "df.describe()"
   ]
  },
  {
   "cell_type": "markdown",
   "metadata": {},
   "source": [
    "## Split df to train and test"
   ]
  },
  {
   "cell_type": "code",
   "execution_count": 11,
   "metadata": {},
   "outputs": [
    {
     "name": "stdout",
     "output_type": "stream",
     "text": [
      "(1150, 6) (1150,) (384, 6) (384,)\n"
     ]
    }
   ],
   "source": [
    "X, y = df.drop('price', axis=1), df['price']\n",
    "\n",
    "# split df into train and test\n",
    "X_train, X_test, y_train, y_test = train_test_split(X, y, train_size=0.75, random_state=RAND_ST)\n",
    "print(X_train.shape, y_train.shape, X_test.shape, y_test.shape)"
   ]
  },
  {
   "cell_type": "code",
   "execution_count": 12,
   "metadata": {},
   "outputs": [],
   "source": [
    "# X_train = X_train.reset_index(drop=True)\n",
    "# y_train = y_train.reset_index(drop=True)\n",
    "# X_train\n",
    "# y_train"
   ]
  },
  {
   "cell_type": "code",
   "execution_count": 13,
   "metadata": {},
   "outputs": [
    {
     "data": {
      "text/plain": [
       "Index(['distance', 'own_container', 'complect_send', 'container_train',\n",
       "       'transportation_type', 'days'],\n",
       "      dtype='object')"
      ]
     },
     "execution_count": 13,
     "metadata": {},
     "output_type": "execute_result"
    }
   ],
   "source": [
    "X.select_dtypes(exclude='object').columns"
   ]
  },
  {
   "cell_type": "markdown",
   "metadata": {},
   "source": [
    "## Violinplot for num col"
   ]
  },
  {
   "cell_type": "code",
   "execution_count": 14,
   "metadata": {},
   "outputs": [
    {
     "name": "stderr",
     "output_type": "stream",
     "text": [
      "/home/pmu/miniconda3/envs/zhd_transport_price/lib/python3.10/site-packages/seaborn/_oldcore.py:1498: FutureWarning: is_categorical_dtype is deprecated and will be removed in a future version. Use isinstance(dtype, CategoricalDtype) instead\n",
      "  if pd.api.types.is_categorical_dtype(vector):\n"
     ]
    },
    {
     "data": {
      "image/png": "[encoded data removed]",
      "text/plain": [
       "<Figure size 640x480 with 1 Axes>"
      ]
     },
     "metadata": {},
     "output_type": "display_data"
    },
    {
     "name": "stderr",
     "output_type": "stream",
     "text": [
      "/home/pmu/miniconda3/envs/zhd_transport_price/lib/python3.10/site-packages/seaborn/_oldcore.py:1498: FutureWarning: is_categorical_dtype is deprecated and will be removed in a future version. Use isinstance(dtype, CategoricalDtype) instead\n",
      "  if pd.api.types.is_categorical_dtype(vector):\n"
     ]
    },
    {
     "data": {
      "image/png": "[encoded data removed]",
      "text/plain": [
       "<Figure size 640x480 with 1 Axes>"
      ]
     },
     "metadata": {},
     "output_type": "display_data"
    }
   ],
   "source": [
    "num_col = ['distance', 'days']\n",
    "\n",
    "for i in df[num_col]:\n",
    "    sns.violinplot(data = df[[i]])\n",
    "    plt.show()"
   ]
  },
  {
   "cell_type": "markdown",
   "metadata": {},
   "source": [
    "## Make pipeline"
   ]
  },
  {
   "cell_type": "code",
   "execution_count": 15,
   "metadata": {},
   "outputs": [],
   "source": [
    "\n",
    "    num_col = ['distance', 'days']\n",
    "\n",
    "    cat_col = ['own_container', 'complect_send', 'container_train',\n",
    "        'transportation_type']\n",
    "    # transformer for numeric col\n",
    "    num_transformer = skl_pipeline(\n",
    "        steps=[\n",
    "            #transform\n",
    "            (\n",
    "                'power',\n",
    "                PowerTransformer()\n",
    "            )\n",
    "        ]\n",
    "    )\n",
    "\n",
    "\n",
    "    # transformer for categorical col\n",
    "    cat_transformer = skl_pipeline(\n",
    "        steps=[\n",
    "            (\n",
    "                'ohe',\n",
    "                OneHotEncoder(drop='first', handle_unknown='ignore', sparse_output=False) # drop = 'if_binary' if cat will not change\n",
    "            )\n",
    "        ]\n",
    "    )\n",
    "\n",
    "\n",
    "    # make preprocessor\n",
    "    preprocessor = ColumnTransformer(\n",
    "        remainder='passthrough',\n",
    "        transformers=[\n",
    "            ('num_transformer', num_transformer, num_col),\n",
    "            ('cat_transformer', cat_transformer, cat_col)\n",
    "        ]\n",
    "    )\n",
    "\n",
    "    # make pipe model\n",
    "    pipe_xgbr = skl_pipeline(steps=[\n",
    "        \n",
    "        (\n",
    "            'preprocessor',\n",
    "            preprocessor\n",
    "        ),\n",
    "        #model\n",
    "        (\n",
    "            'model_xgbr',\n",
    "            xgb.XGBRegressor(random_state=RAND_ST)\n",
    "        )\n",
    "    ])"
   ]
  },
  {
   "cell_type": "code",
   "execution_count": 16,
   "metadata": {},
   "outputs": [
    {
     "data": {
      "text/html": [
       "<div>\n",
       "<style scoped>\n",
       "    .dataframe tbody tr th:only-of-type {\n",
       "        vertical-align: middle;\n",
       "    }\n",
       "\n",
       "    .dataframe tbody tr th {\n",
       "        vertical-align: top;\n",
       "    }\n",
       "\n",
       "    .dataframe thead th {\n",
       "        text-align: right;\n",
       "    }\n",
       "</style>\n",
       "<table border=\"1\" class=\"dataframe\">\n",
       "  <thead>\n",
       "    <tr style=\"text-align: right;\">\n",
       "      <th></th>\n",
       "      <th>num_transformer__distance</th>\n",
       "      <th>num_transformer__days</th>\n",
       "      <th>cat_transformer__own_container_1</th>\n",
       "      <th>cat_transformer__complect_send_1</th>\n",
       "      <th>cat_transformer__container_train_1</th>\n",
       "      <th>cat_transformer__transportation_type_2</th>\n",
       "      <th>cat_transformer__transportation_type_3</th>\n",
       "      <th>cat_transformer__transportation_type_4</th>\n",
       "    </tr>\n",
       "  </thead>\n",
       "  <tbody>\n",
       "    <tr>\n",
       "      <th>582</th>\n",
       "      <td>-2.754</td>\n",
       "      <td>-1.378</td>\n",
       "      <td>0.000</td>\n",
       "      <td>0.000</td>\n",
       "      <td>1.000</td>\n",
       "      <td>0.000</td>\n",
       "      <td>1.000</td>\n",
       "      <td>0.000</td>\n",
       "    </tr>\n",
       "    <tr>\n",
       "      <th>1014</th>\n",
       "      <td>-0.188</td>\n",
       "      <td>0.398</td>\n",
       "      <td>0.000</td>\n",
       "      <td>0.000</td>\n",
       "      <td>0.000</td>\n",
       "      <td>0.000</td>\n",
       "      <td>1.000</td>\n",
       "      <td>0.000</td>\n",
       "    </tr>\n",
       "    <tr>\n",
       "      <th>365</th>\n",
       "      <td>-0.626</td>\n",
       "      <td>-0.882</td>\n",
       "      <td>0.000</td>\n",
       "      <td>1.000</td>\n",
       "      <td>0.000</td>\n",
       "      <td>0.000</td>\n",
       "      <td>1.000</td>\n",
       "      <td>0.000</td>\n",
       "    </tr>\n",
       "    <tr>\n",
       "      <th>370</th>\n",
       "      <td>-0.598</td>\n",
       "      <td>-0.882</td>\n",
       "      <td>0.000</td>\n",
       "      <td>1.000</td>\n",
       "      <td>0.000</td>\n",
       "      <td>0.000</td>\n",
       "      <td>1.000</td>\n",
       "      <td>0.000</td>\n",
       "    </tr>\n",
       "    <tr>\n",
       "      <th>890</th>\n",
       "      <td>-0.188</td>\n",
       "      <td>0.398</td>\n",
       "      <td>0.000</td>\n",
       "      <td>0.000</td>\n",
       "      <td>0.000</td>\n",
       "      <td>0.000</td>\n",
       "      <td>1.000</td>\n",
       "      <td>0.000</td>\n",
       "    </tr>\n",
       "    <tr>\n",
       "      <th>...</th>\n",
       "      <td>...</td>\n",
       "      <td>...</td>\n",
       "      <td>...</td>\n",
       "      <td>...</td>\n",
       "      <td>...</td>\n",
       "      <td>...</td>\n",
       "      <td>...</td>\n",
       "      <td>...</td>\n",
       "    </tr>\n",
       "    <tr>\n",
       "      <th>571</th>\n",
       "      <td>1.089</td>\n",
       "      <td>2.417</td>\n",
       "      <td>0.000</td>\n",
       "      <td>0.000</td>\n",
       "      <td>0.000</td>\n",
       "      <td>1.000</td>\n",
       "      <td>0.000</td>\n",
       "      <td>0.000</td>\n",
       "    </tr>\n",
       "    <tr>\n",
       "      <th>419</th>\n",
       "      <td>0.004</td>\n",
       "      <td>-0.086</td>\n",
       "      <td>0.000</td>\n",
       "      <td>1.000</td>\n",
       "      <td>0.000</td>\n",
       "      <td>0.000</td>\n",
       "      <td>1.000</td>\n",
       "      <td>0.000</td>\n",
       "    </tr>\n",
       "    <tr>\n",
       "      <th>675</th>\n",
       "      <td>-0.868</td>\n",
       "      <td>-0.882</td>\n",
       "      <td>0.000</td>\n",
       "      <td>0.000</td>\n",
       "      <td>1.000</td>\n",
       "      <td>0.000</td>\n",
       "      <td>1.000</td>\n",
       "      <td>0.000</td>\n",
       "    </tr>\n",
       "    <tr>\n",
       "      <th>213</th>\n",
       "      <td>-1.060</td>\n",
       "      <td>-1.120</td>\n",
       "      <td>0.000</td>\n",
       "      <td>1.000</td>\n",
       "      <td>0.000</td>\n",
       "      <td>0.000</td>\n",
       "      <td>1.000</td>\n",
       "      <td>0.000</td>\n",
       "    </tr>\n",
       "    <tr>\n",
       "      <th>615</th>\n",
       "      <td>-0.397</td>\n",
       "      <td>-0.458</td>\n",
       "      <td>0.000</td>\n",
       "      <td>0.000</td>\n",
       "      <td>1.000</td>\n",
       "      <td>0.000</td>\n",
       "      <td>1.000</td>\n",
       "      <td>0.000</td>\n",
       "    </tr>\n",
       "  </tbody>\n",
       "</table>\n",
       "<p>1150 rows × 8 columns</p>\n",
       "</div>"
      ],
      "text/plain": [
       "      num_transformer__distance  num_transformer__days  \\\n",
       "582                      -2.754                 -1.378   \n",
       "1014                     -0.188                  0.398   \n",
       "365                      -0.626                 -0.882   \n",
       "370                      -0.598                 -0.882   \n",
       "890                      -0.188                  0.398   \n",
       "...                         ...                    ...   \n",
       "571                       1.089                  2.417   \n",
       "419                       0.004                 -0.086   \n",
       "675                      -0.868                 -0.882   \n",
       "213                      -1.060                 -1.120   \n",
       "615                      -0.397                 -0.458   \n",
       "\n",
       "      cat_transformer__own_container_1  cat_transformer__complect_send_1  \\\n",
       "582                              0.000                             0.000   \n",
       "1014                             0.000                             0.000   \n",
       "365                              0.000                             1.000   \n",
       "370                              0.000                             1.000   \n",
       "890                              0.000                             0.000   \n",
       "...                                ...                               ...   \n",
       "571                              0.000                             0.000   \n",
       "419                              0.000                             1.000   \n",
       "675                              0.000                             0.000   \n",
       "213                              0.000                             1.000   \n",
       "615                              0.000                             0.000   \n",
       "\n",
       "      cat_transformer__container_train_1  \\\n",
       "582                                1.000   \n",
       "1014                               0.000   \n",
       "365                                0.000   \n",
       "370                                0.000   \n",
       "890                                0.000   \n",
       "...                                  ...   \n",
       "571                                0.000   \n",
       "419                                0.000   \n",
       "675                                1.000   \n",
       "213                                0.000   \n",
       "615                                1.000   \n",
       "\n",
       "      cat_transformer__transportation_type_2  \\\n",
       "582                                    0.000   \n",
       "1014                                   0.000   \n",
       "365                                    0.000   \n",
       "370                                    0.000   \n",
       "890                                    0.000   \n",
       "...                                      ...   \n",
       "571                                    1.000   \n",
       "419                                    0.000   \n",
       "675                                    0.000   \n",
       "213                                    0.000   \n",
       "615                                    0.000   \n",
       "\n",
       "      cat_transformer__transportation_type_3  \\\n",
       "582                                    1.000   \n",
       "1014                                   1.000   \n",
       "365                                    1.000   \n",
       "370                                    1.000   \n",
       "890                                    1.000   \n",
       "...                                      ...   \n",
       "571                                    0.000   \n",
       "419                                    1.000   \n",
       "675                                    1.000   \n",
       "213                                    1.000   \n",
       "615                                    1.000   \n",
       "\n",
       "      cat_transformer__transportation_type_4  \n",
       "582                                    0.000  \n",
       "1014                                   0.000  \n",
       "365                                    0.000  \n",
       "370                                    0.000  \n",
       "890                                    0.000  \n",
       "...                                      ...  \n",
       "571                                    0.000  \n",
       "419                                    0.000  \n",
       "675                                    0.000  \n",
       "213                                    0.000  \n",
       "615                                    0.000  \n",
       "\n",
       "[1150 rows x 8 columns]"
      ]
     },
     "execution_count": 16,
     "metadata": {},
     "output_type": "execute_result"
    }
   ],
   "source": [
    "preprocessor.fit(X_train, y_train)\n",
    "preprocessor.transform(X_train)"
   ]
  },
  {
   "cell_type": "markdown",
   "metadata": {},
   "source": [
    "## Hyperparameter tuning"
   ]
  },
  {
   "cell_type": "code",
   "execution_count": 17,
   "metadata": {},
   "outputs": [],
   "source": [
    "# add hyper from tree \n",
    "\n",
    "\n",
    "def hyper_opt(trial):\n",
    "    parameters_xgbr = {\n",
    "        'model_xgbr__learning_rate': trial.suggest_float('model_xgbr__learning_rate', 0.01, 0.6), # alias for eta\n",
    "        'model_xgbr__min_split_loss': trial.suggest_int ('model_xgbr__min_split_loss', 0, 250000),    # alias for gamma\n",
    "        'model_xgbr__max_depth': trial.suggest_int('model_xgbr__max_depth', 1, 100),\n",
    "        'model_xgbr__min_child_weight': trial.suggest_int('model_xgbr__min_child_weight', 1, 20),\n",
    "        'model_xgbr__subsample': trial.suggest_float('model_xgbr__subsample', 0.5, 1),\n",
    "        'model_xgbr__colsample_bytree': trial.suggest_float('model_xgbr__colsample_bytree', 0.5, 1),\n",
    "        'model_xgbr__reg_lambda': trial.suggest_int('model_xgbr__reg_lambda', 0, 200),\n",
    "        'model_xgbr__reg_alpha': trial.suggest_int('model_xgbr__reg_alpha', 0, 100),    #???\n",
    "        'model_xgbr__n_estimators': trial.suggest_int('model_xgbr__n_estimators', 5, 2000),\n",
    "        'model_xgbr__max_leaves': trial.suggest_int('model_xgbr__max_leaves', 2, 100)\n",
    "    }\n",
    "    \n",
    "    num_col = ['distance', 'days']\n",
    "\n",
    "    cat_col = ['own_container', 'complect_send', 'container_train',\n",
    "        'transportation_type']\n",
    "    # transformer for numeric col\n",
    "    num_transformer = skl_pipeline(\n",
    "        steps=[\n",
    "            #transform\n",
    "            (\n",
    "                'power',\n",
    "                PowerTransformer()\n",
    "            )\n",
    "        ]\n",
    "    )\n",
    "\n",
    "\n",
    "    # transformer for categorical col\n",
    "    cat_transformer = skl_pipeline(\n",
    "        steps=[\n",
    "            (\n",
    "                'ohe',\n",
    "                OneHotEncoder(drop='if_binary', handle_unknown='ignore', sparse_output=False)\n",
    "            )\n",
    "        ]\n",
    "    )\n",
    "\n",
    "\n",
    "    # make preprocessor\n",
    "    preprocessor = ColumnTransformer(\n",
    "        remainder='passthrough',\n",
    "        transformers=[\n",
    "            ('num_transformer', num_transformer, num_col),\n",
    "            ('cat_transformer', cat_transformer, cat_col)\n",
    "        ]\n",
    "    )\n",
    "\n",
    "    # make pipe model\n",
    "    pipe_xgbr = skl_pipeline(steps=[\n",
    "        \n",
    "        (\n",
    "            'preprocessor',\n",
    "            preprocessor\n",
    "        ),\n",
    "        #model\n",
    "        (\n",
    "            'model_xgbr',\n",
    "            xgb.XGBRegressor(random_state=RAND_ST)\n",
    "        )\n",
    "    ])\n",
    "\n",
    "    pipe_xgbr.set_params(**parameters_xgbr) #разименование\n",
    "    \n",
    "    return cross_val_score(pipe_xgbr, X_train, y_train, scoring='neg_mean_squared_error').mean() #neg mse???\n",
    "    # pipe_xgbr.fit(X_train, y_train)\n",
    "    # print(mean_squared_error(pipe_xgbr.predict(X_train), y_train))\n",
    "    # return mean_squared_error(pipe_xgbr.predict(X_train), y_train)\n",
    "    "
   ]
  },
  {
   "cell_type": "code",
   "execution_count": 18,
   "metadata": {
    "slideshow": {
     "slide_type": "skip"
    }
   },
   "outputs": [
    {
     "name": "stderr",
     "output_type": "stream",
     "text": [
      "[I 2023-12-10 08:12:05,027] A new study created in memory with name: no-name-d7692b50-ad7c-42ac-bc8b-3ea72eb8730f\n",
      "[I 2023-12-10 08:12:09,436] Trial 0 finished with value: -642485982.7033961 and parameters: {'model_xgbr__learning_rate': 0.1146396465788649, 'model_xgbr__min_split_loss': 232457, 'model_xgbr__max_depth': 13, 'model_xgbr__min_child_weight': 7, 'model_xgbr__subsample': 0.9137177549451438, 'model_xgbr__colsample_bytree': 0.8357562239492339, 'model_xgbr__reg_lambda': 151, 'model_xgbr__reg_alpha': 50, 'model_xgbr__n_estimators': 1002, 'model_xgbr__max_leaves': 51}. Best is trial 0 with value: -642485982.7033961.\n",
      "[I 2023-12-10 08:12:23,543] Trial 1 finished with value: -684375120.2239473 and parameters: {'model_xgbr__learning_rate': 0.2152990138030814, 'model_xgbr__min_split_loss': 61026, 'model_xgbr__max_depth': 95, 'model_xgbr__min_child_weight': 10, 'model_xgbr__subsample': 0.7548099766000216, 'model_xgbr__colsample_bytree': 0.6829322617975716, 'model_xgbr__reg_lambda': 32, 'model_xgbr__reg_alpha': 31, 'model_xgbr__n_estimators': 1236, 'model_xgbr__max_leaves': 57}. Best is trial 0 with value: -642485982.7033961.\n",
      "[I 2023-12-10 08:12:25,880] Trial 2 finished with value: -739025205.5816453 and parameters: {'model_xgbr__learning_rate': 0.21817654145687937, 'model_xgbr__min_split_loss': 194483, 'model_xgbr__max_depth': 60, 'model_xgbr__min_child_weight': 17, 'model_xgbr__subsample': 0.7694221791137776, 'model_xgbr__colsample_bytree': 0.973922600954265, 'model_xgbr__reg_lambda': 164, 'model_xgbr__reg_alpha': 86, 'model_xgbr__n_estimators': 303, 'model_xgbr__max_leaves': 25}. Best is trial 0 with value: -642485982.7033961.\n",
      "[I 2023-12-10 08:12:52,764] Trial 3 finished with value: -664335437.3876231 and parameters: {'model_xgbr__learning_rate': 0.33365078563754164, 'model_xgbr__min_split_loss': 28435, 'model_xgbr__max_depth': 56, 'model_xgbr__min_child_weight': 15, 'model_xgbr__subsample': 0.8912542977342843, 'model_xgbr__colsample_bytree': 0.7901759843950648, 'model_xgbr__reg_lambda': 163, 'model_xgbr__reg_alpha': 11, 'model_xgbr__n_estimators': 999, 'model_xgbr__max_leaves': 79}. Best is trial 0 with value: -642485982.7033961.\n",
      "[I 2023-12-10 08:13:06,459] Trial 4 finished with value: -706755847.4669025 and parameters: {'model_xgbr__learning_rate': 0.3870251493205208, 'model_xgbr__min_split_loss': 207473, 'model_xgbr__max_depth': 34, 'model_xgbr__min_child_weight': 15, 'model_xgbr__subsample': 0.7616594429176378, 'model_xgbr__colsample_bytree': 0.6012448026068591, 'model_xgbr__reg_lambda': 17, 'model_xgbr__reg_alpha': 66, 'model_xgbr__n_estimators': 435, 'model_xgbr__max_leaves': 76}. Best is trial 0 with value: -642485982.7033961.\n",
      "[I 2023-12-10 08:13:20,733] Trial 5 finished with value: -730375005.4096096 and parameters: {'model_xgbr__learning_rate': 0.25395472909868066, 'model_xgbr__min_split_loss': 2236, 'model_xgbr__max_depth': 20, 'model_xgbr__min_child_weight': 15, 'model_xgbr__subsample': 0.7747521282464629, 'model_xgbr__colsample_bytree': 0.5030102406447874, 'model_xgbr__reg_lambda': 19, 'model_xgbr__reg_alpha': 10, 'model_xgbr__n_estimators': 1374, 'model_xgbr__max_leaves': 96}. Best is trial 0 with value: -642485982.7033961.\n",
      "[I 2023-12-10 08:14:03,905] Trial 6 finished with value: -722598788.9735041 and parameters: {'model_xgbr__learning_rate': 0.07997291671050247, 'model_xgbr__min_split_loss': 183976, 'model_xgbr__max_depth': 86, 'model_xgbr__min_child_weight': 14, 'model_xgbr__subsample': 0.5382913304030268, 'model_xgbr__colsample_bytree': 0.7241576184460673, 'model_xgbr__reg_lambda': 8, 'model_xgbr__reg_alpha': 88, 'model_xgbr__n_estimators': 1493, 'model_xgbr__max_leaves': 46}. Best is trial 0 with value: -642485982.7033961.\n",
      "[I 2023-12-10 08:14:53,320] Trial 7 finished with value: -716631311.7026663 and parameters: {'model_xgbr__learning_rate': 0.10222341609861214, 'model_xgbr__min_split_loss': 46890, 'model_xgbr__max_depth': 18, 'model_xgbr__min_child_weight': 17, 'model_xgbr__subsample': 0.7507299186157442, 'model_xgbr__colsample_bytree': 0.7227722784540689, 'model_xgbr__reg_lambda': 35, 'model_xgbr__reg_alpha': 97, 'model_xgbr__n_estimators': 1634, 'model_xgbr__max_leaves': 71}. Best is trial 0 with value: -642485982.7033961.\n",
      "[I 2023-12-10 08:15:01,991] Trial 8 finished with value: -630875182.1772721 and parameters: {'model_xgbr__learning_rate': 0.5385900891313855, 'model_xgbr__min_split_loss': 156743, 'model_xgbr__max_depth': 83, 'model_xgbr__min_child_weight': 1, 'model_xgbr__subsample': 0.7756611136130784, 'model_xgbr__colsample_bytree': 0.8891656320966028, 'model_xgbr__reg_lambda': 148, 'model_xgbr__reg_alpha': 27, 'model_xgbr__n_estimators': 475, 'model_xgbr__max_leaves': 24}. Best is trial 8 with value: -630875182.1772721.\n",
      "[I 2023-12-10 08:15:13,927] Trial 9 finished with value: -683945245.9148796 and parameters: {'model_xgbr__learning_rate': 0.5255760378749179, 'model_xgbr__min_split_loss': 8743, 'model_xgbr__max_depth': 35, 'model_xgbr__min_child_weight': 4, 'model_xgbr__subsample': 0.8421261041153707, 'model_xgbr__colsample_bytree': 0.7630634145188001, 'model_xgbr__reg_lambda': 107, 'model_xgbr__reg_alpha': 12, 'model_xgbr__n_estimators': 1551, 'model_xgbr__max_leaves': 64}. Best is trial 8 with value: -630875182.1772721.\n",
      "[I 2023-12-10 08:15:14,993] Trial 10 finished with value: -696092023.8240751 and parameters: {'model_xgbr__learning_rate': 0.5570616445297052, 'model_xgbr__min_split_loss': 114881, 'model_xgbr__max_depth': 75, 'model_xgbr__min_child_weight': 1, 'model_xgbr__subsample': 0.9858088937387252, 'model_xgbr__colsample_bytree': 0.9294657994539971, 'model_xgbr__reg_lambda': 199, 'model_xgbr__reg_alpha': 38, 'model_xgbr__n_estimators': 70, 'model_xgbr__max_leaves': 11}. Best is trial 8 with value: -630875182.1772721.\n",
      "[I 2023-12-10 08:15:18,964] Trial 11 finished with value: -673876779.0057434 and parameters: {'model_xgbr__learning_rate': 0.4302358242991309, 'model_xgbr__min_split_loss': 233043, 'model_xgbr__max_depth': 3, 'model_xgbr__min_child_weight': 7, 'model_xgbr__subsample': 0.999277813670383, 'model_xgbr__colsample_bytree': 0.8820991096523878, 'model_xgbr__reg_lambda': 109, 'model_xgbr__reg_alpha': 54, 'model_xgbr__n_estimators': 790, 'model_xgbr__max_leaves': 33}. Best is trial 8 with value: -630875182.1772721.\n",
      "[I 2023-12-10 08:15:23,660] Trial 12 finished with value: -856740954.9657396 and parameters: {'model_xgbr__learning_rate': 0.022211421356537198, 'model_xgbr__min_split_loss': 146180, 'model_xgbr__max_depth': 68, 'model_xgbr__min_child_weight': 1, 'model_xgbr__subsample': 0.6493329484290936, 'model_xgbr__colsample_bytree': 0.8581514048327067, 'model_xgbr__reg_lambda': 145, 'model_xgbr__reg_alpha': 31, 'model_xgbr__n_estimators': 673, 'model_xgbr__max_leaves': 8}. Best is trial 8 with value: -630875182.1772721.\n",
      "[I 2023-12-10 08:15:42,206] Trial 13 finished with value: -685205691.8900454 and parameters: {'model_xgbr__learning_rate': 0.4805146372193019, 'model_xgbr__min_split_loss': 135289, 'model_xgbr__max_depth': 47, 'model_xgbr__min_child_weight': 6, 'model_xgbr__subsample': 0.8904802029053396, 'model_xgbr__colsample_bytree': 0.8469164219258907, 'model_xgbr__reg_lambda': 73, 'model_xgbr__reg_alpha': 59, 'model_xgbr__n_estimators': 1909, 'model_xgbr__max_leaves': 40}. Best is trial 8 with value: -630875182.1772721.\n",
      "[I 2023-12-10 08:15:54,359] Trial 14 finished with value: -728158043.6515772 and parameters: {'model_xgbr__learning_rate': 0.5895501438797779, 'model_xgbr__min_split_loss': 239281, 'model_xgbr__max_depth': 2, 'model_xgbr__min_child_weight': 10, 'model_xgbr__subsample': 0.6830000356177348, 'model_xgbr__colsample_bytree': 0.9903920082818114, 'model_xgbr__reg_lambda': 137, 'model_xgbr__reg_alpha': 42, 'model_xgbr__n_estimators': 899, 'model_xgbr__max_leaves': 25}. Best is trial 8 with value: -630875182.1772721.\n",
      "[I 2023-12-10 08:16:00,237] Trial 15 finished with value: -628939201.5861043 and parameters: {'model_xgbr__learning_rate': 0.4273181508875515, 'model_xgbr__min_split_loss': 104815, 'model_xgbr__max_depth': 99, 'model_xgbr__min_child_weight': 4, 'model_xgbr__subsample': 0.8539711385716283, 'model_xgbr__colsample_bytree': 0.9103049482383223, 'model_xgbr__reg_lambda': 189, 'model_xgbr__reg_alpha': 73, 'model_xgbr__n_estimators': 586, 'model_xgbr__max_leaves': 52}. Best is trial 15 with value: -628939201.5861043.\n",
      "[I 2023-12-10 08:16:03,979] Trial 16 finished with value: -626917168.291654 and parameters: {'model_xgbr__learning_rate': 0.47695107229877864, 'model_xgbr__min_split_loss': 95809, 'model_xgbr__max_depth': 100, 'model_xgbr__min_child_weight': 4, 'model_xgbr__subsample': 0.8270265881645401, 'model_xgbr__colsample_bytree': 0.9231670817568517, 'model_xgbr__reg_lambda': 196, 'model_xgbr__reg_alpha': 73, 'model_xgbr__n_estimators': 530, 'model_xgbr__max_leaves': 20}. Best is trial 16 with value: -626917168.291654.\n",
      "[I 2023-12-10 08:16:05,588] Trial 17 finished with value: -815120562.955982 and parameters: {'model_xgbr__learning_rate': 0.4531728063948457, 'model_xgbr__min_split_loss': 91108, 'model_xgbr__max_depth': 99, 'model_xgbr__min_child_weight': 4, 'model_xgbr__subsample': 0.8271767269653773, 'model_xgbr__colsample_bytree': 0.947519565915434, 'model_xgbr__reg_lambda': 196, 'model_xgbr__reg_alpha': 68, 'model_xgbr__n_estimators': 30, 'model_xgbr__max_leaves': 93}. Best is trial 16 with value: -626917168.291654.\n",
      "[I 2023-12-10 08:16:10,838] Trial 18 finished with value: -621215282.2699971 and parameters: {'model_xgbr__learning_rate': 0.37538688953911165, 'model_xgbr__min_split_loss': 90564, 'model_xgbr__max_depth': 85, 'model_xgbr__min_child_weight': 4, 'model_xgbr__subsample': 0.9430270688435237, 'model_xgbr__colsample_bytree': 0.9235221811367137, 'model_xgbr__reg_lambda': 177, 'model_xgbr__reg_alpha': 76, 'model_xgbr__n_estimators': 532, 'model_xgbr__max_leaves': 37}. Best is trial 18 with value: -621215282.2699971.\n",
      "[I 2023-12-10 08:16:13,170] Trial 19 finished with value: -648358779.2891378 and parameters: {'model_xgbr__learning_rate': 0.3578863156418435, 'model_xgbr__min_split_loss': 72196, 'model_xgbr__max_depth': 85, 'model_xgbr__min_child_weight': 9, 'model_xgbr__subsample': 0.9399157559312298, 'model_xgbr__colsample_bytree': 0.9696267191188219, 'model_xgbr__reg_lambda': 178, 'model_xgbr__reg_alpha': 80, 'model_xgbr__n_estimators': 333, 'model_xgbr__max_leaves': 17}. Best is trial 18 with value: -621215282.2699971.\n",
      "[I 2023-12-10 08:16:16,929] Trial 20 finished with value: -666737449.2613808 and parameters: {'model_xgbr__learning_rate': 0.30514976846080333, 'model_xgbr__min_split_loss': 73174, 'model_xgbr__max_depth': 73, 'model_xgbr__min_child_weight': 12, 'model_xgbr__subsample': 0.9456962770128767, 'model_xgbr__colsample_bytree': 0.9984298514037462, 'model_xgbr__reg_lambda': 86, 'model_xgbr__reg_alpha': 99, 'model_xgbr__n_estimators': 202, 'model_xgbr__max_leaves': 36}. Best is trial 18 with value: -621215282.2699971.\n",
      "[I 2023-12-10 08:16:26,331] Trial 21 finished with value: -627504830.9722362 and parameters: {'model_xgbr__learning_rate': 0.405822909393607, 'model_xgbr__min_split_loss': 105916, 'model_xgbr__max_depth': 100, 'model_xgbr__min_child_weight': 3, 'model_xgbr__subsample': 0.8479340272864184, 'model_xgbr__colsample_bytree': 0.9164500485656033, 'model_xgbr__reg_lambda': 182, 'model_xgbr__reg_alpha': 75, 'model_xgbr__n_estimators': 609, 'model_xgbr__max_leaves': 44}. Best is trial 18 with value: -621215282.2699971.\n",
      "[I 2023-12-10 08:16:34,104] Trial 22 finished with value: -728422986.2805936 and parameters: {'model_xgbr__learning_rate': 0.3920134423782223, 'model_xgbr__min_split_loss': 96397, 'model_xgbr__max_depth': 89, 'model_xgbr__min_child_weight': 3, 'model_xgbr__subsample': 0.8249541697287821, 'model_xgbr__colsample_bytree': 0.9313925264794096, 'model_xgbr__reg_lambda': 177, 'model_xgbr__reg_alpha': 78, 'model_xgbr__n_estimators': 689, 'model_xgbr__max_leaves': 3}. Best is trial 18 with value: -621215282.2699971.\n",
      "[I 2023-12-10 08:16:38,758] Trial 23 finished with value: -643843034.022314 and parameters: {'model_xgbr__learning_rate': 0.48799526325543136, 'model_xgbr__min_split_loss': 123183, 'model_xgbr__max_depth': 92, 'model_xgbr__min_child_weight': 6, 'model_xgbr__subsample': 0.949409874724685, 'model_xgbr__colsample_bytree': 0.9065969796580198, 'model_xgbr__reg_lambda': 175, 'model_xgbr__reg_alpha': 63, 'model_xgbr__n_estimators': 552, 'model_xgbr__max_leaves': 42}. Best is trial 18 with value: -621215282.2699971.\n",
      "[I 2023-12-10 08:16:46,519] Trial 24 finished with value: -646822209.3093221 and parameters: {'model_xgbr__learning_rate': 0.3946732545036886, 'model_xgbr__min_split_loss': 162371, 'model_xgbr__max_depth': 78, 'model_xgbr__min_child_weight': 3, 'model_xgbr__subsample': 0.8697714255338297, 'model_xgbr__colsample_bytree': 0.8104571657442396, 'model_xgbr__reg_lambda': 122, 'model_xgbr__reg_alpha': 82, 'model_xgbr__n_estimators': 830, 'model_xgbr__max_leaves': 31}. Best is trial 18 with value: -621215282.2699971.\n",
      "[I 2023-12-10 08:16:52,155] Trial 25 finished with value: -767989311.4299389 and parameters: {'model_xgbr__learning_rate': 0.4726858409765714, 'model_xgbr__min_split_loss': 81598, 'model_xgbr__max_depth': 64, 'model_xgbr__min_child_weight': 20, 'model_xgbr__subsample': 0.9116004603539898, 'model_xgbr__colsample_bytree': 0.8718122873986689, 'model_xgbr__reg_lambda': 130, 'model_xgbr__reg_alpha': 92, 'model_xgbr__n_estimators': 1120, 'model_xgbr__max_leaves': 15}. Best is trial 18 with value: -621215282.2699971.\n",
      "[I 2023-12-10 08:16:54,461] Trial 26 finished with value: -659790004.6525538 and parameters: {'model_xgbr__learning_rate': 0.3402467509818763, 'model_xgbr__min_split_loss': 111555, 'model_xgbr__max_depth': 100, 'model_xgbr__min_child_weight': 6, 'model_xgbr__subsample': 0.8176369362221371, 'model_xgbr__colsample_bytree': 0.9482706689377798, 'model_xgbr__reg_lambda': 165, 'model_xgbr__reg_alpha': 76, 'model_xgbr__n_estimators': 225, 'model_xgbr__max_leaves': 22}. Best is trial 18 with value: -621215282.2699971.\n",
      "[I 2023-12-10 08:16:59,848] Trial 27 finished with value: -643346492.068085 and parameters: {'model_xgbr__learning_rate': 0.5085957103501704, 'model_xgbr__min_split_loss': 45251, 'model_xgbr__max_depth': 81, 'model_xgbr__min_child_weight': 8, 'model_xgbr__subsample': 0.8792339795540514, 'model_xgbr__colsample_bytree': 0.901456722369746, 'model_xgbr__reg_lambda': 187, 'model_xgbr__reg_alpha': 69, 'model_xgbr__n_estimators': 424, 'model_xgbr__max_leaves': 57}. Best is trial 18 with value: -621215282.2699971.\n",
      "[I 2023-12-10 08:17:07,756] Trial 28 finished with value: -634576807.8121498 and parameters: {'model_xgbr__learning_rate': 0.4365425322250245, 'model_xgbr__min_split_loss': 132730, 'model_xgbr__max_depth': 92, 'model_xgbr__min_child_weight': 3, 'model_xgbr__subsample': 0.7996654926367834, 'model_xgbr__colsample_bytree': 0.8250130165586589, 'model_xgbr__reg_lambda': 200, 'model_xgbr__reg_alpha': 56, 'model_xgbr__n_estimators': 711, 'model_xgbr__max_leaves': 31}. Best is trial 18 with value: -621215282.2699971.\n",
      "[I 2023-12-10 08:17:30,737] Trial 29 finished with value: -645624386.0941948 and parameters: {'model_xgbr__learning_rate': 0.28964830620341836, 'model_xgbr__min_split_loss': 59991, 'model_xgbr__max_depth': 47, 'model_xgbr__min_child_weight': 5, 'model_xgbr__subsample': 0.9142166077834191, 'model_xgbr__colsample_bytree': 0.8353093390803198, 'model_xgbr__reg_lambda': 155, 'model_xgbr__reg_alpha': 49, 'model_xgbr__n_estimators': 1029, 'model_xgbr__max_leaves': 48}. Best is trial 18 with value: -621215282.2699971.\n",
      "[I 2023-12-10 08:17:36,221] Trial 30 finished with value: -669628948.3229942 and parameters: {'model_xgbr__learning_rate': 0.5005088654999356, 'model_xgbr__min_split_loss': 92929, 'model_xgbr__max_depth': 71, 'model_xgbr__min_child_weight': 8, 'model_xgbr__subsample': 0.858082811784837, 'model_xgbr__colsample_bytree': 0.9577949406015221, 'model_xgbr__reg_lambda': 72, 'model_xgbr__reg_alpha': 47, 'model_xgbr__n_estimators': 588, 'model_xgbr__max_leaves': 39}. Best is trial 18 with value: -621215282.2699971.\n",
      "[I 2023-12-10 08:18:03,460] Trial 31 finished with value: -627528165.6556926 and parameters: {'model_xgbr__learning_rate': 0.41668429402046797, 'model_xgbr__min_split_loss': 108020, 'model_xgbr__max_depth': 100, 'model_xgbr__min_child_weight': 2, 'model_xgbr__subsample': 0.8528310590583703, 'model_xgbr__colsample_bytree': 0.916251304447884, 'model_xgbr__reg_lambda': 184, 'model_xgbr__reg_alpha': 73, 'model_xgbr__n_estimators': 545, 'model_xgbr__max_leaves': 56}. Best is trial 18 with value: -621215282.2699971.\n",
      "[I 2023-12-10 08:18:07,454] Trial 32 finished with value: -622283869.016028 and parameters: {'model_xgbr__learning_rate': 0.41088432105750133, 'model_xgbr__min_split_loss': 107717, 'model_xgbr__max_depth': 94, 'model_xgbr__min_child_weight': 2, 'model_xgbr__subsample': 0.8048666426302017, 'model_xgbr__colsample_bytree': 0.8691080890224976, 'model_xgbr__reg_lambda': 181, 'model_xgbr__reg_alpha': 74, 'model_xgbr__n_estimators': 353, 'model_xgbr__max_leaves': 58}. Best is trial 18 with value: -621215282.2699971.\n",
      "[I 2023-12-10 08:18:11,756] Trial 33 finished with value: -623496304.3622116 and parameters: {'model_xgbr__learning_rate': 0.3705081570269963, 'model_xgbr__min_split_loss': 81195, 'model_xgbr__max_depth': 93, 'model_xgbr__min_child_weight': 2, 'model_xgbr__subsample': 0.8058954237355926, 'model_xgbr__colsample_bytree': 0.8601351098729488, 'model_xgbr__reg_lambda': 170, 'model_xgbr__reg_alpha': 87, 'model_xgbr__n_estimators': 320, 'model_xgbr__max_leaves': 62}. Best is trial 18 with value: -621215282.2699971.\n",
      "[I 2023-12-10 08:18:15,102] Trial 34 finished with value: -644942601.3037174 and parameters: {'model_xgbr__learning_rate': 0.36591873415647974, 'model_xgbr__min_split_loss': 56251, 'model_xgbr__max_depth': 93, 'model_xgbr__min_child_weight': 2, 'model_xgbr__subsample': 0.798332635011341, 'model_xgbr__colsample_bytree': 0.8606218796587416, 'model_xgbr__reg_lambda': 162, 'model_xgbr__reg_alpha': 86, 'model_xgbr__n_estimators': 175, 'model_xgbr__max_leaves': 64}. Best is trial 18 with value: -621215282.2699971.\n",
      "[I 2023-12-10 08:18:19,092] Trial 35 finished with value: -642695764.6167649 and parameters: {'model_xgbr__learning_rate': 0.46048171783046976, 'model_xgbr__min_split_loss': 78453, 'model_xgbr__max_depth': 88, 'model_xgbr__min_child_weight': 5, 'model_xgbr__subsample': 0.717586764859294, 'model_xgbr__colsample_bytree': 0.8006215163334958, 'model_xgbr__reg_lambda': 164, 'model_xgbr__reg_alpha': 92, 'model_xgbr__n_estimators': 328, 'model_xgbr__max_leaves': 66}. Best is trial 18 with value: -621215282.2699971.\n",
      "[I 2023-12-10 08:18:22,831] Trial 36 finished with value: -614582017.6645015 and parameters: {'model_xgbr__learning_rate': 0.31980675079453713, 'model_xgbr__min_split_loss': 21587, 'model_xgbr__max_depth': 78, 'model_xgbr__min_child_weight': 2, 'model_xgbr__subsample': 0.7992665405441751, 'model_xgbr__colsample_bytree': 0.8798495899679897, 'model_xgbr__reg_lambda': 172, 'model_xgbr__reg_alpha': 83, 'model_xgbr__n_estimators': 407, 'model_xgbr__max_leaves': 52}. Best is trial 36 with value: -614582017.6645015.\n",
      "[I 2023-12-10 08:18:26,380] Trial 37 finished with value: -617996222.4819169 and parameters: {'model_xgbr__learning_rate': 0.3089538097074991, 'model_xgbr__min_split_loss': 24470, 'model_xgbr__max_depth': 56, 'model_xgbr__min_child_weight': 2, 'model_xgbr__subsample': 0.8046445346016882, 'model_xgbr__colsample_bytree': 0.8752827065854825, 'model_xgbr__reg_lambda': 124, 'model_xgbr__reg_alpha': 91, 'model_xgbr__n_estimators': 397, 'model_xgbr__max_leaves': 84}. Best is trial 36 with value: -614582017.6645015.\n",
      "[I 2023-12-10 08:18:38,670] Trial 38 finished with value: -617237888.3625145 and parameters: {'model_xgbr__learning_rate': 0.21265397189420343, 'model_xgbr__min_split_loss': 22444, 'model_xgbr__max_depth': 52, 'model_xgbr__min_child_weight': 1, 'model_xgbr__subsample': 0.7473862359479845, 'model_xgbr__colsample_bytree': 0.8170584262342795, 'model_xgbr__reg_lambda': 123, 'model_xgbr__reg_alpha': 95, 'model_xgbr__n_estimators': 428, 'model_xgbr__max_leaves': 87}. Best is trial 36 with value: -614582017.6645015.\n",
      "[I 2023-12-10 08:18:45,435] Trial 39 finished with value: -693557213.559673 and parameters: {'model_xgbr__learning_rate': 0.2013974918964478, 'model_xgbr__min_split_loss': 19788, 'model_xgbr__max_depth': 55, 'model_xgbr__min_child_weight': 1, 'model_xgbr__subsample': 0.7254641321468269, 'model_xgbr__colsample_bytree': 0.7827486005904638, 'model_xgbr__reg_lambda': 120, 'model_xgbr__reg_alpha': 95, 'model_xgbr__n_estimators': 113, 'model_xgbr__max_leaves': 86}. Best is trial 36 with value: -614582017.6645015.\n",
      "[I 2023-12-10 08:19:10,772] Trial 40 finished with value: -665155423.4790285 and parameters: {'model_xgbr__learning_rate': 0.25322339340521677, 'model_xgbr__min_split_loss': 35957, 'model_xgbr__max_depth': 43, 'model_xgbr__min_child_weight': 12, 'model_xgbr__subsample': 0.7744728148002328, 'model_xgbr__colsample_bytree': 0.8305660312683231, 'model_xgbr__reg_lambda': 136, 'model_xgbr__reg_alpha': 84, 'model_xgbr__n_estimators': 410, 'model_xgbr__max_leaves': 82}. Best is trial 36 with value: -614582017.6645015.\n",
      "[I 2023-12-10 08:19:16,251] Trial 41 finished with value: -608189196.5995364 and parameters: {'model_xgbr__learning_rate': 0.32208361712277717, 'model_xgbr__min_split_loss': 15127, 'model_xgbr__max_depth': 60, 'model_xgbr__min_child_weight': 2, 'model_xgbr__subsample': 0.7407328795660003, 'model_xgbr__colsample_bytree': 0.8812728313218443, 'model_xgbr__reg_lambda': 90, 'model_xgbr__reg_alpha': 92, 'model_xgbr__n_estimators': 279, 'model_xgbr__max_leaves': 90}. Best is trial 41 with value: -608189196.5995364.\n",
      "[I 2023-12-10 08:19:30,035] Trial 42 finished with value: -616472238.408543 and parameters: {'model_xgbr__learning_rate': 0.31807394247714316, 'model_xgbr__min_split_loss': 17679, 'model_xgbr__max_depth': 60, 'model_xgbr__min_child_weight': 1, 'model_xgbr__subsample': 0.7440463504461078, 'model_xgbr__colsample_bytree': 0.8237304137285484, 'model_xgbr__reg_lambda': 96, 'model_xgbr__reg_alpha': 91, 'model_xgbr__n_estimators': 221, 'model_xgbr__max_leaves': 100}. Best is trial 41 with value: -608189196.5995364.\n",
      "[I 2023-12-10 08:19:39,245] Trial 43 finished with value: -612581823.8332341 and parameters: {'model_xgbr__learning_rate': 0.3094373463868482, 'model_xgbr__min_split_loss': 16308, 'model_xgbr__max_depth': 58, 'model_xgbr__min_child_weight': 1, 'model_xgbr__subsample': 0.7346579455379695, 'model_xgbr__colsample_bytree': 0.8153191551284215, 'model_xgbr__reg_lambda': 92, 'model_xgbr__reg_alpha': 91, 'model_xgbr__n_estimators': 235, 'model_xgbr__max_leaves': 99}. Best is trial 41 with value: -608189196.5995364.\n",
      "[I 2023-12-10 08:19:41,706] Trial 44 finished with value: -615057184.31917 and parameters: {'model_xgbr__learning_rate': 0.3329388981188507, 'model_xgbr__min_split_loss': 9955, 'model_xgbr__max_depth': 63, 'model_xgbr__min_child_weight': 1, 'model_xgbr__subsample': 0.718396894584709, 'model_xgbr__colsample_bytree': 0.7852458756911359, 'model_xgbr__reg_lambda': 91, 'model_xgbr__reg_alpha': 100, 'model_xgbr__n_estimators': 233, 'model_xgbr__max_leaves': 92}. Best is trial 41 with value: -608189196.5995364.\n",
      "[I 2023-12-10 08:19:45,846] Trial 45 finished with value: -617066446.275536 and parameters: {'model_xgbr__learning_rate': 0.330044779340024, 'model_xgbr__min_split_loss': 4741, 'model_xgbr__max_depth': 63, 'model_xgbr__min_child_weight': 1, 'model_xgbr__subsample': 0.7000034736866036, 'model_xgbr__colsample_bytree': 0.779097206029755, 'model_xgbr__reg_lambda': 89, 'model_xgbr__reg_alpha': 100, 'model_xgbr__n_estimators': 234, 'model_xgbr__max_leaves': 99}. Best is trial 41 with value: -608189196.5995364.\n",
      "[I 2023-12-10 08:19:48,858] Trial 46 finished with value: -647992457.083178 and parameters: {'model_xgbr__learning_rate': 0.28331411265129347, 'model_xgbr__min_split_loss': 10691, 'model_xgbr__max_depth': 67, 'model_xgbr__min_child_weight': 5, 'model_xgbr__subsample': 0.7436440450680393, 'model_xgbr__colsample_bytree': 0.7455422169467698, 'model_xgbr__reg_lambda': 61, 'model_xgbr__reg_alpha': 88, 'model_xgbr__n_estimators': 143, 'model_xgbr__max_leaves': 91}. Best is trial 41 with value: -608189196.5995364.\n",
      "[I 2023-12-10 08:19:49,901] Trial 47 finished with value: -745484574.1473678 and parameters: {'model_xgbr__learning_rate': 0.338304091108705, 'model_xgbr__min_split_loss': 34603, 'model_xgbr__max_depth': 62, 'model_xgbr__min_child_weight': 3, 'model_xgbr__subsample': 0.6641213162847259, 'model_xgbr__colsample_bytree': 0.8402526506598751, 'model_xgbr__reg_lambda': 50, 'model_xgbr__reg_alpha': 3, 'model_xgbr__n_estimators': 25, 'model_xgbr__max_leaves': 75}. Best is trial 41 with value: -608189196.5995364.\n",
      "[I 2023-12-10 08:19:53,653] Trial 48 finished with value: -649280497.3031347 and parameters: {'model_xgbr__learning_rate': 0.2603239465422466, 'model_xgbr__min_split_loss': 14587, 'model_xgbr__max_depth': 36, 'model_xgbr__min_child_weight': 1, 'model_xgbr__subsample': 0.7664586650497923, 'model_xgbr__colsample_bytree': 0.7912409741596078, 'model_xgbr__reg_lambda': 100, 'model_xgbr__reg_alpha': 95, 'model_xgbr__n_estimators': 119, 'model_xgbr__max_leaves': 100}. Best is trial 41 with value: -608189196.5995364.\n",
      "[I 2023-12-10 08:19:56,205] Trial 49 finished with value: -612150135.0318804 and parameters: {'model_xgbr__learning_rate': 0.3274108375001206, 'model_xgbr__min_split_loss': 41577, 'model_xgbr__max_depth': 59, 'model_xgbr__min_child_weight': 2, 'model_xgbr__subsample': 0.7280997887516758, 'model_xgbr__colsample_bytree': 0.7545789893478074, 'model_xgbr__reg_lambda': 88, 'model_xgbr__reg_alpha': 90, 'model_xgbr__n_estimators': 289, 'model_xgbr__max_leaves': 94}. Best is trial 41 with value: -608189196.5995364.\n",
      "[I 2023-12-10 08:20:02,439] Trial 50 finished with value: -616458604.4540892 and parameters: {'model_xgbr__learning_rate': 0.3489267523676928, 'model_xgbr__min_split_loss': 877, 'model_xgbr__max_depth': 57, 'model_xgbr__min_child_weight': 2, 'model_xgbr__subsample': 0.7189075166934639, 'model_xgbr__colsample_bytree': 0.7107823063767029, 'model_xgbr__reg_lambda': 79, 'model_xgbr__reg_alpha': 84, 'model_xgbr__n_estimators': 255, 'model_xgbr__max_leaves': 92}. Best is trial 41 with value: -608189196.5995364.\n",
      "[I 2023-12-10 08:20:10,827] Trial 51 finished with value: -613346835.4153731 and parameters: {'model_xgbr__learning_rate': 0.3501540410212252, 'model_xgbr__min_split_loss': 3067, 'model_xgbr__max_depth': 58, 'model_xgbr__min_child_weight': 2, 'model_xgbr__subsample': 0.7164424754628732, 'model_xgbr__colsample_bytree': 0.7267259725383179, 'model_xgbr__reg_lambda': 79, 'model_xgbr__reg_alpha': 82, 'model_xgbr__n_estimators': 275, 'model_xgbr__max_leaves': 91}. Best is trial 41 with value: -608189196.5995364.\n",
      "[I 2023-12-10 08:20:14,456] Trial 52 finished with value: -637690788.4669617 and parameters: {'model_xgbr__learning_rate': 0.3245493339287787, 'model_xgbr__min_split_loss': 43656, 'model_xgbr__max_depth': 42, 'model_xgbr__min_child_weight': 3, 'model_xgbr__subsample': 0.6931513901073377, 'model_xgbr__colsample_bytree': 0.7550922294305941, 'model_xgbr__reg_lambda': 110, 'model_xgbr__reg_alpha': 100, 'model_xgbr__n_estimators': 279, 'model_xgbr__max_leaves': 95}. Best is trial 41 with value: -608189196.5995364.\n",
      "[I 2023-12-10 08:20:16,869] Trial 53 finished with value: -624854571.9809469 and parameters: {'model_xgbr__learning_rate': 0.35005168594244607, 'model_xgbr__min_split_loss': 29704, 'model_xgbr__max_depth': 68, 'model_xgbr__min_child_weight': 2, 'model_xgbr__subsample': 0.7818207057051849, 'model_xgbr__colsample_bytree': 0.6899001318366434, 'model_xgbr__reg_lambda': 60, 'model_xgbr__reg_alpha': 82, 'model_xgbr__n_estimators': 95, 'model_xgbr__max_leaves': 78}. Best is trial 41 with value: -608189196.5995364.\n",
      "[I 2023-12-10 08:20:28,859] Trial 54 finished with value: -676380567.2126557 and parameters: {'model_xgbr__learning_rate': 0.37870444987951357, 'model_xgbr__min_split_loss': 215308, 'model_xgbr__max_depth': 52, 'model_xgbr__min_child_weight': 4, 'model_xgbr__subsample': 0.6693467947996685, 'model_xgbr__colsample_bytree': 0.7703612594096503, 'model_xgbr__reg_lambda': 92, 'model_xgbr__reg_alpha': 91, 'model_xgbr__n_estimators': 1754, 'model_xgbr__max_leaves': 90}. Best is trial 41 with value: -608189196.5995364.\n",
      "[I 2023-12-10 08:20:52,173] Trial 55 finished with value: -636961271.0975711 and parameters: {'model_xgbr__learning_rate': 0.2850213657061624, 'model_xgbr__min_split_loss': 186, 'model_xgbr__max_depth': 77, 'model_xgbr__min_child_weight': 5, 'model_xgbr__subsample': 0.6351658804511525, 'model_xgbr__colsample_bytree': 0.7420045956550653, 'model_xgbr__reg_lambda': 81, 'model_xgbr__reg_alpha': 96, 'model_xgbr__n_estimators': 456, 'model_xgbr__max_leaves': 70}. Best is trial 41 with value: -608189196.5995364.\n",
      "[I 2023-12-10 08:20:57,412] Trial 56 finished with value: -625604896.4661772 and parameters: {'model_xgbr__learning_rate': 0.31478629019844606, 'model_xgbr__min_split_loss': 50885, 'model_xgbr__max_depth': 48, 'model_xgbr__min_child_weight': 3, 'model_xgbr__subsample': 0.7591384032795393, 'model_xgbr__colsample_bytree': 0.7906567065391681, 'model_xgbr__reg_lambda': 105, 'model_xgbr__reg_alpha': 88, 'model_xgbr__n_estimators': 309, 'model_xgbr__max_leaves': 96}. Best is trial 41 with value: -608189196.5995364.\n",
      "[I 2023-12-10 08:21:06,785] Trial 57 finished with value: -626250382.7075984 and parameters: {'model_xgbr__learning_rate': 0.36366302647571125, 'model_xgbr__min_split_loss': 11433, 'model_xgbr__max_depth': 58, 'model_xgbr__min_child_weight': 1, 'model_xgbr__subsample': 0.728624334452571, 'model_xgbr__colsample_bytree': 0.7652045038857864, 'model_xgbr__reg_lambda': 70, 'model_xgbr__reg_alpha': 80, 'model_xgbr__n_estimators': 493, 'model_xgbr__max_leaves': 81}. Best is trial 41 with value: -608189196.5995364.\n",
      "[I 2023-12-10 08:21:07,594] Trial 58 finished with value: -819701373.5745156 and parameters: {'model_xgbr__learning_rate': 0.3889207406869145, 'model_xgbr__min_split_loss': 31384, 'model_xgbr__max_depth': 71, 'model_xgbr__min_child_weight': 18, 'model_xgbr__subsample': 0.7088359812643484, 'model_xgbr__colsample_bytree': 0.8069209334665852, 'model_xgbr__reg_lambda': 41, 'model_xgbr__reg_alpha': 97, 'model_xgbr__n_estimators': 34, 'model_xgbr__max_leaves': 88}. Best is trial 41 with value: -608189196.5995364.\n",
      "[I 2023-12-10 08:21:10,679] Trial 59 finished with value: -644169705.0249698 and parameters: {'model_xgbr__learning_rate': 0.33952548523823467, 'model_xgbr__min_split_loss': 39585, 'model_xgbr__max_depth': 66, 'model_xgbr__min_child_weight': 4, 'model_xgbr__subsample': 0.7330302473853849, 'model_xgbr__colsample_bytree': 0.892824392245283, 'model_xgbr__reg_lambda': 64, 'model_xgbr__reg_alpha': 63, 'model_xgbr__n_estimators': 189, 'model_xgbr__max_leaves': 73}. Best is trial 41 with value: -608189196.5995364.\n",
      "[I 2023-12-10 08:21:14,191] Trial 60 finished with value: -688370080.3609171 and parameters: {'model_xgbr__learning_rate': 0.2979842361509046, 'model_xgbr__min_split_loss': 24183, 'model_xgbr__max_depth': 61, 'model_xgbr__min_child_weight': 14, 'model_xgbr__subsample': 0.6812489989325977, 'model_xgbr__colsample_bytree': 0.8457911275858523, 'model_xgbr__reg_lambda': 79, 'model_xgbr__reg_alpha': 79, 'model_xgbr__n_estimators': 378, 'model_xgbr__max_leaves': 96}. Best is trial 41 with value: -608189196.5995364.\n",
      "[I 2023-12-10 08:21:17,936] Trial 61 finished with value: -615796172.3835622 and parameters: {'model_xgbr__learning_rate': 0.3592105293309413, 'model_xgbr__min_split_loss': 3584, 'model_xgbr__max_depth': 55, 'model_xgbr__min_child_weight': 2, 'model_xgbr__subsample': 0.7117516061154179, 'model_xgbr__colsample_bytree': 0.7137173456970088, 'model_xgbr__reg_lambda': 81, 'model_xgbr__reg_alpha': 84, 'model_xgbr__n_estimators': 280, 'model_xgbr__max_leaves': 92}. Best is trial 41 with value: -608189196.5995364.\n",
      "[I 2023-12-10 08:21:26,592] Trial 62 finished with value: -615014989.5842495 and parameters: {'model_xgbr__learning_rate': 0.32021918134283717, 'model_xgbr__min_split_loss': 10224, 'model_xgbr__max_depth': 53, 'model_xgbr__min_child_weight': 2, 'model_xgbr__subsample': 0.7086730660906362, 'model_xgbr__colsample_bytree': 0.7301753756767826, 'model_xgbr__reg_lambda': 84, 'model_xgbr__reg_alpha': 89, 'model_xgbr__n_estimators': 279, 'model_xgbr__max_leaves': 94}. Best is trial 41 with value: -608189196.5995364.\n",
      "[I 2023-12-10 08:21:28,957] Trial 63 finished with value: -650730623.2018023 and parameters: {'model_xgbr__learning_rate': 0.31671604950285176, 'model_xgbr__min_split_loss': 14797, 'model_xgbr__max_depth': 42, 'model_xgbr__min_child_weight': 3, 'model_xgbr__subsample': 0.7572569754449306, 'model_xgbr__colsample_bytree': 0.7537622954844426, 'model_xgbr__reg_lambda': 113, 'model_xgbr__reg_alpha': 27, 'model_xgbr__n_estimators': 143, 'model_xgbr__max_leaves': 85}. Best is trial 41 with value: -608189196.5995364.\n",
      "[I 2023-12-10 08:22:02,356] Trial 64 finished with value: -646751955.7661293 and parameters: {'model_xgbr__learning_rate': 0.26385180863139596, 'model_xgbr__min_split_loss': 10453, 'model_xgbr__max_depth': 49, 'model_xgbr__min_child_weight': 1, 'model_xgbr__subsample': 0.6964997329512672, 'model_xgbr__colsample_bytree': 0.7232825909888972, 'model_xgbr__reg_lambda': 93, 'model_xgbr__reg_alpha': 89, 'model_xgbr__n_estimators': 1330, 'model_xgbr__max_leaves': 96}. Best is trial 41 with value: -608189196.5995364.\n",
      "[I 2023-12-10 08:22:24,747] Trial 65 finished with value: -639007944.3957422 and parameters: {'model_xgbr__learning_rate': 0.33022156272525177, 'model_xgbr__min_split_loss': 52107, 'model_xgbr__max_depth': 24, 'model_xgbr__min_child_weight': 4, 'model_xgbr__subsample': 0.7320532176783322, 'model_xgbr__colsample_bytree': 0.6704028811048424, 'model_xgbr__reg_lambda': 103, 'model_xgbr__reg_alpha': 93, 'model_xgbr__n_estimators': 646, 'model_xgbr__max_leaves': 88}. Best is trial 41 with value: -608189196.5995364.\n",
      "[I 2023-12-10 08:22:28,336] Trial 66 finished with value: -631510894.9304857 and parameters: {'model_xgbr__learning_rate': 0.3020078071870226, 'model_xgbr__min_split_loss': 32733, 'model_xgbr__max_depth': 71, 'model_xgbr__min_child_weight': 2, 'model_xgbr__subsample': 0.7835014829161263, 'model_xgbr__colsample_bytree': 0.7814896829366006, 'model_xgbr__reg_lambda': 53, 'model_xgbr__reg_alpha': 98, 'model_xgbr__n_estimators': 77, 'model_xgbr__max_leaves': 79}. Best is trial 41 with value: -608189196.5995364.\n",
      "[I 2023-12-10 08:22:33,028] Trial 67 finished with value: -631415569.3836446 and parameters: {'model_xgbr__learning_rate': 0.39308529560444067, 'model_xgbr__min_split_loss': 25393, 'model_xgbr__max_depth': 52, 'model_xgbr__min_child_weight': 3, 'model_xgbr__subsample': 0.7578730709922533, 'model_xgbr__colsample_bytree': 0.7349001630282525, 'model_xgbr__reg_lambda': 85, 'model_xgbr__reg_alpha': 68, 'model_xgbr__n_estimators': 485, 'model_xgbr__max_leaves': 93}. Best is trial 41 with value: -608189196.5995364.\n",
      "[I 2023-12-10 08:22:38,644] Trial 68 finished with value: -650305577.1170038 and parameters: {'model_xgbr__learning_rate': 0.27499748719051054, 'model_xgbr__min_split_loss': 180417, 'model_xgbr__max_depth': 59, 'model_xgbr__min_child_weight': 7, 'model_xgbr__subsample': 0.7430833021851339, 'model_xgbr__colsample_bytree': 0.8057165965530432, 'model_xgbr__reg_lambda': 115, 'model_xgbr__reg_alpha': 82, 'model_xgbr__n_estimators': 783, 'model_xgbr__max_leaves': 82}. Best is trial 41 with value: -608189196.5995364.\n",
      "[I 2023-12-10 08:22:50,215] Trial 69 finished with value: -650549961.8940412 and parameters: {'model_xgbr__learning_rate': 0.24313316825305403, 'model_xgbr__min_split_loss': 67710, 'model_xgbr__max_depth': 81, 'model_xgbr__min_child_weight': 6, 'model_xgbr__subsample': 0.769516084091762, 'model_xgbr__colsample_bytree': 0.7649578972254708, 'model_xgbr__reg_lambda': 97, 'model_xgbr__reg_alpha': 86, 'model_xgbr__n_estimators': 359, 'model_xgbr__max_leaves': 98}. Best is trial 41 with value: -608189196.5995364.\n",
      "[I 2023-12-10 08:22:52,996] Trial 70 finished with value: -690908680.6432449 and parameters: {'model_xgbr__learning_rate': 0.29542823288448156, 'model_xgbr__min_split_loss': 7874, 'model_xgbr__max_depth': 45, 'model_xgbr__min_child_weight': 11, 'model_xgbr__subsample': 0.707545065993607, 'model_xgbr__colsample_bytree': 0.8920953450764212, 'model_xgbr__reg_lambda': 67, 'model_xgbr__reg_alpha': 77, 'model_xgbr__n_estimators': 169, 'model_xgbr__max_leaves': 89}. Best is trial 41 with value: -608189196.5995364.\n",
      "[I 2023-12-10 08:22:57,183] Trial 71 finished with value: -615388621.0237935 and parameters: {'model_xgbr__learning_rate': 0.3499586649351972, 'model_xgbr__min_split_loss': 968, 'model_xgbr__max_depth': 55, 'model_xgbr__min_child_weight': 2, 'model_xgbr__subsample': 0.713942391638843, 'model_xgbr__colsample_bytree': 0.7119226738604191, 'model_xgbr__reg_lambda': 77, 'model_xgbr__reg_alpha': 85, 'model_xgbr__n_estimators': 287, 'model_xgbr__max_leaves': 93}. Best is trial 41 with value: -608189196.5995364.\n",
      "[I 2023-12-10 08:23:01,509] Trial 72 finished with value: -618490113.9402137 and parameters: {'model_xgbr__learning_rate': 0.350731323157404, 'model_xgbr__min_split_loss': 17656, 'model_xgbr__max_depth': 64, 'model_xgbr__min_child_weight': 2, 'model_xgbr__subsample': 0.7319123969408685, 'model_xgbr__colsample_bytree': 0.7343341015018394, 'model_xgbr__reg_lambda': 74, 'model_xgbr__reg_alpha': 90, 'model_xgbr__n_estimators': 234, 'model_xgbr__max_leaves': 94}. Best is trial 41 with value: -608189196.5995364.\n",
      "[I 2023-12-10 08:23:07,684] Trial 73 finished with value: -615773340.9352461 and parameters: {'model_xgbr__learning_rate': 0.37869266383488515, 'model_xgbr__min_split_loss': 41317, 'model_xgbr__max_depth': 55, 'model_xgbr__min_child_weight': 1, 'model_xgbr__subsample': 0.6884739064516826, 'model_xgbr__colsample_bytree': 0.8510579436065865, 'model_xgbr__reg_lambda': 85, 'model_xgbr__reg_alpha': 93, 'model_xgbr__n_estimators': 288, 'model_xgbr__max_leaves': 97}. Best is trial 41 with value: -608189196.5995364.\n",
      "[I 2023-12-10 08:23:13,092] Trial 74 finished with value: -622980382.7214872 and parameters: {'model_xgbr__learning_rate': 0.3251495274673885, 'model_xgbr__min_split_loss': 299, 'model_xgbr__max_depth': 52, 'model_xgbr__min_child_weight': 3, 'model_xgbr__subsample': 0.7194842084424394, 'model_xgbr__colsample_bytree': 0.6952926368159866, 'model_xgbr__reg_lambda': 75, 'model_xgbr__reg_alpha': 85, 'model_xgbr__n_estimators': 361, 'model_xgbr__max_leaves': 84}. Best is trial 41 with value: -608189196.5995364.\n",
      "[I 2023-12-10 08:23:14,632] Trial 75 finished with value: -1146547347.8504615 and parameters: {'model_xgbr__learning_rate': 0.3618818837263734, 'model_xgbr__min_split_loss': 26983, 'model_xgbr__max_depth': 37, 'model_xgbr__min_child_weight': 4, 'model_xgbr__subsample': 0.7027517218985516, 'model_xgbr__colsample_bytree': 0.7547181794672158, 'model_xgbr__reg_lambda': 89, 'model_xgbr__reg_alpha': 94, 'model_xgbr__n_estimators': 8, 'model_xgbr__max_leaves': 92}. Best is trial 41 with value: -608189196.5995364.\n",
      "[I 2023-12-10 08:23:29,808] Trial 76 finished with value: -615607342.0997703 and parameters: {'model_xgbr__learning_rate': 0.30031034638296106, 'model_xgbr__min_split_loss': 18605, 'model_xgbr__max_depth': 74, 'model_xgbr__min_child_weight': 2, 'model_xgbr__subsample': 0.786024876209934, 'model_xgbr__colsample_bytree': 0.6662828153819156, 'model_xgbr__reg_lambda': 54, 'model_xgbr__reg_alpha': 81, 'model_xgbr__n_estimators': 190, 'model_xgbr__max_leaves': 89}. Best is trial 41 with value: -608189196.5995364.\n",
      "[I 2023-12-10 08:23:49,680] Trial 77 finished with value: -627293390.7037373 and parameters: {'model_xgbr__learning_rate': 0.34082384156039475, 'model_xgbr__min_split_loss': 5625, 'model_xgbr__max_depth': 66, 'model_xgbr__min_child_weight': 1, 'model_xgbr__subsample': 0.7482916764906282, 'model_xgbr__colsample_bytree': 0.818003268759775, 'model_xgbr__reg_lambda': 101, 'model_xgbr__reg_alpha': 98, 'model_xgbr__n_estimators': 475, 'model_xgbr__max_leaves': 100}. Best is trial 41 with value: -608189196.5995364.\n",
      "[I 2023-12-10 08:24:02,875] Trial 78 finished with value: -660491150.4438435 and parameters: {'model_xgbr__learning_rate': 0.3176377166131934, 'model_xgbr__min_split_loss': 10952, 'model_xgbr__max_depth': 39, 'model_xgbr__min_child_weight': 5, 'model_xgbr__subsample': 0.7145228739500509, 'model_xgbr__colsample_bytree': 0.8733299480063496, 'model_xgbr__reg_lambda': 18, 'model_xgbr__reg_alpha': 89, 'model_xgbr__n_estimators': 411, 'model_xgbr__max_leaves': 94}. Best is trial 41 with value: -608189196.5995364.\n",
      "[I 2023-12-10 08:24:24,891] Trial 79 finished with value: -621094414.6177824 and parameters: {'model_xgbr__learning_rate': 0.4041867558617612, 'model_xgbr__min_split_loss': 38002, 'model_xgbr__max_depth': 30, 'model_xgbr__min_child_weight': 2, 'model_xgbr__subsample': 0.6772027832047981, 'model_xgbr__colsample_bytree': 0.7960919520565016, 'model_xgbr__reg_lambda': 93, 'model_xgbr__reg_alpha': 70, 'model_xgbr__n_estimators': 305, 'model_xgbr__max_leaves': 76}. Best is trial 41 with value: -608189196.5995364.\n",
      "[I 2023-12-10 08:24:27,878] Trial 80 finished with value: -627045372.3827826 and parameters: {'model_xgbr__learning_rate': 0.3732123832216644, 'model_xgbr__min_split_loss': 21381, 'model_xgbr__max_depth': 59, 'model_xgbr__min_child_weight': 3, 'model_xgbr__subsample': 0.6538412112305418, 'model_xgbr__colsample_bytree': 0.7741720295586662, 'model_xgbr__reg_lambda': 86, 'model_xgbr__reg_alpha': 78, 'model_xgbr__n_estimators': 230, 'model_xgbr__max_leaves': 86}. Best is trial 41 with value: -608189196.5995364.\n",
      "[I 2023-12-10 08:24:31,910] Trial 81 finished with value: -611865756.5148698 and parameters: {'model_xgbr__learning_rate': 0.29483095455296826, 'model_xgbr__min_split_loss': 17317, 'model_xgbr__max_depth': 76, 'model_xgbr__min_child_weight': 2, 'model_xgbr__subsample': 0.7865698591937704, 'model_xgbr__colsample_bytree': 0.6722770991794084, 'model_xgbr__reg_lambda': 54, 'model_xgbr__reg_alpha': 82, 'model_xgbr__n_estimators': 175, 'model_xgbr__max_leaves': 90}. Best is trial 41 with value: -608189196.5995364.\n",
      "[I 2023-12-10 08:24:34,308] Trial 82 finished with value: -614698105.9541407 and parameters: {'model_xgbr__learning_rate': 0.30841024520593435, 'model_xgbr__min_split_loss': 12993, 'model_xgbr__max_depth': 79, 'model_xgbr__min_child_weight': 1, 'model_xgbr__subsample': 0.7618378912197186, 'model_xgbr__colsample_bytree': 0.7118146851761837, 'model_xgbr__reg_lambda': 45, 'model_xgbr__reg_alpha': 86, 'model_xgbr__n_estimators': 163, 'model_xgbr__max_leaves': 90}. Best is trial 41 with value: -608189196.5995364.\n",
      "[I 2023-12-10 08:24:36,764] Trial 83 finished with value: -614397922.522868 and parameters: {'model_xgbr__learning_rate': 0.2769249598875227, 'model_xgbr__min_split_loss': 28440, 'model_xgbr__max_depth': 78, 'model_xgbr__min_child_weight': 1, 'model_xgbr__subsample': 0.7708392679028584, 'model_xgbr__colsample_bytree': 0.7437614394908584, 'model_xgbr__reg_lambda': 30, 'model_xgbr__reg_alpha': 71, 'model_xgbr__n_estimators': 70, 'model_xgbr__max_leaves': 90}. Best is trial 41 with value: -608189196.5995364.\n",
      "[I 2023-12-10 08:24:40,660] Trial 84 finished with value: -616723367.9257368 and parameters: {'model_xgbr__learning_rate': 0.27577794748434786, 'model_xgbr__min_split_loss': 47581, 'model_xgbr__max_depth': 78, 'model_xgbr__min_child_weight': 1, 'model_xgbr__subsample': 0.7897858050016202, 'model_xgbr__colsample_bytree': 0.700733379898315, 'model_xgbr__reg_lambda': 27, 'model_xgbr__reg_alpha': 75, 'model_xgbr__n_estimators': 100, 'model_xgbr__max_leaves': 84}. Best is trial 41 with value: -608189196.5995364.\n",
      "[I 2023-12-10 08:24:43,212] Trial 85 finished with value: -671249139.9741608 and parameters: {'model_xgbr__learning_rate': 0.3103732916293708, 'model_xgbr__min_split_loss': 28184, 'model_xgbr__max_depth': 83, 'model_xgbr__min_child_weight': 1, 'model_xgbr__subsample': 0.7675365718100148, 'model_xgbr__colsample_bytree': 0.7297041500764796, 'model_xgbr__reg_lambda': 0, 'model_xgbr__reg_alpha': 71, 'model_xgbr__n_estimators': 161, 'model_xgbr__max_leaves': 80}. Best is trial 41 with value: -608189196.5995364.\n",
      "[I 2023-12-10 08:24:49,941] Trial 86 finished with value: -632045282.48964 and parameters: {'model_xgbr__learning_rate': 0.2913088670963616, 'model_xgbr__min_split_loss': 61782, 'model_xgbr__max_depth': 76, 'model_xgbr__min_child_weight': 3, 'model_xgbr__subsample': 0.817929288364528, 'model_xgbr__colsample_bytree': 0.6738038644906877, 'model_xgbr__reg_lambda': 37, 'model_xgbr__reg_alpha': 65, 'model_xgbr__n_estimators': 75, 'model_xgbr__max_leaves': 90}. Best is trial 41 with value: -608189196.5995364.\n",
      "[I 2023-12-10 08:24:56,397] Trial 87 finished with value: -628670870.6381011 and parameters: {'model_xgbr__learning_rate': 0.2382287327755087, 'model_xgbr__min_split_loss': 18076, 'model_xgbr__max_depth': 80, 'model_xgbr__min_child_weight': 2, 'model_xgbr__subsample': 0.7699579365236949, 'model_xgbr__colsample_bytree': 0.659088497943253, 'model_xgbr__reg_lambda': 25, 'model_xgbr__reg_alpha': 87, 'model_xgbr__n_estimators': 63, 'model_xgbr__max_leaves': 98}. Best is trial 41 with value: -608189196.5995364.\n",
      "[I 2023-12-10 08:24:59,590] Trial 88 finished with value: -612408465.1648345 and parameters: {'model_xgbr__learning_rate': 0.27400870620361123, 'model_xgbr__min_split_loss': 33080, 'model_xgbr__max_depth': 87, 'model_xgbr__min_child_weight': 1, 'model_xgbr__subsample': 0.7929622631404152, 'model_xgbr__colsample_bytree': 0.7485173440903609, 'model_xgbr__reg_lambda': 30, 'model_xgbr__reg_alpha': 82, 'model_xgbr__n_estimators': 130, 'model_xgbr__max_leaves': 53}. Best is trial 41 with value: -608189196.5995364.\n",
      "[I 2023-12-10 08:25:01,077] Trial 89 finished with value: -615579937.2934105 and parameters: {'model_xgbr__learning_rate': 0.27706375072967254, 'model_xgbr__min_split_loss': 34781, 'model_xgbr__max_depth': 88, 'model_xgbr__min_child_weight': 1, 'model_xgbr__subsample': 0.7931967607886318, 'model_xgbr__colsample_bytree': 0.7401892503633916, 'model_xgbr__reg_lambda': 44, 'model_xgbr__reg_alpha': 82, 'model_xgbr__n_estimators': 125, 'model_xgbr__max_leaves': 47}. Best is trial 41 with value: -608189196.5995364.\n",
      "[I 2023-12-10 08:25:01,847] Trial 90 finished with value: -1026696474.5141237 and parameters: {'model_xgbr__learning_rate': 0.27403121088991483, 'model_xgbr__min_split_loss': 56283, 'model_xgbr__max_depth': 96, 'model_xgbr__min_child_weight': 4, 'model_xgbr__subsample': 0.8360315524338501, 'model_xgbr__colsample_bytree': 0.7466240899441197, 'model_xgbr__reg_lambda': 31, 'model_xgbr__reg_alpha': 79, 'model_xgbr__n_estimators': 8, 'model_xgbr__max_leaves': 50}. Best is trial 41 with value: -608189196.5995364.\n",
      "[I 2023-12-10 08:25:05,738] Trial 91 finished with value: -617486111.1976641 and parameters: {'model_xgbr__learning_rate': 0.300220216900471, 'model_xgbr__min_split_loss': 15426, 'model_xgbr__max_depth': 84, 'model_xgbr__min_child_weight': 2, 'model_xgbr__subsample': 0.7794288565206084, 'model_xgbr__colsample_bytree': 0.720355509182617, 'model_xgbr__reg_lambda': 45, 'model_xgbr__reg_alpha': 83, 'model_xgbr__n_estimators': 198, 'model_xgbr__max_leaves': 52}. Best is trial 41 with value: -608189196.5995364.\n",
      "[I 2023-12-10 08:25:08,699] Trial 92 finished with value: -630550004.8095806 and parameters: {'model_xgbr__learning_rate': 0.3150622236301862, 'model_xgbr__min_split_loss': 24008, 'model_xgbr__max_depth': 69, 'model_xgbr__min_child_weight': 1, 'model_xgbr__subsample': 0.7544562701767493, 'model_xgbr__colsample_bytree': 0.6838031073729943, 'model_xgbr__reg_lambda': 33, 'model_xgbr__reg_alpha': 72, 'model_xgbr__n_estimators': 337, 'model_xgbr__max_leaves': 27}. Best is trial 41 with value: -608189196.5995364.\n",
      "[I 2023-12-10 08:25:13,010] Trial 93 finished with value: -631024745.9135056 and parameters: {'model_xgbr__learning_rate': 0.28665024901342145, 'model_xgbr__min_split_loss': 7753, 'model_xgbr__max_depth': 87, 'model_xgbr__min_child_weight': 2, 'model_xgbr__subsample': 0.8047887618602542, 'model_xgbr__colsample_bytree': 0.703462991430583, 'model_xgbr__reg_lambda': 10, 'model_xgbr__reg_alpha': 90, 'model_xgbr__n_estimators': 257, 'model_xgbr__max_leaves': 54}. Best is trial 41 with value: -608189196.5995364.\n",
      "[I 2023-12-10 08:25:15,776] Trial 94 finished with value: -633018722.6795683 and parameters: {'model_xgbr__learning_rate': 0.32848290596322416, 'model_xgbr__min_split_loss': 30377, 'model_xgbr__max_depth': 73, 'model_xgbr__min_child_weight': 1, 'model_xgbr__subsample': 0.7380266206569702, 'model_xgbr__colsample_bytree': 0.7611717054427699, 'model_xgbr__reg_lambda': 13, 'model_xgbr__reg_alpha': 87, 'model_xgbr__n_estimators': 150, 'model_xgbr__max_leaves': 87}. Best is trial 41 with value: -608189196.5995364.\n",
      "[I 2023-12-10 08:25:17,328] Trial 95 finished with value: -657448861.6137615 and parameters: {'model_xgbr__learning_rate': 0.26286007444168136, 'model_xgbr__min_split_loss': 13361, 'model_xgbr__max_depth': 80, 'model_xgbr__min_child_weight': 3, 'model_xgbr__subsample': 0.7527644466798796, 'model_xgbr__colsample_bytree': 0.7224995598184868, 'model_xgbr__reg_lambda': 58, 'model_xgbr__reg_alpha': 76, 'model_xgbr__n_estimators': 76, 'model_xgbr__max_leaves': 60}. Best is trial 41 with value: -608189196.5995364.\n",
      "[I 2023-12-10 08:25:33,215] Trial 96 finished with value: -656083560.5855128 and parameters: {'model_xgbr__learning_rate': 0.30655238392132045, 'model_xgbr__min_split_loss': 42816, 'model_xgbr__max_depth': 90, 'model_xgbr__min_child_weight': 2, 'model_xgbr__subsample': 0.7765259719390883, 'model_xgbr__colsample_bytree': 0.7356937029764067, 'model_xgbr__reg_lambda': 39, 'model_xgbr__reg_alpha': 92, 'model_xgbr__n_estimators': 938, 'model_xgbr__max_leaves': 95}. Best is trial 41 with value: -608189196.5995364.\n",
      "[I 2023-12-10 08:25:50,478] Trial 97 finished with value: -664979564.079428 and parameters: {'model_xgbr__learning_rate': 0.3379173502693656, 'model_xgbr__min_split_loss': 22469, 'model_xgbr__max_depth': 83, 'model_xgbr__min_child_weight': 1, 'model_xgbr__subsample': 0.7926922638965649, 'model_xgbr__colsample_bytree': 0.7669086939159088, 'model_xgbr__reg_lambda': 23, 'model_xgbr__reg_alpha': 80, 'model_xgbr__n_estimators': 1173, 'model_xgbr__max_leaves': 45}. Best is trial 41 with value: -608189196.5995364.\n",
      "[I 2023-12-10 08:25:55,868] Trial 98 finished with value: -692969791.0901979 and parameters: {'model_xgbr__learning_rate': 0.32146095760911486, 'model_xgbr__min_split_loss': 36026, 'model_xgbr__max_depth': 70, 'model_xgbr__min_child_weight': 16, 'model_xgbr__subsample': 0.8158984650673041, 'model_xgbr__colsample_bytree': 0.7444306186445866, 'model_xgbr__reg_lambda': 65, 'model_xgbr__reg_alpha': 88, 'model_xgbr__n_estimators': 390, 'model_xgbr__max_leaves': 70}. Best is trial 41 with value: -608189196.5995364.\n",
      "[I 2023-12-10 08:25:58,243] Trial 99 finished with value: -631197196.3301935 and parameters: {'model_xgbr__learning_rate': 0.29101433464758447, 'model_xgbr__min_split_loss': 6048, 'model_xgbr__max_depth': 5, 'model_xgbr__min_child_weight': 3, 'model_xgbr__subsample': 0.7644054157146831, 'model_xgbr__colsample_bytree': 0.8847924283377165, 'model_xgbr__reg_lambda': 48, 'model_xgbr__reg_alpha': 54, 'model_xgbr__n_estimators': 194, 'model_xgbr__max_leaves': 83}. Best is trial 41 with value: -608189196.5995364.\n"
     ]
    }
   ],
   "source": [
    "study = optuna.create_study(direction='maximize') #maximize\n",
    "study.optimize(hyper_opt, n_trials=100)"
   ]
  },
  {
   "cell_type": "code",
   "execution_count": 19,
   "metadata": {},
   "outputs": [
    {
     "name": "stdout",
     "output_type": "stream",
     "text": [
      "{'model_xgbr__learning_rate': 0.32208361712277717, 'model_xgbr__min_split_loss': 15127, 'model_xgbr__max_depth': 60, 'model_xgbr__min_child_weight': 2, 'model_xgbr__subsample': 0.7407328795660003, 'model_xgbr__colsample_bytree': 0.8812728313218443, 'model_xgbr__reg_lambda': 90, 'model_xgbr__reg_alpha': 92, 'model_xgbr__n_estimators': 279, 'model_xgbr__max_leaves': 90}\n"
     ]
    },
    {
     "name": "stderr",
     "output_type": "stream",
     "text": [
      "/tmp/ipykernel_190832/1373939319.py:3: ExperimentalWarning: plot_param_importances is experimental (supported from v2.2.0). The interface can change in the future.\n",
      "  plot_param_importances(study);\n"
     ]
    },
    {
     "data": {
      "text/plain": [
       "-608189196.5995364"
      ]
     },
     "execution_count": 19,
     "metadata": {},
     "output_type": "execute_result"
    },
    {
     "data": {
      "image/png": "[encoded data removed]",
      "text/plain": [
       "<Figure size 640x480 with 1 Axes>"
      ]
     },
     "metadata": {},
     "output_type": "display_data"
    }
   ],
   "source": [
    "print(study.best_params)\n",
    "\n",
    "plot_param_importances(study);\n",
    "study.best_value"
   ]
  },
  {
   "cell_type": "code",
   "execution_count": 20,
   "metadata": {},
   "outputs": [
    {
     "data": {
      "text/plain": [
       "array([6.71769478])"
      ]
     },
     "execution_count": 20,
     "metadata": {},
     "output_type": "execute_result"
    }
   ],
   "source": [
    "pipe_xgbr.set_params(**study.best_params)\n",
    "pipe_xgbr.fit(X_train, y_train)\n",
    "pd.DataFrame(pipe_xgbr.predict(X_train)).describe()\n",
    "mean_squared_error(y_train, pipe_xgbr.predict(X_train))/y_train.shape\n",
    "mean_absolute_error(y_train, pipe_xgbr.predict(X_train))/y_train.shape"
   ]
  },
  {
   "cell_type": "markdown",
   "metadata": {},
   "source": [
    "## Mlflow model save"
   ]
  },
  {
   "cell_type": "code",
   "execution_count": 21,
   "metadata": {},
   "outputs": [
    {
     "data": {
      "text/plain": [
       "<Experiment: artifact_location='file:///home/pmu/zet/obs-h/Skills/Data%20Science/Data%20Scientist%20Full-Stack/exercises/practice/mlruns/555592421686817878', creation_time=1701359199067, experiment_id='555592421686817878', last_update_time=1701359199067, lifecycle_stage='active', name='XGBR 4', tags={}>"
      ]
     },
     "execution_count": 21,
     "metadata": {},
     "output_type": "execute_result"
    }
   ],
   "source": [
    "# start server \n",
    "# mlflow server --host 127.0.0.1 --port 8080\n",
    "\n",
    "\n",
    "# Set our tracking server uri for logging\n",
    "# mlflow.set_tracking_uri(uri=\"http://127.0.0.1:5000\")\n",
    "\n",
    "# Create a new MLflow Experiment\n",
    "mlflow.set_experiment(\"XGBR 4\")"
   ]
  },
  {
   "cell_type": "code",
   "execution_count": 22,
   "metadata": {
    "scrolled": true
   },
   "outputs": [
    {
     "name": "stderr",
     "output_type": "stream",
     "text": [
      "/home/pmu/miniconda3/envs/zhd_transport_price/lib/python3.10/site-packages/seaborn/_oldcore.py:1498: FutureWarning: is_categorical_dtype is deprecated and will be removed in a future version. Use isinstance(dtype, CategoricalDtype) instead\n",
      "  if pd.api.types.is_categorical_dtype(vector):\n"
     ]
    },
    {
     "ename": "AttributeError",
     "evalue": "'bool' object has no attribute 'all'",
     "output_type": "error",
     "traceback": [
      "\u001b[0;31m---------------------------------------------------------------------------\u001b[0m",
      "\u001b[0;31mAttributeError\u001b[0m                            Traceback (most recent call last)",
      "Cell \u001b[0;32mIn[22], line 2\u001b[0m\n\u001b[1;32m      1\u001b[0m hyperparams \u001b[38;5;241m=\u001b[39m optuna\u001b[38;5;241m.\u001b[39mimportance\u001b[38;5;241m.\u001b[39mget_param_importances(study)\n\u001b[0;32m----> 2\u001b[0m \u001b[43msns\u001b[49m\u001b[38;5;241;43m.\u001b[39;49m\u001b[43mbarplot\u001b[49m\u001b[43m(\u001b[49m\u001b[43my\u001b[49m\u001b[38;5;241;43m=\u001b[39;49m\u001b[43mhyperparams\u001b[49m\u001b[38;5;241;43m.\u001b[39;49m\u001b[43mkeys\u001b[49m\u001b[43m(\u001b[49m\u001b[43m)\u001b[49m\u001b[43m,\u001b[49m\u001b[43m \u001b[49m\u001b[43mx\u001b[49m\u001b[38;5;241;43m=\u001b[39;49m\u001b[43mhyperparams\u001b[49m\u001b[38;5;241;43m.\u001b[39;49m\u001b[43mvalues\u001b[49m\u001b[43m(\u001b[49m\u001b[43m)\u001b[49m\u001b[43m)\u001b[49m\n\u001b[1;32m      3\u001b[0m plt\u001b[38;5;241m.\u001b[39msavefig(\u001b[38;5;124m'\u001b[39m\u001b[38;5;124mhyperparams_2.png\u001b[39m\u001b[38;5;124m'\u001b[39m)\n",
      "File \u001b[0;32m~/miniconda3/envs/zhd_transport_price/lib/python3.10/site-packages/seaborn/categorical.py:2755\u001b[0m, in \u001b[0;36mbarplot\u001b[0;34m(data, x, y, hue, order, hue_order, estimator, errorbar, n_boot, units, seed, orient, color, palette, saturation, width, errcolor, errwidth, capsize, dodge, ci, ax, **kwargs)\u001b[0m\n\u001b[1;32m   2752\u001b[0m \u001b[38;5;28;01mif\u001b[39;00m estimator \u001b[38;5;129;01mis\u001b[39;00m \u001b[38;5;28mlen\u001b[39m:\n\u001b[1;32m   2753\u001b[0m     estimator \u001b[38;5;241m=\u001b[39m \u001b[38;5;124m\"\u001b[39m\u001b[38;5;124msize\u001b[39m\u001b[38;5;124m\"\u001b[39m\n\u001b[0;32m-> 2755\u001b[0m plotter \u001b[38;5;241m=\u001b[39m \u001b[43m_BarPlotter\u001b[49m\u001b[43m(\u001b[49m\u001b[43mx\u001b[49m\u001b[43m,\u001b[49m\u001b[43m \u001b[49m\u001b[43my\u001b[49m\u001b[43m,\u001b[49m\u001b[43m \u001b[49m\u001b[43mhue\u001b[49m\u001b[43m,\u001b[49m\u001b[43m \u001b[49m\u001b[43mdata\u001b[49m\u001b[43m,\u001b[49m\u001b[43m \u001b[49m\u001b[43morder\u001b[49m\u001b[43m,\u001b[49m\u001b[43m \u001b[49m\u001b[43mhue_order\u001b[49m\u001b[43m,\u001b[49m\n\u001b[1;32m   2756\u001b[0m \u001b[43m                      \u001b[49m\u001b[43mestimator\u001b[49m\u001b[43m,\u001b[49m\u001b[43m \u001b[49m\u001b[43merrorbar\u001b[49m\u001b[43m,\u001b[49m\u001b[43m \u001b[49m\u001b[43mn_boot\u001b[49m\u001b[43m,\u001b[49m\u001b[43m \u001b[49m\u001b[43munits\u001b[49m\u001b[43m,\u001b[49m\u001b[43m \u001b[49m\u001b[43mseed\u001b[49m\u001b[43m,\u001b[49m\n\u001b[1;32m   2757\u001b[0m \u001b[43m                      \u001b[49m\u001b[43morient\u001b[49m\u001b[43m,\u001b[49m\u001b[43m \u001b[49m\u001b[43mcolor\u001b[49m\u001b[43m,\u001b[49m\u001b[43m \u001b[49m\u001b[43mpalette\u001b[49m\u001b[43m,\u001b[49m\u001b[43m \u001b[49m\u001b[43msaturation\u001b[49m\u001b[43m,\u001b[49m\n\u001b[1;32m   2758\u001b[0m \u001b[43m                      \u001b[49m\u001b[43mwidth\u001b[49m\u001b[43m,\u001b[49m\u001b[43m \u001b[49m\u001b[43merrcolor\u001b[49m\u001b[43m,\u001b[49m\u001b[43m \u001b[49m\u001b[43merrwidth\u001b[49m\u001b[43m,\u001b[49m\u001b[43m \u001b[49m\u001b[43mcapsize\u001b[49m\u001b[43m,\u001b[49m\u001b[43m \u001b[49m\u001b[43mdodge\u001b[49m\u001b[43m)\u001b[49m\n\u001b[1;32m   2760\u001b[0m \u001b[38;5;28;01mif\u001b[39;00m ax \u001b[38;5;129;01mis\u001b[39;00m \u001b[38;5;28;01mNone\u001b[39;00m:\n\u001b[1;32m   2761\u001b[0m     ax \u001b[38;5;241m=\u001b[39m plt\u001b[38;5;241m.\u001b[39mgca()\n",
      "File \u001b[0;32m~/miniconda3/envs/zhd_transport_price/lib/python3.10/site-packages/seaborn/categorical.py:1530\u001b[0m, in \u001b[0;36m_BarPlotter.__init__\u001b[0;34m(self, x, y, hue, data, order, hue_order, estimator, errorbar, n_boot, units, seed, orient, color, palette, saturation, width, errcolor, errwidth, capsize, dodge)\u001b[0m\n\u001b[1;32m   1525\u001b[0m \u001b[38;5;28;01mdef\u001b[39;00m \u001b[38;5;21m__init__\u001b[39m(\u001b[38;5;28mself\u001b[39m, x, y, hue, data, order, hue_order,\n\u001b[1;32m   1526\u001b[0m              estimator, errorbar, n_boot, units, seed,\n\u001b[1;32m   1527\u001b[0m              orient, color, palette, saturation, width,\n\u001b[1;32m   1528\u001b[0m              errcolor, errwidth, capsize, dodge):\n\u001b[1;32m   1529\u001b[0m \u001b[38;5;250m    \u001b[39m\u001b[38;5;124;03m\"\"\"Initialize the plotter.\"\"\"\u001b[39;00m\n\u001b[0;32m-> 1530\u001b[0m     \u001b[38;5;28;43mself\u001b[39;49m\u001b[38;5;241;43m.\u001b[39;49m\u001b[43mestablish_variables\u001b[49m\u001b[43m(\u001b[49m\u001b[43mx\u001b[49m\u001b[43m,\u001b[49m\u001b[43m \u001b[49m\u001b[43my\u001b[49m\u001b[43m,\u001b[49m\u001b[43m \u001b[49m\u001b[43mhue\u001b[49m\u001b[43m,\u001b[49m\u001b[43m \u001b[49m\u001b[43mdata\u001b[49m\u001b[43m,\u001b[49m\u001b[43m \u001b[49m\u001b[43morient\u001b[49m\u001b[43m,\u001b[49m\n\u001b[1;32m   1531\u001b[0m \u001b[43m                             \u001b[49m\u001b[43morder\u001b[49m\u001b[43m,\u001b[49m\u001b[43m \u001b[49m\u001b[43mhue_order\u001b[49m\u001b[43m,\u001b[49m\u001b[43m \u001b[49m\u001b[43munits\u001b[49m\u001b[43m)\u001b[49m\n\u001b[1;32m   1532\u001b[0m     \u001b[38;5;28mself\u001b[39m\u001b[38;5;241m.\u001b[39mestablish_colors(color, palette, saturation)\n\u001b[1;32m   1533\u001b[0m     \u001b[38;5;28mself\u001b[39m\u001b[38;5;241m.\u001b[39mestimate_statistic(estimator, errorbar, n_boot, seed)\n",
      "File \u001b[0;32m~/miniconda3/envs/zhd_transport_price/lib/python3.10/site-packages/seaborn/categorical.py:544\u001b[0m, in \u001b[0;36m_CategoricalPlotter.establish_variables\u001b[0;34m(self, x, y, hue, data, orient, order, hue_order, units)\u001b[0m\n\u001b[1;32m    541\u001b[0m         \u001b[38;5;28;01mraise\u001b[39;00m \u001b[38;5;167;01mValueError\u001b[39;00m(err)\n\u001b[1;32m    543\u001b[0m \u001b[38;5;66;03m# Figure out the plotting orientation\u001b[39;00m\n\u001b[0;32m--> 544\u001b[0m orient \u001b[38;5;241m=\u001b[39m \u001b[43minfer_orient\u001b[49m\u001b[43m(\u001b[49m\n\u001b[1;32m    545\u001b[0m \u001b[43m    \u001b[49m\u001b[43mx\u001b[49m\u001b[43m,\u001b[49m\u001b[43m \u001b[49m\u001b[43my\u001b[49m\u001b[43m,\u001b[49m\u001b[43m \u001b[49m\u001b[43morient\u001b[49m\u001b[43m,\u001b[49m\u001b[43m \u001b[49m\u001b[43mrequire_numeric\u001b[49m\u001b[38;5;241;43m=\u001b[39;49m\u001b[38;5;28;43mself\u001b[39;49m\u001b[38;5;241;43m.\u001b[39;49m\u001b[43mrequire_numeric\u001b[49m\n\u001b[1;32m    546\u001b[0m \u001b[43m\u001b[49m\u001b[43m)\u001b[49m\n\u001b[1;32m    548\u001b[0m \u001b[38;5;66;03m# Option 2a:\u001b[39;00m\n\u001b[1;32m    549\u001b[0m \u001b[38;5;66;03m# We are plotting a single set of data\u001b[39;00m\n\u001b[1;32m    550\u001b[0m \u001b[38;5;66;03m# ------------------------------------\u001b[39;00m\n\u001b[1;32m    551\u001b[0m \u001b[38;5;28;01mif\u001b[39;00m x \u001b[38;5;129;01mis\u001b[39;00m \u001b[38;5;28;01mNone\u001b[39;00m \u001b[38;5;129;01mor\u001b[39;00m y \u001b[38;5;129;01mis\u001b[39;00m \u001b[38;5;28;01mNone\u001b[39;00m:\n\u001b[1;32m    552\u001b[0m \n\u001b[1;32m    553\u001b[0m     \u001b[38;5;66;03m# Determine where the data are\u001b[39;00m\n",
      "File \u001b[0;32m~/miniconda3/envs/zhd_transport_price/lib/python3.10/site-packages/seaborn/_oldcore.py:1584\u001b[0m, in \u001b[0;36minfer_orient\u001b[0;34m(x, y, orient, require_numeric)\u001b[0m\n\u001b[1;32m   1556\u001b[0m \u001b[38;5;28;01mdef\u001b[39;00m \u001b[38;5;21minfer_orient\u001b[39m(x\u001b[38;5;241m=\u001b[39m\u001b[38;5;28;01mNone\u001b[39;00m, y\u001b[38;5;241m=\u001b[39m\u001b[38;5;28;01mNone\u001b[39;00m, orient\u001b[38;5;241m=\u001b[39m\u001b[38;5;28;01mNone\u001b[39;00m, require_numeric\u001b[38;5;241m=\u001b[39m\u001b[38;5;28;01mTrue\u001b[39;00m):\n\u001b[1;32m   1557\u001b[0m \u001b[38;5;250m    \u001b[39m\u001b[38;5;124;03m\"\"\"Determine how the plot should be oriented based on the data.\u001b[39;00m\n\u001b[1;32m   1558\u001b[0m \n\u001b[1;32m   1559\u001b[0m \u001b[38;5;124;03m    For historical reasons, the convention is to call a plot \"horizontally\"\u001b[39;00m\n\u001b[0;32m   (...)\u001b[0m\n\u001b[1;32m   1581\u001b[0m \n\u001b[1;32m   1582\u001b[0m \u001b[38;5;124;03m    \"\"\"\u001b[39;00m\n\u001b[0;32m-> 1584\u001b[0m     x_type \u001b[38;5;241m=\u001b[39m \u001b[38;5;28;01mNone\u001b[39;00m \u001b[38;5;28;01mif\u001b[39;00m x \u001b[38;5;129;01mis\u001b[39;00m \u001b[38;5;28;01mNone\u001b[39;00m \u001b[38;5;28;01melse\u001b[39;00m \u001b[43mvariable_type\u001b[49m\u001b[43m(\u001b[49m\u001b[43mx\u001b[49m\u001b[43m)\u001b[49m\n\u001b[1;32m   1585\u001b[0m     y_type \u001b[38;5;241m=\u001b[39m \u001b[38;5;28;01mNone\u001b[39;00m \u001b[38;5;28;01mif\u001b[39;00m y \u001b[38;5;129;01mis\u001b[39;00m \u001b[38;5;28;01mNone\u001b[39;00m \u001b[38;5;28;01melse\u001b[39;00m variable_type(y)\n\u001b[1;32m   1587\u001b[0m     nonnumeric_dv_error \u001b[38;5;241m=\u001b[39m \u001b[38;5;124m\"\u001b[39m\u001b[38;5;132;01m{}\u001b[39;00m\u001b[38;5;124m orientation requires numeric `\u001b[39m\u001b[38;5;132;01m{}\u001b[39;00m\u001b[38;5;124m` variable.\u001b[39m\u001b[38;5;124m\"\u001b[39m\n",
      "File \u001b[0;32m~/miniconda3/envs/zhd_transport_price/lib/python3.10/site-packages/seaborn/_oldcore.py:1502\u001b[0m, in \u001b[0;36mvariable_type\u001b[0;34m(vector, boolean_type)\u001b[0m\n\u001b[1;32m   1499\u001b[0m     \u001b[38;5;28;01mreturn\u001b[39;00m VariableType(\u001b[38;5;124m\"\u001b[39m\u001b[38;5;124mcategorical\u001b[39m\u001b[38;5;124m\"\u001b[39m)\n\u001b[1;32m   1501\u001b[0m \u001b[38;5;66;03m# Special-case all-na data, which is always \"numeric\"\u001b[39;00m\n\u001b[0;32m-> 1502\u001b[0m \u001b[38;5;28;01mif\u001b[39;00m \u001b[43mpd\u001b[49m\u001b[38;5;241;43m.\u001b[39;49m\u001b[43misna\u001b[49m\u001b[43m(\u001b[49m\u001b[43mvector\u001b[49m\u001b[43m)\u001b[49m\u001b[38;5;241;43m.\u001b[39;49m\u001b[43mall\u001b[49m():\n\u001b[1;32m   1503\u001b[0m     \u001b[38;5;28;01mreturn\u001b[39;00m VariableType(\u001b[38;5;124m\"\u001b[39m\u001b[38;5;124mnumeric\u001b[39m\u001b[38;5;124m\"\u001b[39m)\n\u001b[1;32m   1505\u001b[0m \u001b[38;5;66;03m# Special-case binary/boolean data, allow caller to determine\u001b[39;00m\n\u001b[1;32m   1506\u001b[0m \u001b[38;5;66;03m# This triggers a numpy warning when vector has strings/objects\u001b[39;00m\n\u001b[1;32m   1507\u001b[0m \u001b[38;5;66;03m# https://github.com/numpy/numpy/issues/6784\u001b[39;00m\n\u001b[0;32m   (...)\u001b[0m\n\u001b[1;32m   1511\u001b[0m \u001b[38;5;66;03m# https://github.com/numpy/numpy/issues/13548\u001b[39;00m\n\u001b[1;32m   1512\u001b[0m \u001b[38;5;66;03m# This is considered a bug by numpy and will likely go away.\u001b[39;00m\n",
      "\u001b[0;31mAttributeError\u001b[0m: 'bool' object has no attribute 'all'"
     ]
    }
   ],
   "source": [
    "hyperparams = optuna.importance.get_param_importances(study)\n",
    "sns.barplot(y=hyperparams.keys(), x=hyperparams.values())\n",
    "plt.savefig('hyperparams_2.png')"
   ]
  },
  {
   "cell_type": "code",
   "execution_count": 24,
   "metadata": {},
   "outputs": [],
   "source": [
    "# Start an MLflow run\n",
    "with mlflow.start_run(run_name='best_model'):\n",
    "    # Log the hyperparameters\n",
    "    mlflow.log_params(study.best_params)\n",
    "    pipe_xgbr.set_params(**study.best_params)\n",
    "    pipe_xgbr.fit(X_train, y_train)\n",
    "    predict_test  = pipe_xgbr.predict(X_test)\n",
    "    metrics = {\n",
    "        'mse_cv':study.best_value / len(y_train) * 0.8, # if cv = 5\n",
    "        'mae': mean_absolute_error(y_test, predict_test),\n",
    "        'median_abs_error': abs(y_test - predict_test).median(),\n",
    "        'mean_abs_error': abs(y_test - predict_test).mean(),\n",
    "        'median_error': (abs(y_test - predict_test)/ y_test).median(),\n",
    "        'mean_error': (abs(y_test - predict_test) / y_test).mean()\n",
    "    } \n",
    "    # mlflow.log_artifact('hyperparams_2.png') \n",
    "    mlflow.log_metrics(metrics)\n",
    "    mlflow.sklearn.log_model(pipe_xgbr, 'best_model')"
   ]
  },
  {
   "cell_type": "markdown",
   "metadata": {},
   "source": [
    "## Model analysis"
   ]
  },
  {
   "cell_type": "code",
   "execution_count": null,
   "metadata": {},
   "outputs": [
    {
     "name": "stdout",
     "output_type": "stream",
     "text": [
      "RMSE = [74.94446954]\n",
      "MAE = [36.13070517]\n"
     ]
    }
   ],
   "source": [
    "print(f'RMSE = {mean_squared_error(y_test, pipe_xgbr.predict(X_test), squared=False) / y_test.shape}')\n",
    "print(f'MAE = {mean_absolute_error(y_test, pipe_xgbr.predict(X_test)) / y_test.shape}')"
   ]
  },
  {
   "cell_type": "code",
   "execution_count": 25,
   "metadata": {},
   "outputs": [
    {
     "name": "stdout",
     "output_type": "stream",
     "text": [
      "0.13315609686403715 0.013479305453139731\n"
     ]
    },
    {
     "data": {
      "text/plain": [
       "<Axes: >"
      ]
     },
     "execution_count": 25,
     "metadata": {},
     "output_type": "execute_result"
    },
    {
     "data": {
      "image/png": "[encoded data removed]",
      "text/plain": [
       "<Figure size 640x480 with 1 Axes>"
      ]
     },
     "metadata": {},
     "output_type": "display_data"
    }
   ],
   "source": [
    "error_abs = (abs(pipe_xgbr.predict(X_test) - y_test)) / y_test\n",
    "print(error_abs.mean(), error_abs.median())\n",
    "error_abs.hist(bins=100)"
   ]
  },
  {
   "cell_type": "code",
   "execution_count": 26,
   "metadata": {},
   "outputs": [
    {
     "data": {
      "text/html": [
       "<div>\n",
       "<style scoped>\n",
       "    .dataframe tbody tr th:only-of-type {\n",
       "        vertical-align: middle;\n",
       "    }\n",
       "\n",
       "    .dataframe tbody tr th {\n",
       "        vertical-align: top;\n",
       "    }\n",
       "\n",
       "    .dataframe thead th {\n",
       "        text-align: right;\n",
       "    }\n",
       "</style>\n",
       "<table border=\"1\" class=\"dataframe\">\n",
       "  <thead>\n",
       "    <tr style=\"text-align: right;\">\n",
       "      <th></th>\n",
       "      <th>0</th>\n",
       "    </tr>\n",
       "  </thead>\n",
       "  <tbody>\n",
       "    <tr>\n",
       "      <th>count</th>\n",
       "      <td>384.000</td>\n",
       "    </tr>\n",
       "    <tr>\n",
       "      <th>mean</th>\n",
       "      <td>133751.875</td>\n",
       "    </tr>\n",
       "    <tr>\n",
       "      <th>std</th>\n",
       "      <td>60385.809</td>\n",
       "    </tr>\n",
       "    <tr>\n",
       "      <th>min</th>\n",
       "      <td>17030.752</td>\n",
       "    </tr>\n",
       "    <tr>\n",
       "      <th>25%</th>\n",
       "      <td>79120.711</td>\n",
       "    </tr>\n",
       "    <tr>\n",
       "      <th>50%</th>\n",
       "      <td>146721.477</td>\n",
       "    </tr>\n",
       "    <tr>\n",
       "      <th>75%</th>\n",
       "      <td>173927.699</td>\n",
       "    </tr>\n",
       "    <tr>\n",
       "      <th>max</th>\n",
       "      <td>294648.156</td>\n",
       "    </tr>\n",
       "  </tbody>\n",
       "</table>\n",
       "</div>"
      ],
      "text/plain": [
       "               0\n",
       "count    384.000\n",
       "mean  133751.875\n",
       "std    60385.809\n",
       "min    17030.752\n",
       "25%    79120.711\n",
       "50%   146721.477\n",
       "75%   173927.699\n",
       "max   294648.156"
      ]
     },
     "execution_count": 26,
     "metadata": {},
     "output_type": "execute_result"
    }
   ],
   "source": [
    "(pd.DataFrame(pipe_xgbr.predict(X_test))).describe()"
   ]
  },
  {
   "cell_type": "code",
   "execution_count": 27,
   "metadata": {},
   "outputs": [
    {
     "data": {
      "text/plain": [
       "array([[<Axes: title={'center': '0'}>]], dtype=object)"
      ]
     },
     "execution_count": 27,
     "metadata": {},
     "output_type": "execute_result"
    },
    {
     "data": {
      "image/png": "[encoded data removed]",
      "text/plain": [
       "<Figure size 640x480 with 1 Axes>"
      ]
     },
     "metadata": {},
     "output_type": "display_data"
    }
   ],
   "source": [
    "(pd.DataFrame(pipe_xgbr.predict(X_test))).hist(bins=200)"
   ]
  },
  {
   "cell_type": "code",
   "execution_count": 28,
   "metadata": {},
   "outputs": [
    {
     "name": "stderr",
     "output_type": "stream",
     "text": [
      "/home/pmu/miniconda3/envs/zhd_transport_price/lib/python3.10/site-packages/seaborn/_oldcore.py:1498: FutureWarning: is_categorical_dtype is deprecated and will be removed in a future version. Use isinstance(dtype, CategoricalDtype) instead\n",
      "  if pd.api.types.is_categorical_dtype(vector):\n",
      "/home/pmu/miniconda3/envs/zhd_transport_price/lib/python3.10/site-packages/seaborn/_oldcore.py:1119: FutureWarning: use_inf_as_na option is deprecated and will be removed in a future version. Convert inf values to NaN before operating instead.\n",
      "  with pd.option_context('mode.use_inf_as_na', True):\n"
     ]
    },
    {
     "data": {
      "image/png": "[encoded data removed]",
      "text/plain": [
       "<Figure size 2000x1000 with 1 Axes>"
      ]
     },
     "metadata": {},
     "output_type": "display_data"
    }
   ],
   "source": [
    "abs_error = abs(y_test - pipe_xgbr.predict(X_test)) / y_test\n",
    "\n",
    "\n",
    "# sns mean + median  mlflow fig \n",
    "\n",
    "plt.figure(figsize=(20, 10))\n",
    "sns.histplot(abs_error, alpha=0.4,  element=\"step\")\n",
    "plt.xticks(np.arange(0, 5, 0.1))\n",
    "plt.axvline(x=abs_error.mean(), color='b', ls='--', lw=1, label='Mean value of abs error')\n",
    "plt.axvline(x=abs_error.median(), color='r', ls=':', lw=1, label='Median value of abs error')\n",
    "plt.xlabel('error')\n",
    "plt.show()"
   ]
  },
  {
   "cell_type": "code",
   "execution_count": 29,
   "metadata": {},
   "outputs": [
    {
     "data": {
      "text/plain": [
       "<Axes: >"
      ]
     },
     "execution_count": 29,
     "metadata": {},
     "output_type": "execute_result"
    },
    {
     "data": {
      "image/png": "[encoded data removed]",
      "text/plain": [
       "<Figure size 640x480 with 1 Axes>"
      ]
     },
     "metadata": {},
     "output_type": "display_data"
    }
   ],
   "source": [
    "sns.boxplot(pd.Series(abs(y_test - pipe_xgbr.predict(X_test))))"
   ]
  },
  {
   "cell_type": "code",
   "execution_count": 30,
   "metadata": {},
   "outputs": [
    {
     "data": {
      "text/plain": [
       "array([177345.38 , 172601.36 ,  35097.586, 148713.48 , 130451.21 ,\n",
       "       188291.2  , 137078.11 , 114962.93 , 229031.9  ,  90563.055,\n",
       "       139137.81 , 229031.9  ,  45782.68 , 182277.25 , 115028.984,\n",
       "       192678.88 , 176334.38 , 177345.38 , 149863.5  , 181360.6  ,\n",
       "        45782.68 , 183147.78 ,  45782.68 ,  45782.68 , 144454.48 ,\n",
       "       262804.06 , 190919.89 , 278940.6  ,  45782.68 , 150752.86 ,\n",
       "       163515.56 ,  79120.71 ,  45782.68 , 146894.44 ,  45782.68 ,\n",
       "       183147.78 ,  45782.68 , 150806.77 ,  45782.68 , 229031.9  ,\n",
       "       117578.46 , 190919.89 ,  45782.68 , 150713.72 , 117356.97 ,\n",
       "       114167.39 , 195144.62 , 117356.97 ,  45782.68 ,  45782.68 ,\n",
       "       234104.06 , 150700.64 ,  45782.68 , 251995.1  ,  45782.68 ,\n",
       "       175432.48 , 113505.8  , 115028.984, 234104.06 , 131354.45 ,\n",
       "        45782.68 , 213256.88 ,  45782.68 , 255567.89 ,  45782.68 ,\n",
       "        17030.752, 197975.3  , 233784.06 , 174690.44 , 139330.77 ,\n",
       "        45782.68 , 255282.75 , 190279.9  , 218959.66 , 127563.664,\n",
       "       200288.58 , 117356.97 , 146427.47 , 158428.95 ,  45782.68 ,\n",
       "       152131.1  , 155003.52 , 108306.64 , 163014.44 ,  90563.055,\n",
       "       100918.92 , 148329.08 , 166048.2  ,  32067.275,  45782.68 ,\n",
       "       101320.266,  45782.68 , 180235.27 , 149863.5  , 155003.52 ,\n",
       "       101320.266, 258586.78 , 148655.45 , 141416.33 , 251430.97 ,\n",
       "       192567.77 , 172485.95 , 191060.8  , 163821.83 ,  45782.68 ,\n",
       "       137348.33 , 192598.25 , 218959.66 ,  45782.68 , 173673.45 ,\n",
       "       180881.7  ,  73916.625, 101696.41 , 165732.45 , 165422.98 ,\n",
       "        45782.68 , 141584.08 , 162144.72 ,  45782.68 , 177345.38 ,\n",
       "        91718.07 , 144664.08 , 155003.52 , 116107.16 , 108306.64 ,\n",
       "       115385.8  , 146894.44 ,  53624.297, 218959.66 , 197169.36 ,\n",
       "       117356.97 , 139213.19 , 140404.64 ,  45782.68 , 170505.73 ,\n",
       "        80784.12 , 200096.03 ,  45782.68 , 218959.66 , 161616.22 ,\n",
       "       166048.2  , 163014.44 , 161378.1  , 139081.48 , 193742.27 ,\n",
       "       155003.52 ,  91718.07 , 110257.35 , 114629.555,  45782.68 ,\n",
       "       153564.56 ,  51300.63 , 155003.52 , 141416.33 , 169092.03 ,\n",
       "       278940.6  ,  78105.49 , 294648.16 , 141047.67 , 157550.73 ,\n",
       "       164646.34 ,  45782.68 ,  45782.68 , 197014.11 , 265238.8  ,\n",
       "       191841.48 , 169092.03 ,  45782.68 , 197413.86 , 172841.02 ,\n",
       "       155003.52 ,  45782.68 , 128726.21 , 118111.42 , 185692.27 ,\n",
       "        91718.07 , 114629.555, 148760.06 , 169092.03 ,  45782.68 ,\n",
       "        45782.68 ,  45782.68 , 206630.86 , 148360.22 , 129179.5  ,\n",
       "       181757.06 , 138368.67 ,  67622.18 , 162484.72 ,  53624.297,\n",
       "       248087.77 ,  45782.68 , 114629.555, 179712.27 , 110330.91 ,\n",
       "       143796.23 , 177345.38 ,  91718.07 ,  45782.68 , 148737.78 ,\n",
       "        45782.68 , 142565.34 , 101320.266,  45782.68 , 128152.69 ,\n",
       "       129179.5  , 169092.03 , 101320.266,  79120.71 ,  74618.11 ,\n",
       "       157597.12 , 179513.34 ,  45782.68 , 185201.25 ,  45782.68 ,\n",
       "       126188.28 , 188879.9  , 215971.42 , 248087.77 , 173056.52 ,\n",
       "       150185.5  ,  45782.68 ,  45782.68 , 171247.2  ,  45782.68 ,\n",
       "       145692.52 , 158654.38 ,  45782.68 ,  45782.68 , 144768.2  ,\n",
       "       210297.7  ,  45782.68 ,  73916.625, 181972.44 ,  45782.68 ,\n",
       "        45782.68 ,  45782.68 , 101320.266, 189009.31 , 179712.27 ,\n",
       "       163515.56 , 180235.27 , 173076.84 , 150021.52 , 172601.36 ,\n",
       "       153564.56 , 139222.62 , 164973.6  , 177731.69 , 157677.36 ,\n",
       "       179513.34 , 175223.66 , 157550.73 ,  45782.68 ,  45782.68 ,\n",
       "       110330.91 , 117578.46 ,  45782.68 , 150700.64 ,  69575.93 ,\n",
       "        45782.68 , 169092.03 , 114629.555, 138102.27 , 188737.08 ,\n",
       "       145947.34 ,  45782.68 ,  45782.68 , 141518.73 ,  17030.752,\n",
       "       175959.23 ,  45782.68 , 146302.61 , 171247.2  ,  45782.68 ,\n",
       "        90563.055, 126188.28 , 155003.52 ,  45782.68 , 165732.45 ,\n",
       "       182522.53 , 164973.6  ,  79120.71 , 109993.6  , 153963.   ,\n",
       "        45782.68 , 159759.34 , 229031.9  , 114629.555, 114629.555,\n",
       "       179730.33 ,  45782.68 , 152131.1  , 181360.6  ,  32067.275,\n",
       "       161616.22 , 149269.12 , 163014.44 , 159264.89 , 117578.46 ,\n",
       "        45782.68 ,  90563.055, 190255.36 , 185692.27 , 129179.5  ,\n",
       "        53624.297,  55287.31 , 181972.44 , 128726.21 , 192824.95 ,\n",
       "       177071.38 , 157550.73 ,  53624.297,  91516.305, 110330.91 ,\n",
       "       157597.12 , 278940.6  , 166622.34 , 162144.72 , 181360.6  ,\n",
       "        45782.68 , 173076.84 ,  45782.68 , 141047.67 , 148329.08 ,\n",
       "       139222.62 ,  32067.275,  78105.49 , 152131.1  , 191715.52 ,\n",
       "        45782.68 , 183172.75 , 164851.11 , 271451.53 , 170067.5  ,\n",
       "       172841.02 , 210297.7  , 149901.52 ,  53624.297,  45782.68 ,\n",
       "       148372.12 , 177906.2  , 144356.7  , 195144.62 ,  45782.68 ,\n",
       "       145300.66 , 140404.64 , 215971.42 , 236994.19 , 116693.375,\n",
       "       210297.7  , 137078.11 , 157597.12 , 183299.7  , 158428.95 ,\n",
       "        79120.71 , 181972.44 , 139213.19 , 169092.03 ,  35097.586,\n",
       "       172485.95 ,  45782.68 ,  73916.625, 146894.44 , 157513.73 ,\n",
       "       198825.02 ,  78105.49 , 162144.72 , 141518.73 , 148360.22 ,\n",
       "        45782.68 , 163014.44 , 146057.81 , 162294.7  , 117356.97 ,\n",
       "       170503.45 , 185692.27 , 161943.44 , 146548.52 , 145947.34 ,\n",
       "       141518.73 ,  45782.68 , 223542.03 ,  45782.68 ], dtype=float32)"
      ]
     },
     "execution_count": 30,
     "metadata": {},
     "output_type": "execute_result"
    }
   ],
   "source": [
    "pipe_xgbr.predict(X_test)"
   ]
  },
  {
   "cell_type": "markdown",
   "metadata": {},
   "source": [
    "## Importances"
   ]
  },
  {
   "cell_type": "code",
   "execution_count": 31,
   "metadata": {},
   "outputs": [
    {
     "data": {
      "text/plain": [
       "array([0.10933174, 0.04853418, 0.06340028, 0.41332415, 0.16807242,\n",
       "       0.06275285, 0.11122936, 0.02335503], dtype=float32)"
      ]
     },
     "execution_count": 31,
     "metadata": {},
     "output_type": "execute_result"
    }
   ],
   "source": [
    "pipe_xgbr['model_xgbr'].feature_importances_"
   ]
  },
  {
   "cell_type": "code",
   "execution_count": 32,
   "metadata": {},
   "outputs": [
    {
     "data": {
      "text/plain": [
       "array(['num_transformer__distance', 'num_transformer__days',\n",
       "       'cat_transformer__own_container_1',\n",
       "       'cat_transformer__complect_send_1',\n",
       "       'cat_transformer__container_train_1',\n",
       "       'cat_transformer__transportation_type_2',\n",
       "       'cat_transformer__transportation_type_3',\n",
       "       'cat_transformer__transportation_type_4'], dtype=object)"
      ]
     },
     "execution_count": 32,
     "metadata": {},
     "output_type": "execute_result"
    }
   ],
   "source": [
    "pipe_xgbr['preprocessor'].get_feature_names_out()"
   ]
  },
  {
   "cell_type": "code",
   "execution_count": 33,
   "metadata": {},
   "outputs": [
    {
     "name": "stderr",
     "output_type": "stream",
     "text": [
      "/home/pmu/miniconda3/envs/zhd_transport_price/lib/python3.10/site-packages/seaborn/_oldcore.py:1498: FutureWarning: is_categorical_dtype is deprecated and will be removed in a future version. Use isinstance(dtype, CategoricalDtype) instead\n",
      "  if pd.api.types.is_categorical_dtype(vector):\n",
      "/home/pmu/miniconda3/envs/zhd_transport_price/lib/python3.10/site-packages/seaborn/_oldcore.py:1498: FutureWarning: is_categorical_dtype is deprecated and will be removed in a future version. Use isinstance(dtype, CategoricalDtype) instead\n",
      "  if pd.api.types.is_categorical_dtype(vector):\n",
      "/home/pmu/miniconda3/envs/zhd_transport_price/lib/python3.10/site-packages/seaborn/_oldcore.py:1498: FutureWarning: is_categorical_dtype is deprecated and will be removed in a future version. Use isinstance(dtype, CategoricalDtype) instead\n",
      "  if pd.api.types.is_categorical_dtype(vector):\n"
     ]
    },
    {
     "data": {
      "text/plain": [
       "<Axes: xlabel='importance', ylabel='name'>"
      ]
     },
     "execution_count": 33,
     "metadata": {},
     "output_type": "execute_result"
    },
    {
     "data": {
      "image/png": "[encoded data removed]",
      "text/plain": [
       "<Figure size 640x480 with 1 Axes>"
      ]
     },
     "metadata": {},
     "output_type": "display_data"
    }
   ],
   "source": [
    "# Importing the required data into a Pandas DataFrame\n",
    "importance = pd.DataFrame({\n",
    "    'name': pipe_xgbr['preprocessor'].get_feature_names_out(), # Get names of the features used in the model\n",
    "    'importance': pipe_xgbr['model_xgbr'].feature_importances_ # Get the importance of each feature\n",
    "})\n",
    "\n",
    "# Sorting the data based on the importance of each feature\n",
    "importance.sort_values('importance', ascending=False, inplace=True)\n",
    "\n",
    "# Plotting a barplot of the feature importances using seaborn\n",
    "sns.barplot(data=importance, y='name', x='importance')"
   ]
  },
  {
   "cell_type": "markdown",
   "metadata": {},
   "source": [
    "## Save model"
   ]
  },
  {
   "cell_type": "code",
   "execution_count": 34,
   "metadata": {},
   "outputs": [
    {
     "data": {
      "text/plain": [
       "array([177345.38 , 172601.36 ,  35097.586, 148713.48 , 130451.21 ,\n",
       "       188291.2  , 137078.11 , 114962.93 , 229031.9  ,  90563.055,\n",
       "       139137.81 , 229031.9  ,  45782.68 , 182277.25 , 115028.984,\n",
       "       192678.88 , 176334.38 , 177345.38 , 149863.5  , 181360.6  ,\n",
       "        45782.68 , 183147.78 ,  45782.68 ,  45782.68 , 144454.48 ,\n",
       "       262804.06 , 190919.89 , 278940.6  ,  45782.68 , 150752.86 ,\n",
       "       163515.56 ,  79120.71 ,  45782.68 , 146894.44 ,  45782.68 ,\n",
       "       183147.78 ,  45782.68 , 150806.77 ,  45782.68 , 229031.9  ,\n",
       "       117578.46 , 190919.89 ,  45782.68 , 150713.72 , 117356.97 ,\n",
       "       114167.39 , 195144.62 , 117356.97 ,  45782.68 ,  45782.68 ,\n",
       "       234104.06 , 150700.64 ,  45782.68 , 251995.1  ,  45782.68 ,\n",
       "       175432.48 , 113505.8  , 115028.984, 234104.06 , 131354.45 ,\n",
       "        45782.68 , 213256.88 ,  45782.68 , 255567.89 ,  45782.68 ,\n",
       "        17030.752, 197975.3  , 233784.06 , 174690.44 , 139330.77 ,\n",
       "        45782.68 , 255282.75 , 190279.9  , 218959.66 , 127563.664,\n",
       "       200288.58 , 117356.97 , 146427.47 , 158428.95 ,  45782.68 ,\n",
       "       152131.1  , 155003.52 , 108306.64 , 163014.44 ,  90563.055,\n",
       "       100918.92 , 148329.08 , 166048.2  ,  32067.275,  45782.68 ,\n",
       "       101320.266,  45782.68 , 180235.27 , 149863.5  , 155003.52 ,\n",
       "       101320.266, 258586.78 , 148655.45 , 141416.33 , 251430.97 ,\n",
       "       192567.77 , 172485.95 , 191060.8  , 163821.83 ,  45782.68 ,\n",
       "       137348.33 , 192598.25 , 218959.66 ,  45782.68 , 173673.45 ,\n",
       "       180881.7  ,  73916.625, 101696.41 , 165732.45 , 165422.98 ,\n",
       "        45782.68 , 141584.08 , 162144.72 ,  45782.68 , 177345.38 ,\n",
       "        91718.07 , 144664.08 , 155003.52 , 116107.16 , 108306.64 ,\n",
       "       115385.8  , 146894.44 ,  53624.297, 218959.66 , 197169.36 ,\n",
       "       117356.97 , 139213.19 , 140404.64 ,  45782.68 , 170505.73 ,\n",
       "        80784.12 , 200096.03 ,  45782.68 , 218959.66 , 161616.22 ,\n",
       "       166048.2  , 163014.44 , 161378.1  , 139081.48 , 193742.27 ,\n",
       "       155003.52 ,  91718.07 , 110257.35 , 114629.555,  45782.68 ,\n",
       "       153564.56 ,  51300.63 , 155003.52 , 141416.33 , 169092.03 ,\n",
       "       278940.6  ,  78105.49 , 294648.16 , 141047.67 , 157550.73 ,\n",
       "       164646.34 ,  45782.68 ,  45782.68 , 197014.11 , 265238.8  ,\n",
       "       191841.48 , 169092.03 ,  45782.68 , 197413.86 , 172841.02 ,\n",
       "       155003.52 ,  45782.68 , 128726.21 , 118111.42 , 185692.27 ,\n",
       "        91718.07 , 114629.555, 148760.06 , 169092.03 ,  45782.68 ,\n",
       "        45782.68 ,  45782.68 , 206630.86 , 148360.22 , 129179.5  ,\n",
       "       181757.06 , 138368.67 ,  67622.18 , 162484.72 ,  53624.297,\n",
       "       248087.77 ,  45782.68 , 114629.555, 179712.27 , 110330.91 ,\n",
       "       143796.23 , 177345.38 ,  91718.07 ,  45782.68 , 148737.78 ,\n",
       "        45782.68 , 142565.34 , 101320.266,  45782.68 , 128152.69 ,\n",
       "       129179.5  , 169092.03 , 101320.266,  79120.71 ,  74618.11 ,\n",
       "       157597.12 , 179513.34 ,  45782.68 , 185201.25 ,  45782.68 ,\n",
       "       126188.28 , 188879.9  , 215971.42 , 248087.77 , 173056.52 ,\n",
       "       150185.5  ,  45782.68 ,  45782.68 , 171247.2  ,  45782.68 ,\n",
       "       145692.52 , 158654.38 ,  45782.68 ,  45782.68 , 144768.2  ,\n",
       "       210297.7  ,  45782.68 ,  73916.625, 181972.44 ,  45782.68 ,\n",
       "        45782.68 ,  45782.68 , 101320.266, 189009.31 , 179712.27 ,\n",
       "       163515.56 , 180235.27 , 173076.84 , 150021.52 , 172601.36 ,\n",
       "       153564.56 , 139222.62 , 164973.6  , 177731.69 , 157677.36 ,\n",
       "       179513.34 , 175223.66 , 157550.73 ,  45782.68 ,  45782.68 ,\n",
       "       110330.91 , 117578.46 ,  45782.68 , 150700.64 ,  69575.93 ,\n",
       "        45782.68 , 169092.03 , 114629.555, 138102.27 , 188737.08 ,\n",
       "       145947.34 ,  45782.68 ,  45782.68 , 141518.73 ,  17030.752,\n",
       "       175959.23 ,  45782.68 , 146302.61 , 171247.2  ,  45782.68 ,\n",
       "        90563.055, 126188.28 , 155003.52 ,  45782.68 , 165732.45 ,\n",
       "       182522.53 , 164973.6  ,  79120.71 , 109993.6  , 153963.   ,\n",
       "        45782.68 , 159759.34 , 229031.9  , 114629.555, 114629.555,\n",
       "       179730.33 ,  45782.68 , 152131.1  , 181360.6  ,  32067.275,\n",
       "       161616.22 , 149269.12 , 163014.44 , 159264.89 , 117578.46 ,\n",
       "        45782.68 ,  90563.055, 190255.36 , 185692.27 , 129179.5  ,\n",
       "        53624.297,  55287.31 , 181972.44 , 128726.21 , 192824.95 ,\n",
       "       177071.38 , 157550.73 ,  53624.297,  91516.305, 110330.91 ,\n",
       "       157597.12 , 278940.6  , 166622.34 , 162144.72 , 181360.6  ,\n",
       "        45782.68 , 173076.84 ,  45782.68 , 141047.67 , 148329.08 ,\n",
       "       139222.62 ,  32067.275,  78105.49 , 152131.1  , 191715.52 ,\n",
       "        45782.68 , 183172.75 , 164851.11 , 271451.53 , 170067.5  ,\n",
       "       172841.02 , 210297.7  , 149901.52 ,  53624.297,  45782.68 ,\n",
       "       148372.12 , 177906.2  , 144356.7  , 195144.62 ,  45782.68 ,\n",
       "       145300.66 , 140404.64 , 215971.42 , 236994.19 , 116693.375,\n",
       "       210297.7  , 137078.11 , 157597.12 , 183299.7  , 158428.95 ,\n",
       "        79120.71 , 181972.44 , 139213.19 , 169092.03 ,  35097.586,\n",
       "       172485.95 ,  45782.68 ,  73916.625, 146894.44 , 157513.73 ,\n",
       "       198825.02 ,  78105.49 , 162144.72 , 141518.73 , 148360.22 ,\n",
       "        45782.68 , 163014.44 , 146057.81 , 162294.7  , 117356.97 ,\n",
       "       170503.45 , 185692.27 , 161943.44 , 146548.52 , 145947.34 ,\n",
       "       141518.73 ,  45782.68 , 223542.03 ,  45782.68 ], dtype=float32)"
      ]
     },
     "execution_count": 34,
     "metadata": {},
     "output_type": "execute_result"
    }
   ],
   "source": [
    "\n",
    "logged_model_2 = 'runs:/90c5704b61d54aee903cde0fcde573c4/best_model'\n",
    "\n",
    "# Load model as a PyFuncModel.\n",
    "loaded_model_2 = mlflow.pyfunc.load_model(logged_model_2)\n",
    "\n",
    "loaded_model_2.predict(X_test)"
   ]
  },
  {
   "cell_type": "code",
   "execution_count": 35,
   "metadata": {},
   "outputs": [
    {
     "data": {
      "text/plain": [
       "2020.5654296875"
      ]
     },
     "execution_count": 35,
     "metadata": {},
     "output_type": "execute_result"
    }
   ],
   "source": [
    "abs(y_test - loaded_model_2.predict(X_test)).median()\n"
   ]
  },
  {
   "cell_type": "code",
   "execution_count": 36,
   "metadata": {},
   "outputs": [
    {
     "data": {
      "text/plain": [
       "['best_model.joblib']"
      ]
     },
     "execution_count": 36,
     "metadata": {},
     "output_type": "execute_result"
    }
   ],
   "source": [
    "# joblib.dump(loaded_model_2, \"best_model.joblib\")"
   ]
  },
  {
   "cell_type": "code",
   "execution_count": 49,
   "metadata": {},
   "outputs": [],
   "source": [
    "best_model = joblib.load('model_test.joblib')"
   ]
  },
  {
   "cell_type": "markdown",
   "metadata": {},
   "source": [
    "## API "
   ]
  },
  {
   "cell_type": "code",
   "execution_count": 31,
   "metadata": {},
   "outputs": [
    {
     "data": {
      "text/plain": [
       "<Response [200]>"
      ]
     },
     "execution_count": 31,
     "metadata": {},
     "output_type": "execute_result"
    }
   ],
   "source": [
    "results = requests.get('http://127.0.0.1:8000/test')\n",
    "results"
   ]
  },
  {
   "cell_type": "code",
   "execution_count": 101,
   "metadata": {},
   "outputs": [
    {
     "data": {
      "text/plain": [
       "<Response [200]>"
      ]
     },
     "execution_count": 101,
     "metadata": {},
     "output_type": "execute_result"
    }
   ],
   "source": [
    "output_list = requests.post('http://localhost:8000/xout_list', json=X_test.to_dict(orient='list')) # 2 format # predict  # check mse + all + class\n",
    "output_list"
   ]
  },
  {
   "cell_type": "code",
   "execution_count": 99,
   "metadata": {},
   "outputs": [
    {
     "data": {
      "text/plain": [
       "<Response [200]>"
      ]
     },
     "execution_count": 99,
     "metadata": {},
     "output_type": "execute_result"
    }
   ],
   "source": [
    "output_dict = requests.post('http://localhost:8000/xout_dict', json=X_test.to_dict(orient='dict'))\n",
    "output_dict"
   ]
  },
  {
   "cell_type": "code",
   "execution_count": 50,
   "metadata": {},
   "outputs": [
    {
     "data": {
      "text/plain": [
       "13874.190785725912"
      ]
     },
     "execution_count": 50,
     "metadata": {},
     "output_type": "execute_result"
    }
   ],
   "source": [
    "\n",
    "predict_test = requests.post('http://localhost:8000/predict', json=X_test.to_dict(orient='list'))\n",
    "y_pred = pd.Series(json.loads(predict_test.text))\n",
    "\n",
    "mae = mean_absolute_error(y_test, y_pred)\n",
    "mse = mean_squared_error(y_test, y_pred)\n",
    "mae"
   ]
  },
  {
   "cell_type": "code",
   "execution_count": 94,
   "metadata": {},
   "outputs": [
    {
     "data": {
      "text/plain": [
       "array(<Response [200]>, dtype=object)"
      ]
     },
     "execution_count": 94,
     "metadata": {},
     "output_type": "execute_result"
    }
   ],
   "source": [
    "np.array(predict_test)"
   ]
  },
  {
   "cell_type": "code",
   "execution_count": 44,
   "metadata": {},
   "outputs": [
    {
     "data": {
      "text/plain": [
       "array([179031.58 , 169882.81 ,  34546.555, 149143.84 , 129089.52 ,\n",
       "       188839.25 , 137133.22 , 115105.266, 228823.34 ,  90926.86 ,\n",
       "       139675.31 , 228823.34 ,  46101.71 , 182549.77 , 118209.73 ,\n",
       "       193120.52 , 175533.39 , 179031.58 , 147918.95 , 179934.22 ,\n",
       "        46101.71 , 182840.88 ,  46101.71 ,  46101.71 , 146789.19 ,\n",
       "       262966.   , 194121.47 , 278859.9  ,  46101.71 , 150995.25 ,\n",
       "       163135.03 ,  79838.42 ,  46101.71 , 148925.27 ,  46101.71 ,\n",
       "       182840.88 ,  46101.71 , 151043.19 ,  46101.71 , 228823.34 ,\n",
       "       117699.305, 194121.47 ,  46101.71 , 150042.38 , 119679.445,\n",
       "       114790.28 , 196185.47 , 119679.445,  46101.71 ,  46101.71 ,\n",
       "       237012.66 , 150074.98 ,  46101.71 , 251653.3  ,  46101.71 ,\n",
       "       170753.36 , 117953.52 , 118209.73 , 237012.66 , 122870.46 ,\n",
       "        46101.71 , 211291.8  ,  46101.71 , 254643.97 ,  46101.71 ,\n",
       "        16796.334, 192953.58 , 230929.42 , 178800.56 , 139861.03 ,\n",
       "        46101.71 , 256232.38 , 185407.77 , 220038.77 , 132790.4  ,\n",
       "       191479.81 , 119679.445, 146660.44 , 159300.38 ,  46101.71 ,\n",
       "       150371.12 , 156661.53 , 109738.56 , 161873.56 ,  90926.86 ,\n",
       "        98617.05 , 148967.22 , 165816.6  ,  34771.324,  46101.71 ,\n",
       "       101753.69 ,  46101.71 , 180063.52 , 147918.95 , 156661.53 ,\n",
       "       101753.69 , 257983.95 , 144875.44 , 141520.55 , 249676.52 ,\n",
       "       193578.25 , 173795.73 , 192631.12 , 163879.1  ,  46101.71 ,\n",
       "       137178.44 , 193578.25 , 220038.77 ,  46101.71 , 172667.34 ,\n",
       "       188373.19 ,  71607.61 , 101753.69 , 166371.17 , 166616.88 ,\n",
       "        46101.71 , 141557.53 , 162766.39 ,  46101.71 , 179031.58 ,\n",
       "        91285.01 , 144166.02 , 156661.53 , 118157.805, 109738.56 ,\n",
       "       114946.03 , 148925.27 ,  55604.785, 220038.77 , 196106.45 ,\n",
       "       119679.445, 139603.33 , 139086.55 ,  46101.71 , 168477.19 ,\n",
       "        77050.12 , 200200.89 ,  46101.71 , 220038.77 , 162766.39 ,\n",
       "       165816.6  , 161873.56 , 163153.88 , 139599.31 , 193615.14 ,\n",
       "       156661.53 ,  91285.01 , 112063.72 , 114843.06 ,  46101.71 ,\n",
       "       152955.5  ,  53477.2  , 156661.53 , 141520.55 , 168012.39 ,\n",
       "       278859.9  ,  78640.86 , 292253.94 , 141936.   , 158185.58 ,\n",
       "       160900.94 ,  46101.71 ,  46101.71 , 200053.72 , 265583.06 ,\n",
       "       193910.69 , 168012.39 ,  46101.71 , 199918.94 , 170584.72 ,\n",
       "       156661.53 ,  46101.71 , 128410.38 , 116110.26 , 184916.62 ,\n",
       "        91285.01 , 114843.06 , 147255.6  , 168012.39 ,  46101.71 ,\n",
       "        46101.71 ,  46101.71 , 207471.92 , 148857.6  , 125143.586,\n",
       "       181265.05 , 138723.28 ,  70787.56 , 162769.5  ,  55604.785,\n",
       "       247818.5  ,  46101.71 , 114843.06 , 180009.97 , 112063.72 ,\n",
       "       146533.   , 179031.58 ,  91285.01 ,  46101.71 , 150789.75 ,\n",
       "        46101.71 , 137469.53 , 101753.69 ,  46101.71 , 132018.89 ,\n",
       "       125143.586, 168012.39 , 101753.69 ,  79838.42 ,  75346.96 ,\n",
       "       154403.86 , 180009.97 ,  46101.71 , 185112.02 ,  46101.71 ,\n",
       "       127758.44 , 190602.34 , 215284.94 , 247818.5  , 173540.61 ,\n",
       "       149020.69 ,  46101.71 ,  46101.71 , 171548.25 ,  46101.71 ,\n",
       "       148287.77 , 160317.8  ,  46101.71 ,  46101.71 , 145261.42 ,\n",
       "       207060.44 ,  46101.71 ,  71607.61 , 177826.72 ,  46101.71 ,\n",
       "        46101.71 ,  46101.71 , 101753.69 , 185386.02 , 180009.97 ,\n",
       "       163135.03 , 180063.52 , 173517.47 , 110688.19 , 169882.81 ,\n",
       "       152955.5  , 139603.33 , 165444.98 , 171589.12 , 161377.6  ,\n",
       "       180009.97 , 181409.84 , 158185.58 ,  46101.71 ,  46101.71 ,\n",
       "       112063.72 , 117699.305,  46101.71 , 150074.98 ,  71387.59 ,\n",
       "        46101.71 , 168012.39 , 114843.06 , 139598.45 , 190465.23 ,\n",
       "       143178.23 ,  46101.71 ,  46101.71 , 141557.53 ,  16796.334,\n",
       "       176776.33 ,  46101.71 , 146564.16 , 171548.25 ,  46101.71 ,\n",
       "        90926.86 , 127758.44 , 156661.53 ,  46101.71 , 166371.17 ,\n",
       "       182445.12 , 165444.98 ,  79838.42 , 109625.32 , 168877.22 ,\n",
       "        46101.71 , 159583.72 , 228823.34 , 114843.06 , 114843.06 ,\n",
       "       179368.3  ,  46101.71 , 150371.12 , 179934.22 ,  34771.324,\n",
       "       162766.39 , 150239.52 , 161873.56 , 158051.88 , 117699.305,\n",
       "        46101.71 ,  90926.86 , 190766.48 , 184916.62 , 125143.586,\n",
       "        55604.785,  67897.17 , 177826.72 , 128410.38 , 192831.95 ,\n",
       "       186680.39 , 158185.58 ,  55604.785,  89904.81 , 112063.72 ,\n",
       "       154403.86 , 278859.9  , 167185.03 , 162766.39 , 179934.22 ,\n",
       "        46101.71 , 173517.47 ,  46101.71 , 141936.   , 148967.22 ,\n",
       "       139603.33 ,  34771.324,  78640.86 , 150371.12 , 192660.4  ,\n",
       "        46101.71 , 183442.64 , 165196.08 , 270881.94 , 168609.58 ,\n",
       "       170584.72 , 207060.44 , 151177.36 ,  55604.785,  46101.71 ,\n",
       "       148967.22 , 179124.39 , 148087.1  , 196185.47 ,  46101.71 ,\n",
       "       148346.03 , 139086.55 , 215284.94 , 237467.7  , 116600.95 ,\n",
       "       207060.44 , 137133.22 , 154403.86 , 182778.42 , 159300.38 ,\n",
       "        79838.42 , 177826.72 , 139603.33 , 168012.39 ,  34546.555,\n",
       "       173795.73 ,  46101.71 ,  71607.61 , 148925.27 , 158149.78 ,\n",
       "       199776.33 ,  78640.86 , 162766.39 , 141557.53 , 148742.06 ,\n",
       "        46101.71 , 161873.56 , 146159.48 , 162766.39 , 119679.445,\n",
       "       169507.67 , 184916.62 , 163238.88 , 146673.77 , 143178.23 ,\n",
       "       141557.53 ,  46101.71 , 224413.28 ,  46101.71 ], dtype=float32)"
      ]
     },
     "execution_count": 44,
     "metadata": {},
     "output_type": "execute_result"
    }
   ],
   "source": [
    "model = joblib.load('model_test.joblib')\n",
    "model.predict(X_test)"
   ]
  },
  {
   "cell_type": "code",
   "execution_count": null,
   "metadata": {},
   "outputs": [
    {
     "data": {
      "text/plain": [
       "{'text': {'test': 'text name'}}"
      ]
     },
     "execution_count": 72,
     "metadata": {},
     "output_type": "execute_result"
    }
   ],
   "source": [
    "text = 'text name'\n",
    "\n",
    "print_text = requests.post('http://127.0.0.1:8000/text', json={'test': text})\n",
    "print_text.json()"
   ]
  }
 ],
 "metadata": {
  "kernelspec": {
   "display_name": "Python 3 (ipykernel)",
   "language": "python",
   "name": "python3"
  },
  "language_info": {
   "codemirror_mode": {
    "name": "ipython",
    "version": 3
   },
   "file_extension": ".py",
   "mimetype": "text/x-python",
   "name": "python",
   "nbconvert_exporter": "python",
   "pygments_lexer": "ipython3",
   "version": "3.10.13"
  }
 },
 "nbformat": 4,
 "nbformat_minor": 2
}
